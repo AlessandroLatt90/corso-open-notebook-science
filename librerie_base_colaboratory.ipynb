{
  "nbformat": 4,
  "nbformat_minor": 0,
  "metadata": {
    "colab": {
      "name": "base.ipynb",
      "version": "0.3.2",
      "provenance": [],
      "collapsed_sections": [],
      "toc_visible": true,
      "include_colab_link": true
    },
    "kernelspec": {
      "name": "python3",
      "display_name": "Python 3"
    }
  },
  "cells": [
    {
      "cell_type": "markdown",
      "metadata": {
        "id": "view-in-github",
        "colab_type": "text"
      },
      "source": [
        "[View in Colaboratory](https://colab.research.google.com/github/datalifelab/corso-open-notebook-science/blob/master/librerie_base_colaboratory.ipynb)"
      ]
    },
    {
      "metadata": {
        "id": "QoZ8cRkD3oRm",
        "colab_type": "text"
      },
      "cell_type": "markdown",
      "source": [
        "# Settaggio di partenza per gli esercizi in classe\n",
        "## Questo notebook contiene alcune librerie per lavorare in modo integrato nell'ecosistema di google drive:\n",
        "### Aprire fogli di calcolo di google\n",
        "### Effettuare la pulizia della matrice dall'importazione\n",
        "\n",
        "[link a colaboratory per effettuare una copia](https://colab.research.google.com/github/datalifelab/corso-open-notebook-science/blob/master/librerie_base_colaboratory.ipynb)\n",
        " \n",
        "* Aperto il link per poter effettuare le elaborazioni \n",
        "File-> Save a copy in drive"
      ]
    },
    {
      "metadata": {
        "id": "_Kr4X18B_l3G",
        "colab_type": "code",
        "colab": {
          "base_uri": "https://localhost:8080/",
          "height": 35
        },
        "outputId": "25337e87-32b7-4b4e-fc7f-a1a82d4e3c4f"
      },
      "cell_type": "code",
      "source": [
        "%%html\n",
        "<marquee style='width: 100%; color: blue;'><b>Buon divertimento!!</b></marquee>"
      ],
      "execution_count": 1,
      "outputs": [
        {
          "output_type": "display_data",
          "data": {
            "text/html": [
              "<marquee style='width: 100%; color: blue;'><b>Buon divertimento!!</b></marquee>"
            ],
            "text/plain": [
              "<IPython.core.display.HTML object>"
            ]
          },
          "metadata": {
            "tags": []
          }
        }
      ]
    },
    {
      "metadata": {
        "id": "J8I9-KW1B4Sk",
        "colab_type": "code",
        "colab": {
          "base_uri": "https://localhost:8080/",
          "height": 384
        },
        "outputId": "282bdc4b-3935-444d-f61c-8339b02af8d3"
      },
      "cell_type": "code",
      "source": [
        "#effettuo l'importazione della libreria per il controllo del sistema operativo\n",
        "import os\n",
        "#effettuo l'importazione della libreria statistica Pandas\n",
        "import pandas as pd\n",
        "import matplotlib.pyplot as plt\n",
        "!pip install git+https://github.com/mwaskom/seaborn.git\n",
        "import seaborn as sns"
      ],
      "execution_count": 2,
      "outputs": [
        {
          "output_type": "stream",
          "text": [
            "Collecting git+https://github.com/mwaskom/seaborn.git\n",
            "  Cloning https://github.com/mwaskom/seaborn.git to /tmp/pip-req-build-i7qamibp\n",
            "Requirement already satisfied: numpy>=1.9.3 in /usr/local/lib/python3.6/dist-packages (from seaborn==0.9.0) (1.14.6)\n",
            "Requirement already satisfied: scipy>=0.14.0 in /usr/local/lib/python3.6/dist-packages (from seaborn==0.9.0) (0.19.1)\n",
            "Requirement already satisfied: pandas>=0.15.2 in /usr/local/lib/python3.6/dist-packages (from seaborn==0.9.0) (0.22.0)\n",
            "Requirement already satisfied: matplotlib>=1.4.3 in /usr/local/lib/python3.6/dist-packages (from seaborn==0.9.0) (2.1.2)\n",
            "Requirement already satisfied: pytz>=2011k in /usr/local/lib/python3.6/dist-packages (from pandas>=0.15.2->seaborn==0.9.0) (2018.5)\n",
            "Requirement already satisfied: python-dateutil>=2 in /usr/local/lib/python3.6/dist-packages (from pandas>=0.15.2->seaborn==0.9.0) (2.5.3)\n",
            "Requirement already satisfied: six>=1.10 in /usr/local/lib/python3.6/dist-packages (from matplotlib>=1.4.3->seaborn==0.9.0) (1.11.0)\n",
            "Requirement already satisfied: pyparsing!=2.0.4,!=2.1.2,!=2.1.6,>=2.0.1 in /usr/local/lib/python3.6/dist-packages (from matplotlib>=1.4.3->seaborn==0.9.0) (2.2.2)\n",
            "Requirement already satisfied: cycler>=0.10 in /usr/local/lib/python3.6/dist-packages (from matplotlib>=1.4.3->seaborn==0.9.0) (0.10.0)\n",
            "Building wheels for collected packages: seaborn\n",
            "  Running setup.py bdist_wheel for seaborn ... \u001b[?25l-\b \b\\\b \bdone\n",
            "\u001b[?25h  Stored in directory: /tmp/pip-ephem-wheel-cache-lzdpqteo/wheels/4e/57/af/138c7bf2390a67f7010588cf080fb8b4e741bb290c2ad12018\n",
            "Successfully built seaborn\n",
            "Installing collected packages: seaborn\n",
            "  Found existing installation: seaborn 0.7.1\n",
            "    Uninstalling seaborn-0.7.1:\n",
            "      Successfully uninstalled seaborn-0.7.1\n",
            "Successfully installed seaborn-0.9.0\n"
          ],
          "name": "stdout"
        }
      ]
    },
    {
      "metadata": {
        "id": "oHUVasHH5iqj",
        "colab_type": "code",
        "colab": {}
      },
      "cell_type": "code",
      "source": [
        "!pip install --upgrade -q gspread"
      ],
      "execution_count": 0,
      "outputs": []
    },
    {
      "metadata": {
        "id": "g-7vLbOt7T9F",
        "colab_type": "code",
        "colab": {
          "base_uri": "https://localhost:8080/",
          "height": 228
        },
        "outputId": "185a812b-bfa1-4ce1-98b2-aab62c7862c0"
      },
      "cell_type": "code",
      "source": [
        "!wget https://raw.githubusercontent.com/datalifelab/corso-open-notebook-science/master/marradi.py\n",
        "\n",
        "  \n",
        "from marradi import *\n",
        "#importa marradi:\n",
        "# 1 - dist_frequenza(matrice, colonna, save = False, tipo = \"categoriale\" , lista_ordinale = False):\n",
        "#    '''\n",
        "#    matrice: passare un dataframe di pandas\n",
        "#    colonna: indicare la colonna su cui effettuare la distribuzione di frequenza\n",
        "#    save: [False oppure nome del file] scegli se salvare o meno la tabella in excel\n",
        "#    tipo: \n",
        "#        \"categoriale\": classi non ordinate\n",
        "#        \"ordinale\": classi ordinate\n",
        "#        \"cardinale\": valori numerici\n",
        "#    lista_ordinale: una lista di valori attraverso il cui ordinare il risultato del tipo ordinale\n",
        "#    '''\n",
        "\n",
        "\n",
        "#def tabella_di_contingenza(dataframe, colonna_A, colonna_B, ordine_A = False, ordine_B = False, informativo = False):\n",
        "#    '''\n",
        "#    dataframe: inserire la tabella su cui si vuole fare la tabulazione incrociata\n",
        "#    colonna_A: inserire la stringa di testo che rappresenta l'intestazione della singola colonna\n",
        "#    colonna_B: inserire la stringa di testo che rappresenta l'intestazione della singola colonna\n",
        "#    ordine_A: inserire una lista di valori rappresentativi dell'ordine delle categorie della colonna A\n",
        "#    ordine_B: inserire una lista di valori rappresentativi dell'ordine delle categorie della colonna B\n",
        "#    informativo: True, permette di avere in una stessa tabella frequenze, frequenze attese e scarti. \n",
        "#    '''"
      ],
      "execution_count": 4,
      "outputs": [
        {
          "output_type": "stream",
          "text": [
            "--2018-10-21 20:23:47--  https://raw.githubusercontent.com/datalifelab/corso-open-notebook-science/master/marradi.py\n",
            "Resolving raw.githubusercontent.com (raw.githubusercontent.com)... 151.101.0.133, 151.101.64.133, 151.101.128.133, ...\n",
            "Connecting to raw.githubusercontent.com (raw.githubusercontent.com)|151.101.0.133|:443... connected.\n",
            "HTTP request sent, awaiting response... 200 OK\n",
            "Length: 5248 (5.1K) [text/plain]\n",
            "Saving to: ‘marradi.py’\n",
            "\n",
            "\rmarradi.py            0%[                    ]       0  --.-KB/s               \rmarradi.py          100%[===================>]   5.12K  --.-KB/s    in 0s      \n",
            "\n",
            "2018-10-21 20:23:47 (56.8 MB/s) - ‘marradi.py’ saved [5248/5248]\n",
            "\n"
          ],
          "name": "stdout"
        }
      ]
    },
    {
      "metadata": {
        "id": "da65qfUKCAy0",
        "colab_type": "code",
        "colab": {}
      },
      "cell_type": "code",
      "source": [
        "#Effettuo le librerie che mi autorizzano ad accedere ai file di google drive\n",
        "from google.colab import auth\n",
        "auth.authenticate_user()\n",
        "\n",
        "import gspread\n",
        "from oauth2client.client import GoogleCredentials\n",
        "\n",
        "#richiedo le credenziali: apre delle istruzioni e link da seguire per completare\n",
        "#la procedura\n",
        "gc = gspread.authorize(GoogleCredentials.get_application_default())\n",
        "\n"
      ],
      "execution_count": 0,
      "outputs": []
    },
    {
      "metadata": {
        "id": "2qMLlmidCLuz",
        "colab_type": "code",
        "colab": {}
      },
      "cell_type": "code",
      "source": [
        "def download_gspread(file_name, sheet_name = \"Foglio1\", key = False, format = \"wide\", virgola_italiano = False):\n",
        "  '''questa funzione, dato il nome del file di google spreadsheet\n",
        "  e dello specifico foglio di calcolo (opzionale) di google\n",
        "  restituisce un dataframe di pandas\n",
        "  file_name: str \n",
        "  sheet_name: str\n",
        "  key: boolean\n",
        "  format: [\"wide\", \"long\", None]\n",
        "  '''\n",
        "  \n",
        "  def str_to_float(cell):\n",
        "    '''trasforma in decimale \n",
        "    tutti i valori stringa contententi \n",
        "    valori numerici, anche quelli che hanno punti per migliaia e milioni e virgole\n",
        "    come decimali'''\n",
        "    \n",
        "    try:\n",
        "      if virgola_italiano == True:\n",
        "        cell = \"\".join(cell.split(\".\"))\n",
        "      else:\n",
        "        pass\n",
        "      cell = cell.replace(\",\", \".\")\n",
        "      cell = cell.strip()\n",
        "      cell = float(cell)\n",
        "    except:\n",
        "      cell = cell\n",
        "    return cell\n",
        "  \n",
        "  #questo comando scarica il foglio 1 del foglio di calcolo\n",
        "  if key == False:\n",
        "    if sheet_name == \"Foglio1\":\n",
        "      worksheet = gc.open(file_name).sheet1\n",
        "    else:\n",
        "      worksheet = gc.open(file_name).worksheet(sheet_name)\n",
        "  elif key == True:\n",
        "    if sheet_name == \"Foglio1\":\n",
        "      worksheet = gc.open_by_key(file_name).sheet1\n",
        "    else:\n",
        "      worksheet = gc.open_by_key(file_name).worksheet(sheet_name)\n",
        "    \n",
        "  # prendo tutte le righe del foglio\n",
        "  rows = worksheet.get_all_values()\n",
        "\n",
        "  # Converto in DataFrame di Pandas ed effettuo la pulizia dei dati con la funzione\n",
        "  # str_to_float\n",
        "  \n",
        "  dati = pd.DataFrame.from_records(rows)\n",
        "  if format == \"wide\":\n",
        "    dati.columns = dati.loc[0]\n",
        "    dati = dati.drop(0, axis = 0)  \n",
        "  else:\n",
        "    pass\n",
        "  #converte. dove necessario stringhe verso decimali\n",
        "  dati = dati.applymap(str_to_float)\n",
        "  dati = dati.apply(lambda x: pd.to_numeric(x, errors='ignore'))\n",
        "  return dati"
      ],
      "execution_count": 0,
      "outputs": []
    },
    {
      "metadata": {
        "id": "Ex33RwSxCm6A",
        "colab_type": "code",
        "colab": {}
      },
      "cell_type": "code",
      "source": [
        "#dataset = download_gspread(\"inserire_\")\n",
        "# https://docs.google.com/spreadsheets/d/1YEnbybH0KhX64kArxHjb74xBd16yCn1VL7Xs3SPG9PA/edit?usp=sharing\n",
        "\n",
        "#oppure inserire un file excel o csv dal menù sulla destra\n",
        "#dataset = pd.read_excel(\"nome_del_file.xslx\")"
      ],
      "execution_count": 0,
      "outputs": []
    },
    {
      "metadata": {
        "id": "kZLwZCOHVaZx",
        "colab_type": "code",
        "colab": {}
      },
      "cell_type": "code",
      "source": [
        ""
      ],
      "execution_count": 0,
      "outputs": []
    },
    {
      "metadata": {
        "id": "9CsYALkzUXt1",
        "colab_type": "code",
        "colab": {}
      },
      "cell_type": "code",
      "source": [
        ""
      ],
      "execution_count": 0,
      "outputs": []
    }
  ]
}