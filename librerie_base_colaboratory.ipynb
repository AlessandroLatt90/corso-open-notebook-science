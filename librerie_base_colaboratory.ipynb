{
  "nbformat": 4,
  "nbformat_minor": 0,
  "metadata": {
    "colab": {
      "name": "base.ipynb",
      "version": "0.3.2",
      "provenance": [],
      "collapsed_sections": [],
      "include_colab_link": true
    },
    "kernelspec": {
      "name": "python3",
      "display_name": "Python 3"
    }
  },
  "cells": [
    {
      "cell_type": "markdown",
      "metadata": {
        "id": "view-in-github",
        "colab_type": "text"
      },
      "source": [
        "[![Open In Colab](https://colab.research.google.com/assets/colab-badge.svg)](https://colab.research.google.com/github/datalifelab/corso-open-notebook-science/blob/master/librerie_base_colaboratory.ipynb)"
      ]
    },
    {
      "metadata": {
        "id": "QoZ8cRkD3oRm",
        "colab_type": "text"
      },
      "cell_type": "markdown",
      "source": [
        "# Corso su Colaboratory\n",
        "## Questo notebook contiene alcune librerie per lavorare in modo integrato nell'ecosistema di google drive:\n",
        "### Aprire fogli di calcolo di google\n",
        "### Effettuare la pulizia della matrice dall'importazione\n"
      ]
    },
    {
      "metadata": {
        "id": "_Kr4X18B_l3G",
        "colab_type": "code",
        "colab": {}
      },
      "cell_type": "code",
      "source": [
        "%%html\n",
        "<marquee style='width: 100%; color: blue;'><b>Buon divertimento!!</b></marquee>"
      ],
      "execution_count": 0,
      "outputs": []
    },
    {
      "metadata": {
        "id": "J8I9-KW1B4Sk",
        "colab_type": "code",
        "colab": {}
      },
      "cell_type": "code",
      "source": [
        "#effettuo l'importazione della libreria per il controllo del sistema operativo\n",
        "import os\n",
        "#effettuo l'importazione della libreria statistica Pandas\n",
        "import pandas as pd\n",
        "import matplotlib.pyplot as plt\n",
        "!pip install git+https://github.com/mwaskom/seaborn.git\n",
        "import seaborn as sns"
      ],
      "execution_count": 0,
      "outputs": []
    },
    {
      "metadata": {
        "id": "oHUVasHH5iqj",
        "colab_type": "code",
        "colab": {}
      },
      "cell_type": "code",
      "source": [
        "!pip install --upgrade -q gspread"
      ],
      "execution_count": 0,
      "outputs": []
    },
    {
      "metadata": {
        "id": "g-7vLbOt7T9F",
        "colab_type": "code",
        "colab": {}
      },
      "cell_type": "code",
      "source": [
        ""
      ],
      "execution_count": 0,
      "outputs": []
    },
    {
      "metadata": {
        "id": "da65qfUKCAy0",
        "colab_type": "code",
        "colab": {}
      },
      "cell_type": "code",
      "source": [
        "#Effettuo le librerie che mi autorizzano ad accedere ai file di google drive\n",
        "from google.colab import auth\n",
        "auth.authenticate_user()\n",
        "\n",
        "import gspread\n",
        "from oauth2client.client import GoogleCredentials\n",
        "\n",
        "#richiedo le credenziali: apre delle istruzioni e link da seguire per completare\n",
        "#la procedura\n",
        "gc = gspread.authorize(GoogleCredentials.get_application_default())\n",
        "\n"
      ],
      "execution_count": 0,
      "outputs": []
    },
    {
      "metadata": {
        "id": "2qMLlmidCLuz",
        "colab_type": "code",
        "colab": {}
      },
      "cell_type": "code",
      "source": [
        "def download_gspread(file_name, sheet_name = \"Foglio1\", key = False, format = \"wide\", virgola_italiano = False):\n",
        "  '''questa funzione, dato il nome del file di google spreadsheet\n",
        "  e dello specifico foglio di calcolo (opzionale) di google\n",
        "  restituisce un dataframe di pandas\n",
        "  file_name: str \n",
        "  sheet_name: str\n",
        "  key: boolean\n",
        "  format: [\"wide\", \"long\", None]\n",
        "  '''\n",
        "  \n",
        "  def str_to_float(cell):\n",
        "    '''trasforma in decimale \n",
        "    tutti i valori stringa contententi \n",
        "    valori numerici, anche quelli che hanno punti per migliaia e milioni e virgole\n",
        "    come decimali'''\n",
        "    \n",
        "    try:\n",
        "      if virgola_italiano == True:\n",
        "        cell = \"\".join(cell.split(\".\"))\n",
        "      else:\n",
        "        pass\n",
        "      cell = cell.replace(\",\", \".\")\n",
        "      cell = cell.strip()\n",
        "      cell = float(cell)\n",
        "    except:\n",
        "      cell = cell\n",
        "    return cell\n",
        "  \n",
        "  #questo comando scarica il foglio 1 del foglio di calcolo\n",
        "  if key == False:\n",
        "    if sheet_name == \"Foglio1\":\n",
        "      worksheet = gc.open(file_name).sheet1\n",
        "    else:\n",
        "      worksheet = gc.open(file_name).worksheet(sheet_name)\n",
        "  elif key == True:\n",
        "    if sheet_name == \"Foglio1\":\n",
        "      worksheet = gc.open_by_key(file_name).sheet1\n",
        "    else:\n",
        "      worksheet = gc.open_by_key(file_name).worksheet(sheet_name)\n",
        "    \n",
        "  # prendo tutte le righe del foglio\n",
        "  rows = worksheet.get_all_values()\n",
        "\n",
        "  # Converto in DataFrame di Pandas ed effettuo la pulizia dei dati con la funzione\n",
        "  # str_to_float\n",
        "  \n",
        "  dati = pd.DataFrame.from_records(rows)\n",
        "  if format == \"wide\":\n",
        "    dati.columns = dati.loc[0]\n",
        "    dati = dati.drop(0, axis = 0)  \n",
        "  else:\n",
        "    pass\n",
        "  #converte. dove necessario stringhe verso decimali\n",
        "  dati = dati.applymap(str_to_float)\n",
        "  dati = dati.apply(lambda x: pd.to_numeric(x, errors='ignore'))\n",
        "  return dati"
      ],
      "execution_count": 0,
      "outputs": []
    },
    {
      "metadata": {
        "id": "Ex33RwSxCm6A",
        "colab_type": "code",
        "colab": {}
      },
      "cell_type": "code",
      "source": [
        "dataset = download_gspread(\"inserire\")\n",
        "# https://docs.google.com/spreadsheets/d/1YEnbybH0KhX64kArxHjb74xBd16yCn1VL7Xs3SPG9PA/edit?usp=sharing"
      ],
      "execution_count": 0,
      "outputs": []
    },
    {
      "metadata": {
        "id": "kZLwZCOHVaZx",
        "colab_type": "code",
        "colab": {}
      },
      "cell_type": "code",
      "source": [
        ""
      ],
      "execution_count": 0,
      "outputs": []
    }
  ]
}