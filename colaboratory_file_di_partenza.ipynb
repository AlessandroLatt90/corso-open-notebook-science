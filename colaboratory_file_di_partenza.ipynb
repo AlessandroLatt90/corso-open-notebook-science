{
  "nbformat": 4,
  "nbformat_minor": 0,
  "metadata": {
    "colab": {
      "name": "colaboratory_file_di_partenza.ipynb",
      "provenance": [],
      "collapsed_sections": [],
      "toc_visible": true
    },
    "kernelspec": {
      "name": "python3",
      "display_name": "Python 3"
    }
  },
  "cells": [
    {
      "cell_type": "markdown",
      "metadata": {
        "id": "zRnVvkVawf2k",
        "colab_type": "text"
      },
      "source": [
        "\n",
        "#  Corso su Colaboratory\n",
        "## Questo notebook contiene la configurazione di base per poter lavorare con le librerie semplificate datalifelab\n",
        "Configurazione del file di colaboratory - non modificare.\n",
        "\n",
        "Nella seguente cella vengono scaricate ed installate le librerie necessarie per lavorare\n"
      ]
    },
    {
      "cell_type": "code",
      "metadata": {
        "id": "Bip3VkW1ZSK6",
        "colab_type": "code",
        "outputId": "768b4195-22b8-4a04-e117-3373a9c9afad",
        "colab": {
          "base_uri": "https://localhost:8080/",
          "height": 701
        }
      },
      "source": [
        "!wget https://raw.githubusercontent.com/datalifelab/corso-open-notebook-science/master/marradi.py\n",
        "!wget https://raw.githubusercontent.com/datalifelab/corso-open-notebook-science/master/tools.py\n",
        "#!wget https://raw.githubusercontent.com/datalifelab/corso-open-notebook-science/master/prepare_vm.py\n",
        "\n",
        "from prepare_vm import *"
      ],
      "execution_count": 2,
      "outputs": [
        {
          "output_type": "stream",
          "text": [
            "--2019-09-27 16:17:57--  https://raw.githubusercontent.com/datalifelab/corso-open-notebook-science/master/marradi.py\n",
            "Resolving raw.githubusercontent.com (raw.githubusercontent.com)... 151.101.0.133, 151.101.64.133, 151.101.128.133, ...\n",
            "Connecting to raw.githubusercontent.com (raw.githubusercontent.com)|151.101.0.133|:443... connected.\n",
            "HTTP request sent, awaiting response... 200 OK\n",
            "Length: 7663 (7.5K) [text/plain]\n",
            "Saving to: ‘marradi.py’\n",
            "\n",
            "\rmarradi.py            0%[                    ]       0  --.-KB/s               \rmarradi.py          100%[===================>]   7.48K  --.-KB/s    in 0s      \n",
            "\n",
            "2019-09-27 16:17:57 (125 MB/s) - ‘marradi.py’ saved [7663/7663]\n",
            "\n",
            "--2019-09-27 16:17:59--  https://raw.githubusercontent.com/datalifelab/corso-open-notebook-science/master/tools.py\n",
            "Resolving raw.githubusercontent.com (raw.githubusercontent.com)... 151.101.0.133, 151.101.64.133, 151.101.128.133, ...\n",
            "Connecting to raw.githubusercontent.com (raw.githubusercontent.com)|151.101.0.133|:443... connected.\n",
            "HTTP request sent, awaiting response... 200 OK\n",
            "Length: 4280 (4.2K) [text/plain]\n",
            "Saving to: ‘tools.py’\n",
            "\n",
            "tools.py            100%[===================>]   4.18K  --.-KB/s    in 0s      \n",
            "\n",
            "2019-09-27 16:18:00 (126 MB/s) - ‘tools.py’ saved [4280/4280]\n",
            "\n",
            "librerie importate: \n",
            "\n",
            "os - libreria per gestire il sistema operativo \n",
            "\n",
            "numpy as np - libreria per gestire matrici di dati \n",
            "\n",
            "pandas as pd - libreria per gestire matrici a 2d ed effettuare analisi dati \n",
            "\n",
            "seabortn as sns - libreria per la visualizzazione dei dati \n",
            "\n",
            "from marradi import dist_frequenza, plot_dist_frequenza, estrai_valore, tabella_di_contingenza \n",
            "\n",
            "from tools import download_gspread \n",
            " \n",
            "\n"
          ],
          "name": "stdout"
        }
      ]
    },
    {
      "cell_type": "code",
      "metadata": {
        "id": "LgEvFy4u31PK",
        "colab_type": "code",
        "colab": {}
      },
      "source": [
        "##### SOLO SU COLABORATORY E PER LAVORARE CON GOOGLE SPREADSHEET #####\n",
        "#Effettuo le librerie che mi autorizzano ad accedere ai file di google drive \n",
        "from google.colab import auth\n",
        "auth.authenticate_user()\n",
        "\n",
        "import gspread\n",
        "from oauth2client.client import GoogleCredentials\n",
        "\n",
        "#richiedo le credenziali: apre delle istruzioni e link da seguire per completare\n",
        "#la procedura\n",
        "gc = gspread.authorize(GoogleCredentials.get_application_default())"
      ],
      "execution_count": 0,
      "outputs": []
    },
    {
      "cell_type": "code",
      "metadata": {
        "id": "HV3Ygdw6397i",
        "colab_type": "code",
        "outputId": "b7df584d-19ff-4fe4-958b-ec3bd866b500",
        "colab": {
          "base_uri": "https://localhost:8080/",
          "height": 303
        }
      },
      "source": [
        "#scarico i dati di valutazione del questionario\n",
        "questionario = download_gspread(\"Libro Codice Paola\", sheet_name='Paola', gc = gc)\n",
        "\n",
        "questionario.head(3)"
      ],
      "execution_count": 4,
      "outputs": [
        {
          "output_type": "execute_result",
          "data": {
            "text/html": [
              "<div>\n",
              "<style scoped>\n",
              "    .dataframe tbody tr th:only-of-type {\n",
              "        vertical-align: middle;\n",
              "    }\n",
              "\n",
              "    .dataframe tbody tr th {\n",
              "        vertical-align: top;\n",
              "    }\n",
              "\n",
              "    .dataframe thead th {\n",
              "        text-align: right;\n",
              "    }\n",
              "</style>\n",
              "<table border=\"1\" class=\"dataframe\">\n",
              "  <thead>\n",
              "    <tr style=\"text-align: right;\">\n",
              "      <th></th>\n",
              "      <th>ID</th>\n",
              "      <th>1_genere</th>\n",
              "      <th>2_AAnascita</th>\n",
              "      <th>3_statoCivile</th>\n",
              "      <th>4_AAimmatricolazione</th>\n",
              "      <th>5_curriculum</th>\n",
              "      <th>6_DefinizioneProfugo</th>\n",
              "      <th>7_FonteInformazioni</th>\n",
              "      <th>8_Numerodiarrivi2018</th>\n",
              "      <th>9_Riace__1_denaro</th>\n",
              "      <th>9_Riace__2_favoreggiamento</th>\n",
              "      <th>9_Riace__3_ azioni sovversione</th>\n",
              "      <th>9_Riace__4_criminalità organizzata</th>\n",
              "      <th>9_Riace__5_trasporto stranieri</th>\n",
              "      <th>10_InfluenzaImmigrazioneSuElezioni</th>\n",
              "      <th>11_provenienzaMigranti</th>\n",
              "      <th>12_influenzaVoto</th>\n",
              "      <th>13_PoliticheMigranti__1_ConstrastoViaMare</th>\n",
              "      <th>13_PoliticheMigranti__2_Trafficanti</th>\n",
              "      <th>13_PoliticheMigranti__3_Espulsione</th>\n",
              "      <th>13_PoliticheMigranti__4_QuoteUE</th>\n",
              "      <th>13_PoliticheMigranti__5_QuoteLavoratori</th>\n",
              "      <th>13_PoliticheMigranti__6_EspulsioneFuoriQuota</th>\n",
              "      <th>13_PoliticheMigranti__7_FinanziamentoAccoglienza</th>\n",
              "      <th>14_efficaciaPolitiche</th>\n",
              "      <th>14_efficaciaPolitiche__4_Altro</th>\n",
              "      <th>15_CausaMigrazioni__NegativitàFenomeno</th>\n",
              "      <th>15_CauseMigrazioni__Emergenza</th>\n",
              "      <th>15_CausaMigrazioni__Frontiere</th>\n",
              "      <th>16_SbarchiUltimoAnno</th>\n",
              "      <th>17_%stranierisultotaledellapopolazione</th>\n",
              "      <th>18_affermazioniPoliticiItaliani</th>\n",
              "      <th>19_NovitàDecretoSicurezza</th>\n",
              "      <th>20_accordoProvvedimenti__1_sostegnoSviluppo</th>\n",
              "      <th>20_accordoProvvedimenti__2_pianificazione</th>\n",
              "      <th>20_accordoProvvedimenti__3_interventiInternazionali</th>\n",
              "      <th>20_accordoProvvedimenti__4_garanziaDiritti</th>\n",
              "      <th>21_Opinioni__1_fuoriControllo</th>\n",
              "      <th>21_Opinioni__2_criminalità</th>\n",
              "      <th>21_Opinioni__3_lavoro</th>\n",
              "      <th>21_Opinioni__4_risorsaEconomica</th>\n",
              "      <th>21_Opinioni__5_disagio</th>\n",
              "      <th>21_Opinioni__6_diffusioneMalattie</th>\n",
              "      <th>21_Opinioni__7_arricchimentoCultura</th>\n",
              "      <th>21_Opinioni__8_LealtàPaeseOrigine</th>\n",
              "      <th>22_accordoAffermazioneRicchezza</th>\n",
              "      <th>23_accordoAffermazioneRazzismo</th>\n",
              "      <th>24_TipoDiploma</th>\n",
              "      <th>24_TipoDiploma_altro</th>\n",
              "      <th>25_TitoloStudioMadre</th>\n",
              "      <th>26_titoloStudioPadre</th>\n",
              "      <th>27_ProfessionePadre</th>\n",
              "      <th>28_professioneMadre</th>\n",
              "      <th>29_CredenzaReligiosa</th>\n",
              "      <th>30_religioneAppartenenza</th>\n",
              "      <th>31_partecipazioneAssociazione</th>\n",
              "      <th>31_partecipazioneAssociazione__1_nomeAssociazione</th>\n",
              "      <th>32_OrientamentoPolitico</th>\n",
              "      <th>32_OrientamentoPolitico__altro</th>\n",
              "      <th>33_ProgressistaConservatore</th>\n",
              "      <th>34_DestraSinistra</th>\n",
              "      <th>35_ frequenzaCanaliinformazioni__1_QuotidianiCartacei</th>\n",
              "      <th>35_ frequenzaCanaliinformazioni__2_QuotidianiOnline</th>\n",
              "      <th>35_ frequenzaCanaliinformazioni__3_TGRai</th>\n",
              "      <th>35_ frequenzaCanaliinformazioni__4_TGPrivate</th>\n",
              "      <th>35_ frequenzaCanaliinformazioni__5_SettimanaliMensili</th>\n",
              "      <th>35_ frequenzaCanaliinformazioni__6_Newsletter</th>\n",
              "      <th>35_ frequenzaCanaliinformazioni__7_Blog</th>\n",
              "      <th>35_ frequenzaCanaliinformazioni__8_SitiIstituzionali</th>\n",
              "      <th>35_ frequenzaCanaliinformazioni__9_MediaIndipendenti</th>\n",
              "      <th>35_ frequenzaCanaliinformazioni__10_NewsRadio</th>\n",
              "      <th>35_ frequenzaCanaliinformazioni__11_Social</th>\n",
              "      <th>NOTE OPERATORE</th>\n",
              "    </tr>\n",
              "  </thead>\n",
              "  <tbody>\n",
              "    <tr>\n",
              "      <th>1</th>\n",
              "      <td>7/11/18_SC POL. MORISI 45</td>\n",
              "      <td>1.0</td>\n",
              "      <td>1999.0</td>\n",
              "      <td>1.0</td>\n",
              "      <td>2018.0</td>\n",
              "      <td>2.0</td>\n",
              "      <td>1.0</td>\n",
              "      <td>4.0</td>\n",
              "      <td>2.0</td>\n",
              "      <td>0.0</td>\n",
              "      <td>2.0</td>\n",
              "      <td>0.0</td>\n",
              "      <td>0.0</td>\n",
              "      <td>5.0</td>\n",
              "      <td>5.0</td>\n",
              "      <td>Tunisia</td>\n",
              "      <td>5.0</td>\n",
              "      <td>1.0</td>\n",
              "      <td>3.0</td>\n",
              "      <td>3.0</td>\n",
              "      <td>4.0</td>\n",
              "      <td>2.0</td>\n",
              "      <td>2.0</td>\n",
              "      <td>4.0</td>\n",
              "      <td>3.0</td>\n",
              "      <td></td>\n",
              "      <td>2.0</td>\n",
              "      <td>6.0</td>\n",
              "      <td>1.0</td>\n",
              "      <td>4.0</td>\n",
              "      <td>13.0</td>\n",
              "      <td>7.0</td>\n",
              "      <td>3.0</td>\n",
              "      <td>2.0</td>\n",
              "      <td>4.0</td>\n",
              "      <td>3.0</td>\n",
              "      <td>4.0</td>\n",
              "      <td>3.0</td>\n",
              "      <td>2.0</td>\n",
              "      <td>1.0</td>\n",
              "      <td>2.0</td>\n",
              "      <td>1.0</td>\n",
              "      <td>1.0</td>\n",
              "      <td>1.0</td>\n",
              "      <td>9.0</td>\n",
              "      <td>3.0</td>\n",
              "      <td>3.0</td>\n",
              "      <td>1.0</td>\n",
              "      <td></td>\n",
              "      <td>5.0</td>\n",
              "      <td>5.0</td>\n",
              "      <td>professore di informatica al liceo</td>\n",
              "      <td>formazione in azienda</td>\n",
              "      <td>1.0</td>\n",
              "      <td>Cristiana cattolica</td>\n",
              "      <td>0.0</td>\n",
              "      <td></td>\n",
              "      <td>1.0</td>\n",
              "      <td></td>\n",
              "      <td>2.0</td>\n",
              "      <td>1.0</td>\n",
              "      <td>0.0</td>\n",
              "      <td>3.0</td>\n",
              "      <td>0.0</td>\n",
              "      <td>0.0</td>\n",
              "      <td>1.0</td>\n",
              "      <td>0.0</td>\n",
              "      <td>3.0</td>\n",
              "      <td>3.0</td>\n",
              "      <td>3.0</td>\n",
              "      <td>3.0</td>\n",
              "      <td>3.0</td>\n",
              "      <td></td>\n",
              "    </tr>\n",
              "    <tr>\n",
              "      <th>2</th>\n",
              "      <td>7/11/18_ SC POL.MORISI 38</td>\n",
              "      <td>2.0</td>\n",
              "      <td>1998.0</td>\n",
              "      <td>1.0</td>\n",
              "      <td>2018.0</td>\n",
              "      <td>2.0</td>\n",
              "      <td>1.0</td>\n",
              "      <td>1.0</td>\n",
              "      <td>3.0</td>\n",
              "      <td>1.0</td>\n",
              "      <td>2.0</td>\n",
              "      <td>0.0</td>\n",
              "      <td>4.0</td>\n",
              "      <td>0.0</td>\n",
              "      <td>5.0</td>\n",
              "      <td>Libia</td>\n",
              "      <td>4.0</td>\n",
              "      <td>1.0</td>\n",
              "      <td>4.0</td>\n",
              "      <td>3.0</td>\n",
              "      <td>4.0</td>\n",
              "      <td>2.0</td>\n",
              "      <td>9.0</td>\n",
              "      <td>1.0</td>\n",
              "      <td>3.0</td>\n",
              "      <td></td>\n",
              "      <td>4.0</td>\n",
              "      <td>4.0</td>\n",
              "      <td>2.0</td>\n",
              "      <td>3.0</td>\n",
              "      <td>20.0</td>\n",
              "      <td>4.0</td>\n",
              "      <td>9.0</td>\n",
              "      <td>3.0</td>\n",
              "      <td>4.0</td>\n",
              "      <td>3.0</td>\n",
              "      <td>3.0</td>\n",
              "      <td>2.0</td>\n",
              "      <td>1.0</td>\n",
              "      <td>1.0</td>\n",
              "      <td>3.0</td>\n",
              "      <td>2.0</td>\n",
              "      <td>2.0</td>\n",
              "      <td>1.0</td>\n",
              "      <td>2.0</td>\n",
              "      <td>2.0</td>\n",
              "      <td>2.0</td>\n",
              "      <td>3.0</td>\n",
              "      <td></td>\n",
              "      <td>2.0</td>\n",
              "      <td>2.0</td>\n",
              "      <td>libero professionista</td>\n",
              "      <td>commerciante</td>\n",
              "      <td>1.0</td>\n",
              "      <td>cristianesimo</td>\n",
              "      <td>0.0</td>\n",
              "      <td></td>\n",
              "      <td>99.0</td>\n",
              "      <td></td>\n",
              "      <td>3.0</td>\n",
              "      <td>5.0</td>\n",
              "      <td>1.0</td>\n",
              "      <td>0.0</td>\n",
              "      <td>0.0</td>\n",
              "      <td>3.0</td>\n",
              "      <td>0.0</td>\n",
              "      <td>0.0</td>\n",
              "      <td>0.0</td>\n",
              "      <td>0.0</td>\n",
              "      <td>2.0</td>\n",
              "      <td>3.0</td>\n",
              "      <td>4.0</td>\n",
              "      <td></td>\n",
              "    </tr>\n",
              "    <tr>\n",
              "      <th>3</th>\n",
              "      <td>7/11/18_ SC POL. MORISI 39</td>\n",
              "      <td>2.0</td>\n",
              "      <td>1999.0</td>\n",
              "      <td>1.0</td>\n",
              "      <td>2018.0</td>\n",
              "      <td>2.0</td>\n",
              "      <td>1.0</td>\n",
              "      <td>1.0</td>\n",
              "      <td>3.0</td>\n",
              "      <td>0.0</td>\n",
              "      <td>2.0</td>\n",
              "      <td>0.0</td>\n",
              "      <td>0.0</td>\n",
              "      <td>0.0</td>\n",
              "      <td>6.0</td>\n",
              "      <td>siria</td>\n",
              "      <td>6.0</td>\n",
              "      <td>1.0</td>\n",
              "      <td>4.0</td>\n",
              "      <td>1.0</td>\n",
              "      <td>4.0</td>\n",
              "      <td>2.0</td>\n",
              "      <td>1.0</td>\n",
              "      <td>4.0</td>\n",
              "      <td>3.0</td>\n",
              "      <td></td>\n",
              "      <td>4.0</td>\n",
              "      <td>4.0</td>\n",
              "      <td>1.0</td>\n",
              "      <td>9.0</td>\n",
              "      <td>8.0</td>\n",
              "      <td>7.0</td>\n",
              "      <td>9.0</td>\n",
              "      <td>3.0</td>\n",
              "      <td>4.0</td>\n",
              "      <td>9.0</td>\n",
              "      <td>4.0</td>\n",
              "      <td>3.0</td>\n",
              "      <td>2.0</td>\n",
              "      <td>1.0</td>\n",
              "      <td>99.0</td>\n",
              "      <td>1.0</td>\n",
              "      <td>1.0</td>\n",
              "      <td>1.0</td>\n",
              "      <td>1.0</td>\n",
              "      <td>9.0</td>\n",
              "      <td>4.0</td>\n",
              "      <td>4.0</td>\n",
              "      <td>liceo linguistico</td>\n",
              "      <td>3.0</td>\n",
              "      <td>3.0</td>\n",
              "      <td>9</td>\n",
              "      <td>9</td>\n",
              "      <td>9.0</td>\n",
              "      <td>cristianesimo</td>\n",
              "      <td>0.0</td>\n",
              "      <td></td>\n",
              "      <td>99.0</td>\n",
              "      <td></td>\n",
              "      <td>1.0</td>\n",
              "      <td>1.0</td>\n",
              "      <td>0.0</td>\n",
              "      <td>4.0</td>\n",
              "      <td>1.0</td>\n",
              "      <td>1.0</td>\n",
              "      <td>0.0</td>\n",
              "      <td>0.0</td>\n",
              "      <td>0.0</td>\n",
              "      <td>0.0</td>\n",
              "      <td>4.0</td>\n",
              "      <td>0.0</td>\n",
              "      <td>4.0</td>\n",
              "      <td></td>\n",
              "    </tr>\n",
              "  </tbody>\n",
              "</table>\n",
              "</div>"
            ],
            "text/plain": [
              "0                          ID  ...  NOTE OPERATORE \n",
              "1   7/11/18_SC POL. MORISI 45  ...                 \n",
              "2   7/11/18_ SC POL.MORISI 38  ...                 \n",
              "3  7/11/18_ SC POL. MORISI 39  ...                 \n",
              "\n",
              "[3 rows x 73 columns]"
            ]
          },
          "metadata": {
            "tags": []
          },
          "execution_count": 4
        }
      ]
    },
    {
      "cell_type": "code",
      "metadata": {
        "id": "m8VamARi7HCo",
        "colab_type": "code",
        "outputId": "bfff4211-15fd-4f39-8bf5-cfb30578f5a6",
        "colab": {
          "base_uri": "https://localhost:8080/",
          "height": 220
        }
      },
      "source": [
        "help(download_gspread)"
      ],
      "execution_count": 5,
      "outputs": [
        {
          "output_type": "stream",
          "text": [
            "Help on function download_gspread in module tools:\n",
            "\n",
            "download_gspread(file_name, sheet_name='Foglio1', key=False, format='wide', virgola_italiano=False, gc=None)\n",
            "    questa funzione, dato il nome del file di google spreadsheet\n",
            "    e dello specifico foglio di calcolo (opzionale) di google\n",
            "    restituisce un dataframe di pandas\n",
            "    file_name: str \n",
            "    sheet_name: str\n",
            "    key: boolean\n",
            "    format: [\"wide\", \"long\", None]\n",
            "\n"
          ],
          "name": "stdout"
        }
      ]
    },
    {
      "cell_type": "code",
      "metadata": {
        "id": "NoKMpk8Rh8f5",
        "colab_type": "code",
        "colab": {
          "base_uri": "https://localhost:8080/",
          "height": 239
        },
        "outputId": "e267bb7c-fb68-4970-8a47-9591c90cf51c"
      },
      "source": [
        "help(dist_frequenza)"
      ],
      "execution_count": 11,
      "outputs": [
        {
          "output_type": "stream",
          "text": [
            "Help on function dist_frequenza in module marradi:\n",
            "\n",
            "dist_frequenza(matrice, colonna, save=False, tipo='categoriale', lista_ordinale=False)\n",
            "    matrice: passare un dataframe di pandas\n",
            "    colonna: indicare la colonna su cui effettuare la distribuzione di frequenza\n",
            "    save: [False oppure nome del file] scegli se salvare o meno la tabella in excel\n",
            "    tipo: \n",
            "        \"categoriale\": classi non ordinate\n",
            "        \"ordinale\": classi ordinate\n",
            "        \"cardinale\": valori numerici\n",
            "    lista_ordinale: una lista di valori attraverso il cui ordinare il risultato del tipo ordinale\n",
            "\n"
          ],
          "name": "stdout"
        }
      ]
    },
    {
      "cell_type": "code",
      "metadata": {
        "id": "Yzt0sppkhXvu",
        "colab_type": "code",
        "colab": {
          "base_uri": "https://localhost:8080/",
          "height": 144
        },
        "outputId": "5bee902d-584b-457c-f374-ced80cc0c497"
      },
      "source": [
        "dist_frequenza(questionario, \"1_genere\")"
      ],
      "execution_count": 6,
      "outputs": [
        {
          "output_type": "execute_result",
          "data": {
            "text/html": [
              "<div>\n",
              "<style scoped>\n",
              "    .dataframe tbody tr th:only-of-type {\n",
              "        vertical-align: middle;\n",
              "    }\n",
              "\n",
              "    .dataframe tbody tr th {\n",
              "        vertical-align: top;\n",
              "    }\n",
              "\n",
              "    .dataframe thead th {\n",
              "        text-align: right;\n",
              "    }\n",
              "</style>\n",
              "<table border=\"1\" class=\"dataframe\">\n",
              "  <thead>\n",
              "    <tr style=\"text-align: right;\">\n",
              "      <th></th>\n",
              "      <th>Frequenze</th>\n",
              "      <th>Percentuale</th>\n",
              "    </tr>\n",
              "  </thead>\n",
              "  <tbody>\n",
              "    <tr>\n",
              "      <th>1.0</th>\n",
              "      <td>30.0</td>\n",
              "      <td>52.63</td>\n",
              "    </tr>\n",
              "    <tr>\n",
              "      <th>2.0</th>\n",
              "      <td>27.0</td>\n",
              "      <td>47.37</td>\n",
              "    </tr>\n",
              "    <tr>\n",
              "      <th>Totale</th>\n",
              "      <td>57.0</td>\n",
              "      <td>100.00</td>\n",
              "    </tr>\n",
              "  </tbody>\n",
              "</table>\n",
              "</div>"
            ],
            "text/plain": [
              "        Frequenze  Percentuale\n",
              "1.0          30.0        52.63\n",
              "2.0          27.0        47.37\n",
              "Totale       57.0       100.00"
            ]
          },
          "metadata": {
            "tags": []
          },
          "execution_count": 6
        }
      ]
    },
    {
      "cell_type": "code",
      "metadata": {
        "id": "G59kVfNOiBWS",
        "colab_type": "code",
        "colab": {
          "base_uri": "https://localhost:8080/",
          "height": 220
        },
        "outputId": "b0c80719-0667-49c2-b2f8-e3c952a6215a"
      },
      "source": [
        "help(plot_dist_frequenza)"
      ],
      "execution_count": 12,
      "outputs": [
        {
          "output_type": "stream",
          "text": [
            "Help on function plot_dist_frequenza in module marradi:\n",
            "\n",
            "plot_dist_frequenza(distribuzione, tipo='categoriale', Y='Percentuale', x_label='Valori', y_label='Percentuale', figsize=(12, 8), missing=None)\n",
            "    distribuzione: inserire risultato della funzione dist_frequenza\n",
            "    tipo: \n",
            "        \"categoriale\": classi non ordinate\n",
            "        \"ordinale\": classi ordinate\n",
            "        \"cardinale\": valori numerici\n",
            "    x_label: etichetta asse x\n",
            "    y_label: etichetta_asse y\n",
            "\n"
          ],
          "name": "stdout"
        }
      ]
    },
    {
      "cell_type": "code",
      "metadata": {
        "id": "r9Tc-k_zhcYG",
        "colab_type": "code",
        "colab": {
          "base_uri": "https://localhost:8080/",
          "height": 524
        },
        "outputId": "3e5472af-2fbe-43c6-defc-7e5ad5d3c4cb"
      },
      "source": [
        "plot_dist_frequenza(dist_frequenza(questionario, ))"
      ],
      "execution_count": 7,
      "outputs": [
        {
          "output_type": "execute_result",
          "data": {
            "text/plain": [
              "<matplotlib.axes._subplots.AxesSubplot at 0x7f81e604af60>"
            ]
          },
          "metadata": {
            "tags": []
          },
          "execution_count": 7
        },
        {
          "output_type": "display_data",
          "data": {
            "image/png": "[encoded data removed]",
            "text/plain": [
              "<Figure size 864x576 with 1 Axes>"
            ]
          },
          "metadata": {
            "tags": []
          }
        }
      ]
    },
    {
      "cell_type": "code",
      "metadata": {
        "id": "YTaQmaYrhjWu",
        "colab_type": "code",
        "colab": {
          "base_uri": "https://localhost:8080/",
          "height": 202
        },
        "outputId": "f13868fd-4fe6-4452-dbf6-8b80e96a708f"
      },
      "source": [
        "help(tabella_di_contingenza)"
      ],
      "execution_count": 10,
      "outputs": [
        {
          "output_type": "stream",
          "text": [
            "Help on function tabella_di_contingenza in module marradi:\n",
            "\n",
            "tabella_di_contingenza(dataframe, colonna_A, colonna_B, ordine_A=False, ordine_B=False, informativo=False, norm_axis=False)\n",
            "    dataframe: inserire la tabella su cui si vuole fare la tabulazione incrociata\n",
            "    colonna_A: inserire la stringa di testo che rappresenta l'intestazione della singola colonna\n",
            "    colonna_B: inserire la stringa di testo che rappresenta l'intestazione della singola colonna\n",
            "    ordine_A: inserire una lista di valori rappresentativi dell'ordine delle categorie della colonna A\n",
            "    ordine_B: inserire una lista di valori rappresentativi dell'ordine delle categorie della colonna B\n",
            "    iformativo: True, permette di avere in una stessa tabella frequenze, frequenze attese e scarti.\n",
            "\n"
          ],
          "name": "stdout"
        }
      ]
    },
    {
      "cell_type": "code",
      "metadata": {
        "id": "Is-WFONAh4V6",
        "colab_type": "code",
        "colab": {
          "base_uri": "https://localhost:8080/",
          "height": 175
        },
        "outputId": "4358c959-de1d-4b72-b668-eea498d02aa8"
      },
      "source": [
        "tabella_di_contingenza(questionario, \"1_genere\", \"3_statoCivile\")"
      ],
      "execution_count": 13,
      "outputs": [
        {
          "output_type": "execute_result",
          "data": {
            "text/html": [
              "<div>\n",
              "<style scoped>\n",
              "    .dataframe tbody tr th:only-of-type {\n",
              "        vertical-align: middle;\n",
              "    }\n",
              "\n",
              "    .dataframe tbody tr th {\n",
              "        vertical-align: top;\n",
              "    }\n",
              "\n",
              "    .dataframe thead th {\n",
              "        text-align: right;\n",
              "    }\n",
              "</style>\n",
              "<table border=\"1\" class=\"dataframe\">\n",
              "  <thead>\n",
              "    <tr style=\"text-align: right;\">\n",
              "      <th>3_statoCivile</th>\n",
              "      <th>1.0</th>\n",
              "      <th>2.0</th>\n",
              "      <th>3.0</th>\n",
              "      <th>All</th>\n",
              "    </tr>\n",
              "    <tr>\n",
              "      <th>1_genere</th>\n",
              "      <th></th>\n",
              "      <th></th>\n",
              "      <th></th>\n",
              "      <th></th>\n",
              "    </tr>\n",
              "  </thead>\n",
              "  <tbody>\n",
              "    <tr>\n",
              "      <th>1.0</th>\n",
              "      <td>28</td>\n",
              "      <td>1</td>\n",
              "      <td>1</td>\n",
              "      <td>30</td>\n",
              "    </tr>\n",
              "    <tr>\n",
              "      <th>2.0</th>\n",
              "      <td>27</td>\n",
              "      <td>0</td>\n",
              "      <td>0</td>\n",
              "      <td>27</td>\n",
              "    </tr>\n",
              "    <tr>\n",
              "      <th>All</th>\n",
              "      <td>55</td>\n",
              "      <td>1</td>\n",
              "      <td>1</td>\n",
              "      <td>57</td>\n",
              "    </tr>\n",
              "  </tbody>\n",
              "</table>\n",
              "</div>"
            ],
            "text/plain": [
              "3_statoCivile  1.0  2.0  3.0  All\n",
              "1_genere                         \n",
              "1.0             28    1    1   30\n",
              "2.0             27    0    0   27\n",
              "All             55    1    1   57"
            ]
          },
          "metadata": {
            "tags": []
          },
          "execution_count": 13
        }
      ]
    },
    {
      "cell_type": "code",
      "metadata": {
        "id": "nTRb8siQiZGY",
        "colab_type": "code",
        "colab": {}
      },
      "source": [
        ""
      ],
      "execution_count": 0,
      "outputs": []
    }
  ]
}