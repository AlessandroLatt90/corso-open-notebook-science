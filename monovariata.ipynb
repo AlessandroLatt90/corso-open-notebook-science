{
 "cells": [
  {
   "cell_type": "markdown",
   "metadata": {
    "colab_type": "text",
    "id": "view-in-github"
   },
   "source": [
    "[View in Colaboratory](https://colab.research.google.com/github/datalifelab/corso-open-notebook-science/blob/master/monovariata.ipynb)"
   ]
  },
  {
   "cell_type": "markdown",
   "metadata": {
    "colab_type": "text",
    "id": "QoZ8cRkD3oRm"
   },
   "source": [
    "# Corso su Colaboratory\n",
    "## Questo notebook contiene alcune librerie per lavorare in modo integrato nell'ecosistema di google drive:\n",
    "### Aprire fogli di calcolo di google\n",
    "### Effettuare la pulizia della matrice dall'importazione\n"
   ]
  },
  {
   "cell_type": "code",
   "execution_count": 1,
   "metadata": {
    "colab": {
     "base_uri": "https://localhost:8080/",
     "height": 35
    },
    "colab_type": "code",
    "id": "_Kr4X18B_l3G",
    "outputId": "5cf04e83-143e-437e-f48b-7d958ab7c333"
   },
   "outputs": [
    {
     "data": {
      "text/html": [
       "<marquee style='width: 100%; color: blue;'><b>Buon divertimento!!</b></marquee>"
      ],
      "text/plain": [
       "<IPython.core.display.HTML object>"
      ]
     },
     "metadata": {
      "tags": []
     },
     "output_type": "display_data"
    }
   ],
   "source": [
    "%%html\n",
    "<marquee style='width: 100%; color: blue;'><b>Buon divertimento!!</b></marquee>"
   ]
  },
  {
   "cell_type": "code",
   "execution_count": 2,
   "metadata": {
    "colab": {
     "base_uri": "https://localhost:8080/",
     "height": 833
    },
    "colab_type": "code",
    "id": "J8I9-KW1B4Sk",
    "outputId": "99fd05e8-45ce-4a6a-a199-cf09732d106a"
   },
   "outputs": [
    {
     "name": "stdout",
     "output_type": "stream",
     "text": [
      "--2018-10-21 07:25:53--  https://raw.githubusercontent.com/datalifelab/corso-open-notebook-science/master/marradi.py\n",
      "Resolving raw.githubusercontent.com (raw.githubusercontent.com)... 151.101.0.133, 151.101.64.133, 151.101.128.133, ...\n",
      "Connecting to raw.githubusercontent.com (raw.githubusercontent.com)|151.101.0.133|:443... connected.\n",
      "HTTP request sent, awaiting response... 200 OK\n",
      "Length: 3404 (3.3K) [text/plain]\n",
      "Saving to: ‘marradi.py’\n",
      "\n",
      "marradi.py          100%[===================>]   3.32K  --.-KB/s    in 0s      \n",
      "\n",
      "2018-10-21 07:25:58 (65.3 MB/s) - ‘marradi.py’ saved [3404/3404]\n",
      "\n",
      "Collecting git+https://github.com/mwaskom/seaborn.git\n",
      "  Cloning https://github.com/mwaskom/seaborn.git to /tmp/pip-req-build-4xrgk3ho\n",
      "Requirement already satisfied: numpy>=1.9.3 in /usr/local/lib/python3.6/dist-packages (from seaborn==0.9.0) (1.14.6)\n",
      "Requirement already satisfied: scipy>=0.14.0 in /usr/local/lib/python3.6/dist-packages (from seaborn==0.9.0) (0.19.1)\n",
      "Requirement already satisfied: pandas>=0.15.2 in /usr/local/lib/python3.6/dist-packages (from seaborn==0.9.0) (0.22.0)\n",
      "Requirement already satisfied: matplotlib>=1.4.3 in /usr/local/lib/python3.6/dist-packages (from seaborn==0.9.0) (2.1.2)\n",
      "Requirement already satisfied: python-dateutil>=2 in /usr/local/lib/python3.6/dist-packages (from pandas>=0.15.2->seaborn==0.9.0) (2.5.3)\n",
      "Requirement already satisfied: pytz>=2011k in /usr/local/lib/python3.6/dist-packages (from pandas>=0.15.2->seaborn==0.9.0) (2018.5)\n",
      "Requirement already satisfied: cycler>=0.10 in /usr/local/lib/python3.6/dist-packages (from matplotlib>=1.4.3->seaborn==0.9.0) (0.10.0)\n",
      "Requirement already satisfied: six>=1.10 in /usr/local/lib/python3.6/dist-packages (from matplotlib>=1.4.3->seaborn==0.9.0) (1.11.0)\n",
      "Requirement already satisfied: pyparsing!=2.0.4,!=2.1.2,!=2.1.6,>=2.0.1 in /usr/local/lib/python3.6/dist-packages (from matplotlib>=1.4.3->seaborn==0.9.0) (2.2.2)\n",
      "Building wheels for collected packages: seaborn\n",
      "  Running setup.py bdist_wheel for seaborn ... \u001b[?25l-\b \b\\\b \bdone\n",
      "\u001b[?25h  Stored in directory: /tmp/pip-ephem-wheel-cache-d7de6by4/wheels/4e/57/af/138c7bf2390a67f7010588cf080fb8b4e741bb290c2ad12018\n",
      "Successfully built seaborn\n",
      "Installing collected packages: seaborn\n",
      "  Found existing installation: seaborn 0.7.1\n",
      "    Uninstalling seaborn-0.7.1:\n",
      "      Successfully uninstalled seaborn-0.7.1\n",
      "Successfully installed seaborn-0.9.0\n",
      "Collecting git+https://github.com/mwaskom/seaborn.git\n",
      "  Cloning https://github.com/mwaskom/seaborn.git to /tmp/pip-req-build-_e5p7jdi\n",
      "Requirement already satisfied (use --upgrade to upgrade): seaborn==0.9.0 from git+https://github.com/mwaskom/seaborn.git in /usr/local/lib/python3.6/dist-packages\n",
      "Requirement already satisfied: numpy>=1.9.3 in /usr/local/lib/python3.6/dist-packages (from seaborn==0.9.0) (1.14.6)\n",
      "Requirement already satisfied: scipy>=0.14.0 in /usr/local/lib/python3.6/dist-packages (from seaborn==0.9.0) (0.19.1)\n",
      "Requirement already satisfied: pandas>=0.15.2 in /usr/local/lib/python3.6/dist-packages (from seaborn==0.9.0) (0.22.0)\n",
      "Requirement already satisfied: matplotlib>=1.4.3 in /usr/local/lib/python3.6/dist-packages (from seaborn==0.9.0) (2.1.2)\n",
      "Requirement already satisfied: pytz>=2011k in /usr/local/lib/python3.6/dist-packages (from pandas>=0.15.2->seaborn==0.9.0) (2018.5)\n",
      "Requirement already satisfied: python-dateutil>=2 in /usr/local/lib/python3.6/dist-packages (from pandas>=0.15.2->seaborn==0.9.0) (2.5.3)\n",
      "Requirement already satisfied: cycler>=0.10 in /usr/local/lib/python3.6/dist-packages (from matplotlib>=1.4.3->seaborn==0.9.0) (0.10.0)\n",
      "Requirement already satisfied: pyparsing!=2.0.4,!=2.1.2,!=2.1.6,>=2.0.1 in /usr/local/lib/python3.6/dist-packages (from matplotlib>=1.4.3->seaborn==0.9.0) (2.2.2)\n",
      "Requirement already satisfied: six>=1.10 in /usr/local/lib/python3.6/dist-packages (from matplotlib>=1.4.3->seaborn==0.9.0) (1.11.0)\n",
      "Building wheels for collected packages: seaborn\n",
      "  Running setup.py bdist_wheel for seaborn ... \u001b[?25l-\b \b\\\b \bdone\n",
      "\u001b[?25h  Stored in directory: /tmp/pip-ephem-wheel-cache-4elwjgoq/wheels/4e/57/af/138c7bf2390a67f7010588cf080fb8b4e741bb290c2ad12018\n",
      "Successfully built seaborn\n"
     ]
    }
   ],
   "source": [
    "#effettuo l'importazione della libreria per il controllo del sistema operativo\n",
    "import os\n",
    "#effettuo l'importazione della libreria statistica Pandas\n",
    "import pandas as pd\n",
    "import matplotlib.pyplot as plt\n",
    "\n",
    "#effettuo l'importazione della libreria per il controllo del sistema operativo\n",
    "import os\n",
    "#effettuo l'importazione della libreria statistica Pandas\n",
    "import pandas as pd\n",
    "import matplotlib.pyplot as plt\n",
    "!wget https://raw.githubusercontent.com/datalifelab/corso-open-notebook-science/master/marradi.py\n",
    "\n",
    "  \n",
    "from marradi import *\n",
    "#importa marradi:\n",
    "# 1 - dist_frequenza(matrice, colonna, save = False, tipo = \"categoriale\" , lista_ordinale = False):\n",
    "#    '''\n",
    "#    matrice: passare un dataframe di pandas\n",
    "#    colonna: indicare la colonna su cui effettuare la distribuzione di frequenza\n",
    "#    save: [False oppure nome del file] scegli se salvare o meno la tabella in excel\n",
    "#    tipo: \n",
    "#        \"categoriale\": classi non ordinate\n",
    "#        \"ordinale\": classi ordinate\n",
    "#        \"cardinale\": valori numerici\n",
    "#    lista_ordinale: una lista di valori attraverso il cui ordinare il risultato del tipo ordinale\n",
    "#    '''\n",
    "\n",
    "\n",
    "#def tabella_di_contingenza(dataframe, colonna_A, colonna_B, ordine_A = False, ordine_B = False, informativo = False):\n",
    "#    '''\n",
    "#    dataframe: inserire la tabella su cui si vuole fare la tabulazione incrociata\n",
    "#    colonna_A: inserire la stringa di testo che rappresenta l'intestazione della singola colonna\n",
    "#    colonna_B: inserire la stringa di testo che rappresenta l'intestazione della singola colonna\n",
    "#    ordine_A: inserire una lista di valori rappresentativi dell'ordine delle categorie della colonna A\n",
    "#    ordine_B: inserire una lista di valori rappresentativi dell'ordine delle categorie della colonna B\n",
    "#    informativo: True, permette di avere in una stessa tabella frequenze, frequenze attese e scarti. \n",
    "#    '''\n",
    "\n",
    "\n",
    "!pip install git+https://github.com/mwaskom/seaborn.git\n",
    "import seaborn as sns\n",
    "\n",
    "\n",
    "\n",
    "\n",
    "\n",
    "!pip install git+https://github.com/mwaskom/seaborn.git\n",
    "import seaborn as sns"
   ]
  },
  {
   "cell_type": "code",
   "execution_count": 0,
   "metadata": {
    "colab": {},
    "colab_type": "code",
    "id": "oHUVasHH5iqj"
   },
   "outputs": [],
   "source": [
    "!pip install --upgrade -q gspread"
   ]
  },
  {
   "cell_type": "code",
   "execution_count": 0,
   "metadata": {
    "colab": {},
    "colab_type": "code",
    "id": "g-7vLbOt7T9F"
   },
   "outputs": [],
   "source": []
  },
  {
   "cell_type": "code",
   "execution_count": 0,
   "metadata": {
    "colab": {},
    "colab_type": "code",
    "id": "da65qfUKCAy0"
   },
   "outputs": [],
   "source": [
    "#Effettuo le librerie che mi autorizzano ad accedere ai file di google drive\n",
    "from google.colab import auth\n",
    "auth.authenticate_user()\n",
    "\n",
    "import gspread\n",
    "from oauth2client.client import GoogleCredentials\n",
    "\n",
    "#richiedo le credenziali: apre delle istruzioni e link da seguire per completare\n",
    "#la procedura\n",
    "gc = gspread.authorize(GoogleCredentials.get_application_default())\n",
    "\n"
   ]
  },
  {
   "cell_type": "code",
   "execution_count": 0,
   "metadata": {
    "colab": {},
    "colab_type": "code",
    "id": "2qMLlmidCLuz"
   },
   "outputs": [],
   "source": [
    "def download_gspread(file_name, sheet_name = \"Foglio1\", key = False, format = \"wide\", virgola_italiano = False):\n",
    "  '''questa funzione, dato il nome del file di google spreadsheet\n",
    "  e dello specifico foglio di calcolo (opzionale) di google\n",
    "  restituisce un dataframe di pandas\n",
    "  file_name: str \n",
    "  sheet_name: str\n",
    "  key: boolean\n",
    "  format: [\"wide\", \"long\", None]\n",
    "  '''\n",
    "  \n",
    "  def str_to_float(cell):\n",
    "    '''trasforma in decimale \n",
    "    tutti i valori stringa contententi \n",
    "    valori numerici, anche quelli che hanno punti per migliaia e milioni e virgole\n",
    "    come decimali'''\n",
    "    \n",
    "    try:\n",
    "      if virgola_italiano == True:\n",
    "        cell = \"\".join(cell.split(\".\"))\n",
    "      else:\n",
    "        pass\n",
    "      cell = cell.replace(\",\", \".\")\n",
    "      cell = cell.strip()\n",
    "      cell = float(cell)\n",
    "    except:\n",
    "      cell = cell\n",
    "    return cell\n",
    "  \n",
    "  #questo comando scarica il foglio 1 del foglio di calcolo\n",
    "  if key == False:\n",
    "    if sheet_name == \"Foglio1\":\n",
    "      worksheet = gc.open(file_name).sheet1\n",
    "    else:\n",
    "      worksheet = gc.open(file_name).worksheet(sheet_name)\n",
    "  elif key == True:\n",
    "    if sheet_name == \"Foglio1\":\n",
    "      worksheet = gc.open_by_key(file_name).sheet1\n",
    "    else:\n",
    "      worksheet = gc.open_by_key(file_name).worksheet(sheet_name)\n",
    "    \n",
    "  # prendo tutte le righe del foglio\n",
    "  rows = worksheet.get_all_values()\n",
    "\n",
    "  # Converto in DataFrame di Pandas ed effettuo la pulizia dei dati con la funzione\n",
    "  # str_to_float\n",
    "  \n",
    "  dati = pd.DataFrame.from_records(rows)\n",
    "  if format == \"wide\":\n",
    "    dati.columns = dati.loc[0]\n",
    "    dati = dati.drop(0, axis = 0)  \n",
    "  else:\n",
    "    pass\n",
    "  #converte. dove necessario stringhe verso decimali\n",
    "  dati = dati.applymap(str_to_float)\n",
    "  dati = dati.apply(lambda x: pd.to_numeric(x, errors='ignore'))\n",
    "  return dati"
   ]
  },
  {
   "cell_type": "code",
   "execution_count": 0,
   "metadata": {
    "colab": {},
    "colab_type": "code",
    "id": "Ex33RwSxCm6A"
   },
   "outputs": [],
   "source": [
    "#######\n",
    "# per iniziare ad operare eliminare le successive righe ed iniziare a lavorare sul proprio progetto\n",
    "#\n",
    "#\n",
    "#######\n",
    "\n",
    "#generico\n",
    "#dataset = download_gspread(\"inserire_nome_foglio_di_calcolo\", sheet_name = \"inserire_nome_foglio\")\n"
   ]
  },
  {
   "cell_type": "code",
   "execution_count": 33,
   "metadata": {
    "colab": {
     "base_uri": "https://localhost:8080/",
     "height": 714
    },
    "colab_type": "code",
    "id": "kZLwZCOHVaZx",
    "outputId": "2bb6d02d-f280-4c24-c162-6921b92e90ce"
   },
   "outputs": [
    {
     "data": {
      "text/html": [
       "<div>\n",
       "<style scoped>\n",
       "    .dataframe tbody tr th:only-of-type {\n",
       "        vertical-align: middle;\n",
       "    }\n",
       "\n",
       "    .dataframe tbody tr th {\n",
       "        vertical-align: top;\n",
       "    }\n",
       "\n",
       "    .dataframe thead th {\n",
       "        text-align: right;\n",
       "    }\n",
       "</style>\n",
       "<table border=\"1\" class=\"dataframe\">\n",
       "  <thead>\n",
       "    <tr style=\"text-align: right;\">\n",
       "      <th></th>\n",
       "      <th>Informazioni cronologiche</th>\n",
       "      <th>1) Codice classe</th>\n",
       "      <th>Conosci queste tecnologie per l'analisi dei dati?  [2_1) Foglio di calcolo (es. excel)]</th>\n",
       "      <th>Conosci queste tecnologie per l'analisi dei dati?  [2_2) Foglio di calcolo - Utilizzo di Tabelle Pivot]</th>\n",
       "      <th>Conosci queste tecnologie per l'analisi dei dati?  [2_3) Foglio di calcolo - Utilizzo di Macro]</th>\n",
       "      <th>Conosci queste tecnologie per l'analisi dei dati?  [2_4) Linguaggio e DB SQL]</th>\n",
       "      <th>Conosci queste tecnologie per l'analisi dei dati?  [2_5) Linguaggio R - Statistica]</th>\n",
       "      <th>Conosci queste tecnologie per l'analisi dei dati?  [2_6) Linguaggio Python]</th>\n",
       "      <th>Conosci queste tecnologie per l'analisi dei dati?  [2_7) Software SAS]</th>\n",
       "      <th>Conosci queste tecnologie per l'analisi dei dati?  [2_8) Software STATA]</th>\n",
       "      <th>...</th>\n",
       "      <th>Prima di questa lezione avevi mai sentito parlare di? [4_4) GIS(Geographic information system)]</th>\n",
       "      <th>Prima di questa lezione avevi mai sentito parlare di? [4_5) Social Data]</th>\n",
       "      <th>Prima di questa lezione avevi mai sentito parlare di? [4_6) Machine Learning]</th>\n",
       "      <th>Prima di questa lezione avevi mai sentito parlare di? [4_7) Realtà virtuale]</th>\n",
       "      <th>Prima di questa lezione avevi mai sentito parlare di? [4_8) Realtà aumentata]</th>\n",
       "      <th>Prima di questa lezione avevi mai sentito parlare di? [4_9) Intelligenza Artificiale]</th>\n",
       "      <th>Prima di questa lezione avevi mai sentito parlare di? [4_10) Open Source]</th>\n",
       "      <th>Prima di questa lezione avevi mai sentito parlare di? [4_11) Open Science]</th>\n",
       "      <th>Prima di questa lezione avevi mai sentito parlare di? [4_12) Open Access]</th>\n",
       "      <th>Hai un account google?</th>\n",
       "    </tr>\n",
       "  </thead>\n",
       "  <tbody>\n",
       "    <tr>\n",
       "      <th>1</th>\n",
       "      <td>24/09/2018 17.19.09</td>\n",
       "      <td>Magnier</td>\n",
       "      <td>3 -  Ho provato questa tecnologia. ma non sono...</td>\n",
       "      <td>1 - Non ne ho mai sentito parlare prima di que...</td>\n",
       "      <td>1 - Non ne ho mai sentito parlare prima di que...</td>\n",
       "      <td>1 - Non ne ho mai sentito parlare prima di que...</td>\n",
       "      <td>1 - Non ne ho mai sentito parlare prima di que...</td>\n",
       "      <td>1 - Non ne ho mai sentito parlare prima di que...</td>\n",
       "      <td>1 - Non ne ho mai sentito parlare prima di que...</td>\n",
       "      <td>1 - Non ne ho mai sentito parlare prima di que...</td>\n",
       "      <td>...</td>\n",
       "      <td>1 - No mai</td>\n",
       "      <td>1 - No mai</td>\n",
       "      <td>1 - No mai</td>\n",
       "      <td>3 - Si. ne ho sentito parlare nei giornali</td>\n",
       "      <td>1 - No mai</td>\n",
       "      <td>3 - Si. ne ho sentito parlare nei giornali</td>\n",
       "      <td>2 -Qualche volta. ma non ho capito bene di cos...</td>\n",
       "      <td>1 - No mai</td>\n",
       "      <td>2 -Qualche volta. ma non ho capito bene di cos...</td>\n",
       "      <td>Si</td>\n",
       "    </tr>\n",
       "    <tr>\n",
       "      <th>2</th>\n",
       "      <td>24/09/2018 17.19.11</td>\n",
       "      <td>magnier</td>\n",
       "      <td>5 - Ho utilizzato con successo per lavoro o pe...</td>\n",
       "      <td>2  - Ne ho sentito parlare. ma non l'ho mai ut...</td>\n",
       "      <td>2  - Ne ho sentito parlare. ma non l'ho mai ut...</td>\n",
       "      <td>1 - Non ne ho mai sentito parlare prima di que...</td>\n",
       "      <td>1 - Non ne ho mai sentito parlare prima di que...</td>\n",
       "      <td>1 - Non ne ho mai sentito parlare prima di que...</td>\n",
       "      <td>1 - Non ne ho mai sentito parlare prima di que...</td>\n",
       "      <td>1 - Non ne ho mai sentito parlare prima di que...</td>\n",
       "      <td>...</td>\n",
       "      <td>1 - No mai</td>\n",
       "      <td>1 - No mai</td>\n",
       "      <td>1 - No mai</td>\n",
       "      <td>3 - Si. ne ho sentito parlare nei giornali</td>\n",
       "      <td>3 - Si. ne ho sentito parlare nei giornali</td>\n",
       "      <td>3 - Si. ne ho sentito parlare nei giornali</td>\n",
       "      <td>1 - No mai</td>\n",
       "      <td>1 - No mai</td>\n",
       "      <td>1 - No mai</td>\n",
       "      <td>Si</td>\n",
       "    </tr>\n",
       "    <tr>\n",
       "      <th>3</th>\n",
       "      <td>24/09/2018 17.19.39</td>\n",
       "      <td>magnier</td>\n",
       "      <td>3 -  Ho provato questa tecnologia. ma non sono...</td>\n",
       "      <td>3 -  Ho provato questa tecnologia. ma non sono...</td>\n",
       "      <td>1 - Non ne ho mai sentito parlare prima di que...</td>\n",
       "      <td>1 - Non ne ho mai sentito parlare prima di que...</td>\n",
       "      <td>1 - Non ne ho mai sentito parlare prima di que...</td>\n",
       "      <td>1 - Non ne ho mai sentito parlare prima di que...</td>\n",
       "      <td>1 - Non ne ho mai sentito parlare prima di que...</td>\n",
       "      <td>1 - Non ne ho mai sentito parlare prima di que...</td>\n",
       "      <td>...</td>\n",
       "      <td>1 - No mai</td>\n",
       "      <td>3 - Si. ne ho sentito parlare nei giornali</td>\n",
       "      <td>3 - Si. ne ho sentito parlare nei giornali</td>\n",
       "      <td>3 - Si. ne ho sentito parlare nei giornali</td>\n",
       "      <td>3 - Si. ne ho sentito parlare nei giornali</td>\n",
       "      <td>3 - Si. ne ho sentito parlare nei giornali</td>\n",
       "      <td>3 - Si. ne ho sentito parlare nei giornali</td>\n",
       "      <td>1 - No mai</td>\n",
       "      <td>2 -Qualche volta. ma non ho capito bene di cos...</td>\n",
       "      <td>Si</td>\n",
       "    </tr>\n",
       "  </tbody>\n",
       "</table>\n",
       "<p>3 rows × 31 columns</p>\n",
       "</div>"
      ],
      "text/plain": [
       "0 Informazioni cronologiche 1) Codice classe  \\\n",
       "1       24/09/2018 17.19.09          Magnier   \n",
       "2       24/09/2018 17.19.11          magnier   \n",
       "3       24/09/2018 17.19.39          magnier   \n",
       "\n",
       "0 Conosci queste tecnologie per l'analisi dei dati?  [2_1) Foglio di calcolo (es. excel)]  \\\n",
       "1  3 -  Ho provato questa tecnologia. ma non sono...                                        \n",
       "2  5 - Ho utilizzato con successo per lavoro o pe...                                        \n",
       "3  3 -  Ho provato questa tecnologia. ma non sono...                                        \n",
       "\n",
       "0 Conosci queste tecnologie per l'analisi dei dati?  [2_2) Foglio di calcolo - Utilizzo di Tabelle Pivot]  \\\n",
       "1  1 - Non ne ho mai sentito parlare prima di que...                                                        \n",
       "2  2  - Ne ho sentito parlare. ma non l'ho mai ut...                                                        \n",
       "3  3 -  Ho provato questa tecnologia. ma non sono...                                                        \n",
       "\n",
       "0 Conosci queste tecnologie per l'analisi dei dati?  [2_3) Foglio di calcolo - Utilizzo di Macro]  \\\n",
       "1  1 - Non ne ho mai sentito parlare prima di que...                                                \n",
       "2  2  - Ne ho sentito parlare. ma non l'ho mai ut...                                                \n",
       "3  1 - Non ne ho mai sentito parlare prima di que...                                                \n",
       "\n",
       "0 Conosci queste tecnologie per l'analisi dei dati?  [2_4) Linguaggio e DB SQL]  \\\n",
       "1  1 - Non ne ho mai sentito parlare prima di que...                              \n",
       "2  1 - Non ne ho mai sentito parlare prima di que...                              \n",
       "3  1 - Non ne ho mai sentito parlare prima di que...                              \n",
       "\n",
       "0 Conosci queste tecnologie per l'analisi dei dati?  [2_5) Linguaggio R - Statistica]  \\\n",
       "1  1 - Non ne ho mai sentito parlare prima di que...                                    \n",
       "2  1 - Non ne ho mai sentito parlare prima di que...                                    \n",
       "3  1 - Non ne ho mai sentito parlare prima di que...                                    \n",
       "\n",
       "0 Conosci queste tecnologie per l'analisi dei dati?  [2_6) Linguaggio Python]  \\\n",
       "1  1 - Non ne ho mai sentito parlare prima di que...                            \n",
       "2  1 - Non ne ho mai sentito parlare prima di que...                            \n",
       "3  1 - Non ne ho mai sentito parlare prima di que...                            \n",
       "\n",
       "0 Conosci queste tecnologie per l'analisi dei dati?  [2_7) Software SAS]  \\\n",
       "1  1 - Non ne ho mai sentito parlare prima di que...                       \n",
       "2  1 - Non ne ho mai sentito parlare prima di que...                       \n",
       "3  1 - Non ne ho mai sentito parlare prima di que...                       \n",
       "\n",
       "0 Conosci queste tecnologie per l'analisi dei dati?  [2_8) Software STATA]  \\\n",
       "1  1 - Non ne ho mai sentito parlare prima di que...                         \n",
       "2  1 - Non ne ho mai sentito parlare prima di que...                         \n",
       "3  1 - Non ne ho mai sentito parlare prima di que...                         \n",
       "\n",
       "0          ...            \\\n",
       "1          ...             \n",
       "2          ...             \n",
       "3          ...             \n",
       "\n",
       "0 Prima di questa lezione avevi mai sentito parlare di? [4_4) GIS(Geographic information system)]  \\\n",
       "1                                         1 - No mai                                                \n",
       "2                                         1 - No mai                                                \n",
       "3                                         1 - No mai                                                \n",
       "\n",
       "0 Prima di questa lezione avevi mai sentito parlare di? [4_5) Social Data]  \\\n",
       "1                                         1 - No mai                         \n",
       "2                                         1 - No mai                         \n",
       "3         3 - Si. ne ho sentito parlare nei giornali                         \n",
       "\n",
       "0 Prima di questa lezione avevi mai sentito parlare di? [4_6) Machine Learning]  \\\n",
       "1                                         1 - No mai                              \n",
       "2                                         1 - No mai                              \n",
       "3         3 - Si. ne ho sentito parlare nei giornali                              \n",
       "\n",
       "0 Prima di questa lezione avevi mai sentito parlare di? [4_7) Realtà virtuale]  \\\n",
       "1         3 - Si. ne ho sentito parlare nei giornali                             \n",
       "2         3 - Si. ne ho sentito parlare nei giornali                             \n",
       "3         3 - Si. ne ho sentito parlare nei giornali                             \n",
       "\n",
       "0 Prima di questa lezione avevi mai sentito parlare di? [4_8) Realtà aumentata]  \\\n",
       "1                                         1 - No mai                              \n",
       "2         3 - Si. ne ho sentito parlare nei giornali                              \n",
       "3         3 - Si. ne ho sentito parlare nei giornali                              \n",
       "\n",
       "0 Prima di questa lezione avevi mai sentito parlare di? [4_9) Intelligenza Artificiale]  \\\n",
       "1         3 - Si. ne ho sentito parlare nei giornali                                      \n",
       "2         3 - Si. ne ho sentito parlare nei giornali                                      \n",
       "3         3 - Si. ne ho sentito parlare nei giornali                                      \n",
       "\n",
       "0 Prima di questa lezione avevi mai sentito parlare di? [4_10) Open Source]  \\\n",
       "1  2 -Qualche volta. ma non ho capito bene di cos...                          \n",
       "2                                         1 - No mai                          \n",
       "3         3 - Si. ne ho sentito parlare nei giornali                          \n",
       "\n",
       "0 Prima di questa lezione avevi mai sentito parlare di? [4_11) Open Science]  \\\n",
       "1                                         1 - No mai                           \n",
       "2                                         1 - No mai                           \n",
       "3                                         1 - No mai                           \n",
       "\n",
       "0 Prima di questa lezione avevi mai sentito parlare di? [4_12) Open Access]  \\\n",
       "1  2 -Qualche volta. ma non ho capito bene di cos...                          \n",
       "2                                         1 - No mai                          \n",
       "3  2 -Qualche volta. ma non ho capito bene di cos...                          \n",
       "\n",
       "0 Hai un account google?  \n",
       "1                     Si  \n",
       "2                     Si  \n",
       "3                     Si  \n",
       "\n",
       "[3 rows x 31 columns]"
      ]
     },
     "execution_count": 33,
     "metadata": {
      "tags": []
     },
     "output_type": "execute_result"
    }
   ],
   "source": [
    "#scarico i dati di valutazione del questionario\n",
    "questionario = download_gspread(\"1PiMvG2mUAQuWAuZeedL0mTyY1xy9fsggHh64v5D99w0\", key = True)\n",
    "\n",
    "questionario.head(3)"
   ]
  },
  {
   "cell_type": "code",
   "execution_count": 35,
   "metadata": {
    "colab": {
     "base_uri": "https://localhost:8080/",
     "height": 555
    },
    "colab_type": "code",
    "id": "n7tkhnLsoJQL",
    "outputId": "2d79e311-fbd7-4c15-9565-ad1d6ed65622"
   },
   "outputs": [
    {
     "data": {
      "text/plain": [
       "Index(['Informazioni cronologiche', '1) Codice classe',\n",
       "       'Conosci queste tecnologie per l'analisi dei dati?  [2_1) Foglio di calcolo (es. excel)]',\n",
       "       'Conosci queste tecnologie per l'analisi dei dati?  [2_2) Foglio di calcolo - Utilizzo di Tabelle Pivot]',\n",
       "       'Conosci queste tecnologie per l'analisi dei dati?  [2_3) Foglio di calcolo - Utilizzo di Macro]',\n",
       "       'Conosci queste tecnologie per l'analisi dei dati?  [2_4) Linguaggio e DB SQL]',\n",
       "       'Conosci queste tecnologie per l'analisi dei dati?  [2_5) Linguaggio R - Statistica]',\n",
       "       'Conosci queste tecnologie per l'analisi dei dati?  [2_6) Linguaggio Python]',\n",
       "       'Conosci queste tecnologie per l'analisi dei dati?  [2_7) Software SAS]',\n",
       "       'Conosci queste tecnologie per l'analisi dei dati?  [2_8) Software STATA]',\n",
       "       'Conosci queste tecnologie per l'analisi dei dati?  [2_9) Software SPSS]',\n",
       "       'Conosci queste tecnologie per l'analisi dei dati?  [2_10) Software GEPHI (Network Analisys)]',\n",
       "       'Conosci queste tecnologie per l'analisi dei dati?  [2_11) Software QGIS / ARCGIS (]',\n",
       "       'Conosci queste tecnologie per l'analisi dei dati?  [2_12) Software Tableau]',\n",
       "       'Hai frequentato un corso sulle seguenti materie. Se si, quanto ti senti preparato:  [3_1) Statistica]',\n",
       "       'Hai frequentato un corso sulle seguenti materie. Se si, quanto ti senti preparato:  [3_2) Metolodologia delle scienze sociali]',\n",
       "       'Hai frequentato un corso sulle seguenti materie. Se si, quanto ti senti preparato:  [3_3) Matematica]',\n",
       "       'Hai frequentato un corso sulle seguenti materie. Se si, quanto ti senti preparato:  [3_4) Econometria]',\n",
       "       'Prima di questa lezione avevi mai sentito parlare di? [4_1) Big data]',\n",
       "       'Prima di questa lezione avevi mai sentito parlare di? [4_2) Open data ]',\n",
       "       'Prima di questa lezione avevi mai sentito parlare di? [4_3) IOT (internet of things)]',\n",
       "       'Prima di questa lezione avevi mai sentito parlare di? [4_4) GIS(Geographic information system)]',\n",
       "       'Prima di questa lezione avevi mai sentito parlare di? [4_5) Social Data]',\n",
       "       'Prima di questa lezione avevi mai sentito parlare di? [4_6) Machine Learning]',\n",
       "       'Prima di questa lezione avevi mai sentito parlare di? [4_7) Realtà virtuale]',\n",
       "       'Prima di questa lezione avevi mai sentito parlare di? [4_8) Realtà aumentata]',\n",
       "       'Prima di questa lezione avevi mai sentito parlare di? [4_9) Intelligenza Artificiale]',\n",
       "       'Prima di questa lezione avevi mai sentito parlare di? [4_10) Open Source]',\n",
       "       'Prima di questa lezione avevi mai sentito parlare di? [4_11) Open Science]',\n",
       "       'Prima di questa lezione avevi mai sentito parlare di? [4_12) Open Access]',\n",
       "       'Hai un account google?'],\n",
       "      dtype='object', name=0)"
      ]
     },
     "execution_count": 35,
     "metadata": {
      "tags": []
     },
     "output_type": "execute_result"
    }
   ],
   "source": [
    "questionario.columns"
   ]
  },
  {
   "cell_type": "code",
   "execution_count": 0,
   "metadata": {
    "colab": {},
    "colab_type": "code",
    "id": "CghpNoURkCiS"
   },
   "outputs": [],
   "source": [
    "def dist_frequenza(matrice, colonna, save = False, tipo = \"categoriale\" , lista_ordinale = False):\n",
    "    '''\n",
    "    matrice: passare un dataframe di pandas\n",
    "    colonna: indicare la colonna su cui effettuare la distribuzione di frequenza\n",
    "    save: [False oppure nome del file] scegli se salvare o meno la tabella in excel\n",
    "    tipo: \n",
    "        \"categoriale\": classi non ordinate\n",
    "        \"ordinale\": classi ordinate\n",
    "        \"cardinale\": valori numerici\n",
    "    lista_ordinale: una lista di valori attraverso il cui ordinare il risultato del tipo ordinale\n",
    "    '''\n",
    "\n",
    "    frequenza = matrice[colonna].value_counts(dropna = False)\n",
    "    percentuale = matrice[colonna].value_counts(normalize = True, dropna = False) * 100\n",
    "    distribuzione = pd.concat([frequenza, percentuale], axis = 1)\n",
    "    distribuzione.columns = [\"Frequenze\", \"Percentuale\"]\n",
    "    if tipo == \"categoriale\":\n",
    "        pass\n",
    "    elif tipo == \"ordinale\": \n",
    "        try:\n",
    "            distribuzione = distribuzione.reindex(lista_ordinale)\n",
    "            distribuzione = distribuzione.fillna(0)\n",
    "            distribuzione[\"Cumulata\"] = distribuzione[\"Percentuale\"].cumsum()\n",
    "            \n",
    "            #distribuzione[\"cumsum\"] = distribuzione[colonna].cumsum()\n",
    "        except:\n",
    "            try:\n",
    "                distribuzione = distribuzione.loc[lista_ordinale]\n",
    "                distribuzione = distribuzione.fillna(0)\n",
    "                distribuzione[\"Cumulata\"] = distribuzione[\"Percentuale\"].cumsum()\n",
    "                \n",
    "            except:\n",
    "                print(\"errore, non corrispondenza con le categorie\")\n",
    "                \n",
    "\n",
    "    elif tipo == \"cardinale\":\n",
    "        distribuzione.sort_index(inplace = True)\n",
    "        \n",
    "    try:\n",
    "        distribuzione[\"Cumulata\"] = distribuzione[\"Percentuale\"].cumsum()\n",
    "        \n",
    "    except:\n",
    "        print(\"errore nella rimozione dell'incrocio Totale - Cumulata\")    \n",
    "\n",
    "\n",
    "    distribuzione.loc[\"Totale\"] = distribuzione.apply(sum)\n",
    "    \n",
    "    distribuzione[\"Percentuale\"] = distribuzione[\"Percentuale\"].round(2)\n",
    "    try:\n",
    "      distribuzione[\"Cumulata\"] = distribuzione[\"Cumulata\"].round(2)\n",
    "      distribuzione.loc[\"Totale\", \"Cumulata\"] = \"\"\n",
    "    except:\n",
    "      pass\n",
    "    \n",
    "    if save == False:\n",
    "        return distribuzione\n",
    "    else:\n",
    "        distribuzione.to_excel(str(save) + \".xlsx\")\n",
    "        return distribuzione\n",
    "\n",
    "def estrai_valore(cella):\n",
    "  try:\n",
    "    return int(cella[0])\n",
    "  except:\n",
    "    return cella\n",
    "\n",
    "\n"
   ]
  },
  {
   "cell_type": "code",
   "execution_count": 43,
   "metadata": {
    "colab": {
     "base_uri": "https://localhost:8080/",
     "height": 269
    },
    "colab_type": "code",
    "id": "Uk8xc-o8iTW5",
    "outputId": "5c20d6db-5690-4cf1-ca9d-04932e0779b0"
   },
   "outputs": [
    {
     "data": {
      "text/html": [
       "<div>\n",
       "<style scoped>\n",
       "    .dataframe tbody tr th:only-of-type {\n",
       "        vertical-align: middle;\n",
       "    }\n",
       "\n",
       "    .dataframe tbody tr th {\n",
       "        vertical-align: top;\n",
       "    }\n",
       "\n",
       "    .dataframe thead th {\n",
       "        text-align: right;\n",
       "    }\n",
       "</style>\n",
       "<table border=\"1\" class=\"dataframe\">\n",
       "  <thead>\n",
       "    <tr style=\"text-align: right;\">\n",
       "      <th></th>\n",
       "      <th>Frequenze</th>\n",
       "      <th>Percentuale</th>\n",
       "      <th>Cumulata</th>\n",
       "    </tr>\n",
       "  </thead>\n",
       "  <tbody>\n",
       "    <tr>\n",
       "      <th>1</th>\n",
       "      <td>0.0</td>\n",
       "      <td>0.00</td>\n",
       "      <td>0</td>\n",
       "    </tr>\n",
       "    <tr>\n",
       "      <th>2</th>\n",
       "      <td>5.0</td>\n",
       "      <td>16.67</td>\n",
       "      <td>16.67</td>\n",
       "    </tr>\n",
       "    <tr>\n",
       "      <th>3</th>\n",
       "      <td>17.0</td>\n",
       "      <td>56.67</td>\n",
       "      <td>73.33</td>\n",
       "    </tr>\n",
       "    <tr>\n",
       "      <th>4</th>\n",
       "      <td>7.0</td>\n",
       "      <td>23.33</td>\n",
       "      <td>96.67</td>\n",
       "    </tr>\n",
       "    <tr>\n",
       "      <th>5</th>\n",
       "      <td>1.0</td>\n",
       "      <td>3.33</td>\n",
       "      <td>100</td>\n",
       "    </tr>\n",
       "    <tr>\n",
       "      <th>6</th>\n",
       "      <td>0.0</td>\n",
       "      <td>0.00</td>\n",
       "      <td>100</td>\n",
       "    </tr>\n",
       "    <tr>\n",
       "      <th>Totale</th>\n",
       "      <td>30.0</td>\n",
       "      <td>100.00</td>\n",
       "      <td></td>\n",
       "    </tr>\n",
       "  </tbody>\n",
       "</table>\n",
       "</div>"
      ],
      "text/plain": [
       "        Frequenze  Percentuale Cumulata\n",
       "1             0.0         0.00        0\n",
       "2             5.0        16.67    16.67\n",
       "3            17.0        56.67    73.33\n",
       "4             7.0        23.33    96.67\n",
       "5             1.0         3.33      100\n",
       "6             0.0         0.00      100\n",
       "Totale       30.0       100.00         "
      ]
     },
     "execution_count": 43,
     "metadata": {
      "tags": []
     },
     "output_type": "execute_result"
    }
   ],
   "source": [
    "ordinate = dist_frequenza(questionario.applymap(estrai_valore),\n",
    "               \"Conosci queste tecnologie per l'analisi dei dati?  [2_1) Foglio di calcolo (es. excel)]\",\n",
    "               tipo = \"ordinale\",\n",
    "               lista_ordinale = [1,2,3,4,5,6])\n",
    "\n",
    "ordinate"
   ]
  },
  {
   "cell_type": "code",
   "execution_count": 0,
   "metadata": {
    "colab": {},
    "colab_type": "code",
    "id": "vDHJGOBwqR-O"
   },
   "outputs": [],
   "source": [
    "def plot_dist_frequenza(distribuzione, tipo = \"categoriale\", Y = \"Percentuale\", x_label=\"Valori\", y_label=\"Percentuale\"):\n",
    "  distribuzione = distribuzione.iloc[:-1, :]\n",
    "  \n",
    "  print(distribuzione)\n",
    "  if tipo == \"categoriale\":\n",
    "    distribuzione.index = distribuzione.index.map(lambda x: str(x))\n",
    "    g = sns.barplot(x = distribuzione.index, y=Y, data=distribuzione)\n",
    "    x = 0\n",
    "    for index, row in distribuzione.iterrows():\n",
    "      stringa = \"N.{},\\n {}%\".format(row.Frequenze, row.Percentuale)\n",
    "      g.text(x,row.Frequenze, stringa, color='black', ha=\"center\")\n",
    "      x = x + 1\n",
    "    g.set(xlabel=x_label, ylabel=y_label)\n",
    "  \n",
    "  elif tipo == \"ordinale\" or tipo == \"cardinale\":\n",
    "    index = distribuzione.index\n",
    "    distribuzione.reset_index(inplace = True)\n",
    "    g = sns.barplot(x = index, y=Y, data=distribuzione, palette=\"Blues_d\")\n",
    "    for index, row in distribuzione.iterrows():\n",
    "      stringa = \"F.{},\\n {}%\".format(row.Frequenze, row.Percentuale)\n",
    "      \n",
    "      g.text(row.name,row.Frequenze, stringa, color='black', ha=\"center\")\n",
    "      g.set(xlabel=x_label, ylabel=y_label)\n",
    "  return g\n"
   ]
  },
  {
   "cell_type": "code",
   "execution_count": 185,
   "metadata": {
    "colab": {
     "base_uri": "https://localhost:8080/",
     "height": 535
    },
    "colab_type": "code",
    "id": "1PK-pUTPre16",
    "outputId": "35aeb570-f479-49b7-986b-d55c05a2dcc7"
   },
   "outputs": [
    {
     "name": "stdout",
     "output_type": "stream",
     "text": [
      "   Frequenze  Percentuale Cumulata\n",
      "1        0.0         0.00        0\n",
      "2        5.0        16.67    16.67\n",
      "3       17.0        56.67    73.33\n",
      "4        7.0        23.33    96.67\n",
      "5        1.0         3.33      100\n",
      "6        0.0         0.00      100\n"
     ]
    },
    {
     "name": "stderr",
     "output_type": "stream",
     "text": [
      "/usr/local/lib/python3.6/dist-packages/seaborn/categorical.py:1428: FutureWarning: remove_na is deprecated and is a private function. Do not use.\n",
      "  cat_pos = np.ones(swarm_data.size) * center\n"
     ]
    },
    {
     "data": {
      "text/plain": [
       "<matplotlib.axes._subplots.AxesSubplot at 0x7f38ae071748>"
      ]
     },
     "execution_count": 185,
     "metadata": {
      "tags": []
     },
     "output_type": "execute_result"
    },
    {
     "data": {
      "image/png": "[encoded data removed]",
      "text/plain": [
       "<matplotlib.figure.Figure at 0x7f38ae0a6198>"
      ]
     },
     "metadata": {
      "tags": []
     },
     "output_type": "display_data"
    }
   ],
   "source": [
    "plot_dist_frequenza(ordinate, tipo = \"ordinale\")"
   ]
  },
  {
   "cell_type": "code",
   "execution_count": 0,
   "metadata": {
    "colab": {},
    "colab_type": "code",
    "id": "h4yhqXTDiUHz"
   },
   "outputs": [],
   "source": [
    "categoriale = dist_frequenza(questionario.applymap(estrai_valore),\n",
    "               \"1) Codice classe\",\n",
    "               tipo = \"categoriale\")"
   ]
  },
  {
   "cell_type": "code",
   "execution_count": 0,
   "metadata": {
    "colab": {},
    "colab_type": "code",
    "id": "CMY66KuT0Fvi"
   },
   "outputs": [],
   "source": []
  },
  {
   "cell_type": "code",
   "execution_count": 195,
   "metadata": {
    "colab": {
     "base_uri": "https://localhost:8080/",
     "height": 300
    },
    "colab_type": "code",
    "id": "5TFEl7v00ZNK",
    "outputId": "a78a0e53-49da-4aa5-c6a3-f963af394103"
   },
   "outputs": [
    {
     "data": {
      "text/html": [
       "<div>\n",
       "<style scoped>\n",
       "    .dataframe tbody tr th:only-of-type {\n",
       "        vertical-align: middle;\n",
       "    }\n",
       "\n",
       "    .dataframe tbody tr th {\n",
       "        vertical-align: top;\n",
       "    }\n",
       "\n",
       "    .dataframe thead th {\n",
       "        text-align: right;\n",
       "    }\n",
       "</style>\n",
       "<table border=\"1\" class=\"dataframe\">\n",
       "  <thead>\n",
       "    <tr style=\"text-align: right;\">\n",
       "      <th></th>\n",
       "      <th>Frequenze</th>\n",
       "      <th>Percentuale</th>\n",
       "      <th>Cumulata</th>\n",
       "    </tr>\n",
       "  </thead>\n",
       "  <tbody>\n",
       "    <tr>\n",
       "      <th>Magnier</th>\n",
       "      <td>12.0</td>\n",
       "      <td>40.00</td>\n",
       "      <td>40</td>\n",
       "    </tr>\n",
       "    <tr>\n",
       "      <th>magnier</th>\n",
       "      <td>12.0</td>\n",
       "      <td>40.00</td>\n",
       "      <td>80</td>\n",
       "    </tr>\n",
       "    <tr>\n",
       "      <th>magner</th>\n",
       "      <td>2.0</td>\n",
       "      <td>6.67</td>\n",
       "      <td>86.67</td>\n",
       "    </tr>\n",
       "    <tr>\n",
       "      <th>Magner</th>\n",
       "      <td>1.0</td>\n",
       "      <td>3.33</td>\n",
       "      <td>90</td>\n",
       "    </tr>\n",
       "    <tr>\n",
       "      <th>manier</th>\n",
       "      <td>1.0</td>\n",
       "      <td>3.33</td>\n",
       "      <td>93.33</td>\n",
       "    </tr>\n",
       "    <tr>\n",
       "      <th>Magnete</th>\n",
       "      <td>1.0</td>\n",
       "      <td>3.33</td>\n",
       "      <td>96.67</td>\n",
       "    </tr>\n",
       "    <tr>\n",
       "      <th></th>\n",
       "      <td>1.0</td>\n",
       "      <td>3.33</td>\n",
       "      <td>100</td>\n",
       "    </tr>\n",
       "    <tr>\n",
       "      <th>Totale</th>\n",
       "      <td>30.0</td>\n",
       "      <td>100.00</td>\n",
       "      <td></td>\n",
       "    </tr>\n",
       "  </tbody>\n",
       "</table>\n",
       "</div>"
      ],
      "text/plain": [
       "         Frequenze  Percentuale Cumulata\n",
       "Magnier       12.0        40.00       40\n",
       "magnier       12.0        40.00       80\n",
       "magner         2.0         6.67    86.67\n",
       "Magner         1.0         3.33       90\n",
       "manier         1.0         3.33    93.33\n",
       "Magnete        1.0         3.33    96.67\n",
       "               1.0         3.33      100\n",
       "Totale        30.0       100.00         "
      ]
     },
     "execution_count": 195,
     "metadata": {
      "tags": []
     },
     "output_type": "execute_result"
    }
   ],
   "source": [
    "categoriale"
   ]
  },
  {
   "cell_type": "code",
   "execution_count": 196,
   "metadata": {
    "colab": {
     "base_uri": "https://localhost:8080/",
     "height": 552
    },
    "colab_type": "code",
    "id": "7XjRP1NsvIl0",
    "outputId": "4c69b183-22e9-4294-e720-b9830cb10a6d"
   },
   "outputs": [
    {
     "name": "stdout",
     "output_type": "stream",
     "text": [
      "         Frequenze  Percentuale Cumulata\n",
      "Magnier       12.0        40.00       40\n",
      "magnier       12.0        40.00       80\n",
      "magner         2.0         6.67    86.67\n",
      "Magner         1.0         3.33       90\n",
      "manier         1.0         3.33    93.33\n",
      "Magnete        1.0         3.33    96.67\n",
      "               1.0         3.33      100\n"
     ]
    },
    {
     "name": "stderr",
     "output_type": "stream",
     "text": [
      "/usr/local/lib/python3.6/dist-packages/seaborn/categorical.py:1428: FutureWarning: remove_na is deprecated and is a private function. Do not use.\n",
      "  cat_pos = np.ones(swarm_data.size) * center\n"
     ]
    },
    {
     "data": {
      "text/plain": [
       "<matplotlib.axes._subplots.AxesSubplot at 0x7f38adec2748>"
      ]
     },
     "execution_count": 196,
     "metadata": {
      "tags": []
     },
     "output_type": "execute_result"
    },
    {
     "data": {
      "image/png": "[encoded data removed]",
      "text/plain": [
       "<matplotlib.figure.Figure at 0x7f38ae03f550>"
      ]
     },
     "metadata": {
      "tags": []
     },
     "output_type": "display_data"
    }
   ],
   "source": [
    "plot_dist_frequenza(categoriale, tipo = \"categoriale\")"
   ]
  },
  {
   "cell_type": "code",
   "execution_count": 0,
   "metadata": {
    "colab": {},
    "colab_type": "code",
    "id": "c5fWFOrzobIm"
   },
   "outputs": [],
   "source": []
  },
  {
   "cell_type": "code",
   "execution_count": 0,
   "metadata": {
    "colab": {},
    "colab_type": "code",
    "id": "2DR8FZPf2PNZ"
   },
   "outputs": [],
   "source": [
    "cardinale_freq = pd.DataFrame({\"Nome\":[\"Marco\", \"Piero\", \"Luigi\", \"Massimo\", \"Alberto\"], \"Età\": [34,34,22,32,13]})"
   ]
  },
  {
   "cell_type": "code",
   "execution_count": 0,
   "metadata": {
    "colab": {},
    "colab_type": "code",
    "id": "6vkVPVuT2jlJ"
   },
   "outputs": [],
   "source": [
    "cardinale = dist_frequenza(cardinale_freq ,\n",
    "               \"Età\",\n",
    "               tipo = \"cardinale\")"
   ]
  },
  {
   "cell_type": "code",
   "execution_count": 205,
   "metadata": {
    "colab": {
     "base_uri": "https://localhost:8080/",
     "height": 500
    },
    "colab_type": "code",
    "id": "cRBlS04_oeUl",
    "outputId": "b488d9f9-3a33-4762-92d9-b6eb2b5d45ac"
   },
   "outputs": [
    {
     "name": "stdout",
     "output_type": "stream",
     "text": [
      "    Frequenze  Percentuale Cumulata\n",
      "13        1.0         20.0       20\n",
      "22        1.0         20.0       40\n",
      "32        1.0         20.0       60\n",
      "34        2.0         40.0      100\n"
     ]
    },
    {
     "name": "stderr",
     "output_type": "stream",
     "text": [
      "/usr/local/lib/python3.6/dist-packages/seaborn/categorical.py:1428: FutureWarning: remove_na is deprecated and is a private function. Do not use.\n",
      "  cat_pos = np.ones(swarm_data.size) * center\n"
     ]
    },
    {
     "data": {
      "text/plain": [
       "<matplotlib.axes._subplots.AxesSubplot at 0x7f38ade6f438>"
      ]
     },
     "execution_count": 205,
     "metadata": {
      "tags": []
     },
     "output_type": "execute_result"
    },
    {
     "data": {
      "image/png": "[encoded data removed]",
      "text/plain": [
       "<matplotlib.figure.Figure at 0x7f38ade869e8>"
      ]
     },
     "metadata": {
      "tags": []
     },
     "output_type": "display_data"
    }
   ],
   "source": [
    "plot_dist_frequenza(cardinale, tipo = \"cardinale\")"
   ]
  },
  {
   "cell_type": "code",
   "execution_count": 209,
   "metadata": {
    "colab": {
     "base_uri": "https://localhost:8080/",
     "height": 382
    },
    "colab_type": "code",
    "id": "cCwtIlPNzQRs",
    "outputId": "ca79e2eb-d795-4177-a81d-6a02c5fee403"
   },
   "outputs": [
    {
     "data": {
      "text/plain": [
       "<matplotlib.axes._subplots.AxesSubplot at 0x7f38ade5bc50>"
      ]
     },
     "execution_count": 209,
     "metadata": {
      "tags": []
     },
     "output_type": "execute_result"
    },
    {
     "data": {
      "image/png": "[encoded data removed]",
      "text/plain": [
       "<matplotlib.figure.Figure at 0x7f38add3eb00>"
      ]
     },
     "metadata": {
      "tags": []
     },
     "output_type": "display_data"
    }
   ],
   "source": [
    "#partire direttamente dai dati in matrice per il distplot\n",
    "sns.distplot( cardinale_freq[\"Età\"], bins = 10)"
   ]
  },
  {
   "cell_type": "code",
   "execution_count": 0,
   "metadata": {
    "colab": {},
    "colab_type": "code",
    "id": "2W0FFCwtzkbJ"
   },
   "outputs": [],
   "source": []
  }
 ],
 "metadata": {
  "colab": {
   "collapsed_sections": [],
   "include_colab_link": true,
   "name": "monovariata.ipynb",
   "provenance": [],
   "version": "0.3.2"
  },
  "kernelspec": {
   "display_name": "Python 3",
   "language": "python",
   "name": "python3"
  },
  "language_info": {
   "codemirror_mode": {
    "name": "ipython",
    "version": 3
   },
   "file_extension": ".py",
   "mimetype": "text/x-python",
   "name": "python",
   "nbconvert_exporter": "python",
   "pygments_lexer": "ipython3",
   "version": "3.6.4"
  }
 },
 "nbformat": 4,
 "nbformat_minor": 1
}
