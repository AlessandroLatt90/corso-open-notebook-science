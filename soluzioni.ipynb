{
 "cells": [
  {
   "cell_type": "markdown",
   "metadata": {},
   "source": [
    "# Esercizio 1"
   ]
  },
  {
   "cell_type": "code",
   "execution_count": 1,
   "metadata": {},
   "outputs": [
    {
     "name": "stdout",
     "output_type": "stream",
     "text": [
      "/home/scarselli/notebooks/corso-open-notebook-science\n",
      "## deve essere raccolta ogni informazione ed inserita in un dizionario python \n",
      "\n",
      "Albert Einstein è stato un fisico e filosofo tedesco naturalizzato svizzero e statunitense. Oltre a essere uno dei più celebri fisici della storia della scienza, che mutò in maniera radicale il paradigma ... Wikipedia\n",
      "Nascita: 14 marzo 1879, Ulma, Germania\n",
      "Decesso: 18 aprile 1955, Princeton, New Jersey, Stati Uniti\n",
      "Altezza: 1,75 m\n",
      "Figli: Eduard Einstein, Hans Albert Einstein, Lieserl Einstein\n",
      "Coniuge: Elsa Einstein (s. 1919–1936), Mileva Marić (s. 1903–1919)\n",
      "\n"
     ]
    }
   ],
   "source": [
    "import os\n",
    "print(os.getcwd()) #sono nella cartella di open-notebook-science\n",
    "with open(\"./esercizi/Esercizio_1/albert.txt\" , \"r\") as miofile:\n",
    "    contenuto_mio_file = miofile.read()\n",
    "    \n",
    "print(contenuto_mio_file)"
   ]
  },
  {
   "cell_type": "code",
   "execution_count": 2,
   "metadata": {},
   "outputs": [],
   "source": [
    "# adesso creo le variabili\n",
    "Data_Nascita = contenuto_mio_file.split(\"Nascita: \")[1].split(\",\")[0]\n",
    "Decesso = contenuto_mio_file.split(\"Decesso: \")[1].split(\",\")[0]\n",
    "Altezza = contenuto_mio_file.split(\"Altezza: \")[1].split(\" m\")[0]\n",
    "Figli = contenuto_mio_file.split(\"Figli: \")[1].split(\"\\n\")[0].split(\", \")\n",
    "Coniuge = contenuto_mio_file.split(\"Coniuge: \")[1].split(\"\\n\")[0].split(\", \")"
   ]
  },
  {
   "cell_type": "code",
   "execution_count": 3,
   "metadata": {},
   "outputs": [],
   "source": [
    "Descrizione = contenuto_mio_file.split(\"\\n\\n\")[1].split(\" Wikipedia\")[0]"
   ]
  },
  {
   "cell_type": "code",
   "execution_count": 4,
   "metadata": {},
   "outputs": [],
   "source": [
    "dizionario = {\n",
    "    \"Data_nascita\": Data_Nascita,\n",
    "    \"Decesso\": Decesso,\n",
    "    \"Alezza\": Altezza,\n",
    "    \"Descrizione\": Descrizione,\n",
    "    \"Figli\": Figli,\n",
    "    \"Coniuge\": Coniuge\n",
    "    \n",
    "}"
   ]
  },
  {
   "cell_type": "code",
   "execution_count": 5,
   "metadata": {},
   "outputs": [
    {
     "data": {
      "text/plain": [
       "{'Alezza': '1,75',\n",
       " 'Coniuge': ['Elsa Einstein (s. 1919–1936)', 'Mileva Marić (s. 1903–1919)'],\n",
       " 'Data_nascita': '14 marzo 1879',\n",
       " 'Decesso': '18 aprile 1955',\n",
       " 'Descrizione': 'Albert Einstein è stato un fisico e filosofo tedesco naturalizzato svizzero e statunitense. Oltre a essere uno dei più celebri fisici della storia della scienza, che mutò in maniera radicale il paradigma ...',\n",
       " 'Figli': ['Eduard Einstein', 'Hans Albert Einstein', 'Lieserl Einstein']}"
      ]
     },
     "execution_count": 5,
     "metadata": {},
     "output_type": "execute_result"
    }
   ],
   "source": [
    "dizionario"
   ]
  },
  {
   "cell_type": "markdown",
   "metadata": {},
   "source": [
    "# Esercizio 2"
   ]
  },
  {
   "cell_type": "code",
   "execution_count": 9,
   "metadata": {},
   "outputs": [],
   "source": [
    "import numpy as np\n",
    "def estrai_data(scheda):\n",
    "    '''\n",
    "    doc string\n",
    "    scheda: passiamo alla funzione la stringa di testo contenente le informazioni\n",
    "    '''\n",
    "\n",
    "    try:\n",
    "        Data_Nascita = scheda.split(\"Nascita: \")[1].split(\",\")[0]\n",
    "    except:\n",
    "        Data_Nascita = np.nan\n",
    "    try:\n",
    "        Descrizione =  scheda.split(\" Wikipedia\")[0]\n",
    "    except:\n",
    "        Descrizione = np.nan\n",
    "    try:\n",
    "        Decesso = scheda.split(\"Decesso: \")[1].split(\",\")[0]\n",
    "    except:\n",
    "        Decesso = np.nan\n",
    "    try:\n",
    "        Altezza = scheda.split(\"Altezza: \")[1].split(\" m\")[0]\n",
    "    except:\n",
    "        Altezza = np.nan\n",
    "    try:\n",
    "        Figli = scheda.split(\"Figli: \")[1].split(\"\\n\")[0].split(\", \")\n",
    "    except:\n",
    "        Figli = np.nan\n",
    "    try:\n",
    "        Coniuge = scheda.split(\"Coniuge: \")[1].split(\"\\n\")[0].split(\", \")\n",
    "    except:\n",
    "        Coniuge = np.nan\n",
    "    try:\n",
    "        Peso = scheda.split(\"Peso: \")[1].split(\" kg\")[0]\n",
    "    except:\n",
    "        Peso = np.nan\n",
    "        \n",
    "    \n",
    "    dizionario = {\n",
    "    \"Data_nascita\": Data_Nascita,\n",
    "    \"Decesso\": Decesso,\n",
    "    \"Alezza\": Altezza,\n",
    "    \"Descrizione\": Descrizione,\n",
    "    \"Figli\": Figli,\n",
    "    \"Coniuge\": Coniuge,\n",
    "    \"Peso\": Peso\n",
    "    }\n",
    "    \n",
    "    return dizionario"
   ]
  },
  {
   "cell_type": "code",
   "execution_count": 10,
   "metadata": {},
   "outputs": [
    {
     "data": {
      "text/plain": [
       "{'Alezza': '1,75',\n",
       " 'Coniuge': ['Elsa Einstein (s. 1919–1936)', 'Mileva Marić (s. 1903–1919)'],\n",
       " 'Data_nascita': '14 marzo 1879',\n",
       " 'Decesso': '18 aprile 1955',\n",
       " 'Descrizione': '## deve essere raccolta ogni informazione ed inserita in un dizionario python \\n\\nAlbert Einstein è stato un fisico e filosofo tedesco naturalizzato svizzero e statunitense. Oltre a essere uno dei più celebri fisici della storia della scienza, che mutò in maniera radicale il paradigma ...',\n",
       " 'Figli': ['Eduard Einstein', 'Hans Albert Einstein', 'Lieserl Einstein'],\n",
       " 'Peso': nan}"
      ]
     },
     "execution_count": 10,
     "metadata": {},
     "output_type": "execute_result"
    }
   ],
   "source": [
    "estrai_data(contenuto_mio_file) # si utilizza la funzione sui dati del primo esercizio\n",
    "# Descrizione non funziona correttamente perché il file del primo esercizio è strutturato in modo leggermente diverso\n",
    "# con un file di commento nella prima riga"
   ]
  },
  {
   "cell_type": "code",
   "execution_count": 19,
   "metadata": {},
   "outputs": [
    {
     "data": {
      "text/html": [
       "<div>\n",
       "<style scoped>\n",
       "    .dataframe tbody tr th:only-of-type {\n",
       "        vertical-align: middle;\n",
       "    }\n",
       "\n",
       "    .dataframe tbody tr th {\n",
       "        vertical-align: top;\n",
       "    }\n",
       "\n",
       "    .dataframe thead th {\n",
       "        text-align: right;\n",
       "    }\n",
       "</style>\n",
       "<table border=\"1\" class=\"dataframe\">\n",
       "  <thead>\n",
       "    <tr style=\"text-align: right;\">\n",
       "      <th></th>\n",
       "      <th>0</th>\n",
       "    </tr>\n",
       "  </thead>\n",
       "  <tbody>\n",
       "    <tr>\n",
       "      <th>Data_nascita</th>\n",
       "      <td>14 marzo 1879</td>\n",
       "    </tr>\n",
       "    <tr>\n",
       "      <th>Alezza</th>\n",
       "      <td>1,75</td>\n",
       "    </tr>\n",
       "    <tr>\n",
       "      <th>Descrizione</th>\n",
       "      <td>## deve essere raccolta ogni informazione ed i...</td>\n",
       "    </tr>\n",
       "    <tr>\n",
       "      <th>Peso</th>\n",
       "      <td>NaN</td>\n",
       "    </tr>\n",
       "    <tr>\n",
       "      <th>Coniuge</th>\n",
       "      <td>[Elsa Einstein (s. 1919–1936), Mileva Marić (s...</td>\n",
       "    </tr>\n",
       "    <tr>\n",
       "      <th>Decesso</th>\n",
       "      <td>18 aprile 1955</td>\n",
       "    </tr>\n",
       "    <tr>\n",
       "      <th>Figli</th>\n",
       "      <td>[Eduard Einstein, Hans Albert Einstein, Lieser...</td>\n",
       "    </tr>\n",
       "  </tbody>\n",
       "</table>\n",
       "</div>"
      ],
      "text/plain": [
       "                                                              0\n",
       "Data_nascita                                      14 marzo 1879\n",
       "Alezza                                                     1,75\n",
       "Descrizione   ## deve essere raccolta ogni informazione ed i...\n",
       "Peso                                                        NaN\n",
       "Coniuge       [Elsa Einstein (s. 1919–1936), Mileva Marić (s...\n",
       "Decesso                                          18 aprile 1955\n",
       "Figli         [Eduard Einstein, Hans Albert Einstein, Lieser..."
      ]
     },
     "execution_count": 19,
     "metadata": {},
     "output_type": "execute_result"
    }
   ],
   "source": [
    "import pandas as pd #qui si fa vedere pandas per la prima volta:)\n",
    "pd.DataFrame.from_dict(estrai_data(contenuto_mio_file), orient = \"index\")"
   ]
  },
  {
   "cell_type": "markdown",
   "metadata": {},
   "source": [
    "# Esercizio 3"
   ]
  },
  {
   "cell_type": "code",
   "execution_count": 21,
   "metadata": {},
   "outputs": [],
   "source": [
    "import os # libreria che permette di lavorare con il file sistem\n",
    "import numpy as np # importo la libreria numpy che permette di utilizzare il tipo di dato \"missing\n",
    "dir_di_lavoro = \"./esercizi/Esercizio_2/\" # directory dove sono presenti i file\n",
    "\n",
    "#creo una lista vuota dove contenere tutti i file di testo\n",
    "lista_schede = []\n",
    "\n",
    "for item in os.listdir(dir_di_lavoro): # esegue un ciclo su tutte le schede presenti \n",
    "    if item[-3:] == \"txt\": # dato che nella cartella ci potrebbero essere altri file, esegue le operazioni solo su quelle che terminano per \"txt\"\n",
    "        with open(os.path.join(dir_di_lavoro, item)) as schede:\n",
    "            scheda = schede.read()\n",
    "            lista_schede.append(scheda)"
   ]
  },
  {
   "cell_type": "code",
   "execution_count": 22,
   "metadata": {},
   "outputs": [
    {
     "data": {
      "text/plain": [
       "['Albert Einstein è stato un fisico e filosofo tedesco naturalizzato svizzero e statunitense. Oltre a essere uno dei più celebri fisici della storia della scienza, che mutò in maniera radicale il paradigma ... Wikipedia\\nNascita: 14 marzo 1879, Ulma, Germania\\nDecesso: 18 aprile 1955, Princeton, New Jersey, Stati Uniti\\nAltezza: 1,75 m\\nFigli: Eduard Einstein, Hans Albert Einstein, Lieserl Einstein\\nConiuge: Elsa Einstein (s. 1919–1936), Mileva Marić (s. 1903–1919)\\n',\n",
       " 'Nome: Kakuryū Rikisaburō\\nNascita: 10 agosto 1985 (età 32 anni), Ulan Bator, Mongolia\\nScuderia: Izutsu stable (dal 2001)\\nGrado Makuuchi: Yokozuna (dal 2014), Ozeki (dal 2012)\\nAltezza: 1,86 m\\nPeso: 155 kg\\nArte marziale: Sumo',\n",
       " 'Akebono Tarō, nato Chadwick Haheo Rowan, è un ex lottatore di sumo, artista marziale misto e wrestler statunitense di origine giapponese. Wikipedia\\nNascita: 8 maggio 1969 (età 49 anni), Waimanalo, Hawaii, Stati Uniti\\nScuderia: Azumazeki stable (1988–2001)\\nGrado Makuuchi: Yokozuna\\nPeso: 250 kg\\nAltezza: 2,03 m\\nConiuge: Christiane Reiko Kalina (s. 1998)\\n',\n",
       " 'Karl Paul Polanyi è stato un economista, sociologo, antropologo e filosofo ungherese. È noto per la sua critica della società di mercato espressa nel suo lavoro principale, La grande trasformazione. Wikipedia\\nNascita: 25 ottobre 1886, Vienna, Austria\\nDecesso: 23 aprile 1964, Pickering\\nConiuge: Ilona Duczyńska (s. 1920–1964)\\nGenitori: Cecília Wohl, Mihály Pollacsek\\nFratelli: Michael Polanyi, Laura Polanyi Striker\\n\\n',\n",
       " '\\nLuigino è stato uno dei più grandi artisti lirici della storia di San Marino   \\nNascita: 14 marzo 1945, San Marino, San Marino.\\nDecesso: 18 aprile 2015, San Marino, San Marino.\\nAltezza: 1,75 m\\nPeso: 205 KG\\n\\n',\n",
       " \"Cristiano Ronaldo dos Santos Aveiro, meglio noto come Cristiano Ronaldo, è un calciatore portoghese, attaccante del Real Madrid e della nazionale portoghese, della quale è capitano. Con quest'ultima si è laureato campione d'Europa nel 2016. Wikipedia\\nNascita: 5 febbraio 1985 (età 33 anni), Hospital Dr. Nélio Mendonça, Funchal, Portogallo\\nAltezza: 1,87 m\\nPeso: 84 kg\\nStipendio: 32 milioni EUR (2016)\\nFigli: Alana Martina dos Santos Aveiro, Eva Maria Dos Santos, Cristiano Ronaldo Jr., Mateo Ronaldo\\nSquadre attuali: Real Madrid Club de Fútbol (#7 / Attaccante), Nazionale di calcio del Portogallo (#7 / Attaccante)\\n\",\n",
       " \"Tomas Walsh è un pesista neozelandese. In carriera ha conquistato la medaglia d'oro ai Mondiali indoor di Portland 2016, con la misura di 21,78, e la medaglia di bronzo ai Mondiali indoor di Sopot 2014. Wikipedia\\nNascita: 1 marzo 1992 (età 26 anni), Distretto di Timaru, Nuova Zelanda\\nAltezza: 1,85 m\\nPeso: 120 kg\\nGenitori: Peter Walsh, Karen Walsh\\nMedaglia olimpica: Atletica leggera ai Giochi della XXXI Olimpiade - Getto del peso maschile\\nFratelli: Bill Walsh\\n\"]"
      ]
     },
     "execution_count": 22,
     "metadata": {},
     "output_type": "execute_result"
    }
   ],
   "source": [
    "lista_schede"
   ]
  },
  {
   "cell_type": "code",
   "execution_count": 23,
   "metadata": {},
   "outputs": [],
   "source": [
    "lista_di_dizionari = []\n",
    "for scheda in lista_schede:\n",
    "    lista_di_dizionari.append(estrai_data(scheda))"
   ]
  },
  {
   "cell_type": "code",
   "execution_count": 24,
   "metadata": {},
   "outputs": [],
   "source": [
    "# esercizio 3"
   ]
  },
  {
   "cell_type": "code",
   "execution_count": null,
   "metadata": {},
   "outputs": [],
   "source": []
  },
  {
   "cell_type": "code",
   "execution_count": 25,
   "metadata": {},
   "outputs": [
    {
     "data": {
      "text/html": [
       "<div>\n",
       "<style scoped>\n",
       "    .dataframe tbody tr th:only-of-type {\n",
       "        vertical-align: middle;\n",
       "    }\n",
       "\n",
       "    .dataframe tbody tr th {\n",
       "        vertical-align: top;\n",
       "    }\n",
       "\n",
       "    .dataframe thead th {\n",
       "        text-align: right;\n",
       "    }\n",
       "</style>\n",
       "<table border=\"1\" class=\"dataframe\">\n",
       "  <thead>\n",
       "    <tr style=\"text-align: right;\">\n",
       "      <th></th>\n",
       "      <th>Alezza</th>\n",
       "      <th>Coniuge</th>\n",
       "      <th>Data_nascita</th>\n",
       "      <th>Decesso</th>\n",
       "      <th>Descrizione</th>\n",
       "      <th>Figli</th>\n",
       "      <th>Peso</th>\n",
       "    </tr>\n",
       "  </thead>\n",
       "  <tbody>\n",
       "    <tr>\n",
       "      <th>0</th>\n",
       "      <td>1,75</td>\n",
       "      <td>[Elsa Einstein (s. 1919–1936), Mileva Marić (s...</td>\n",
       "      <td>14 marzo 1879</td>\n",
       "      <td>18 aprile 1955</td>\n",
       "      <td>Albert Einstein è stato un fisico e filosofo t...</td>\n",
       "      <td>[Eduard Einstein, Hans Albert Einstein, Lieser...</td>\n",
       "      <td>NaN</td>\n",
       "    </tr>\n",
       "    <tr>\n",
       "      <th>1</th>\n",
       "      <td>1,86</td>\n",
       "      <td>NaN</td>\n",
       "      <td>10 agosto 1985 (età 32 anni)</td>\n",
       "      <td>NaN</td>\n",
       "      <td>Nome: Kakuryū Rikisaburō\\nNascita: 10 agosto 1...</td>\n",
       "      <td>NaN</td>\n",
       "      <td>155</td>\n",
       "    </tr>\n",
       "    <tr>\n",
       "      <th>2</th>\n",
       "      <td>2,03</td>\n",
       "      <td>[Christiane Reiko Kalina (s. 1998)]</td>\n",
       "      <td>8 maggio 1969 (età 49 anni)</td>\n",
       "      <td>NaN</td>\n",
       "      <td>Akebono Tarō, nato Chadwick Haheo Rowan, è un ...</td>\n",
       "      <td>NaN</td>\n",
       "      <td>250</td>\n",
       "    </tr>\n",
       "    <tr>\n",
       "      <th>3</th>\n",
       "      <td>NaN</td>\n",
       "      <td>[Ilona Duczyńska (s. 1920–1964)]</td>\n",
       "      <td>25 ottobre 1886</td>\n",
       "      <td>23 aprile 1964</td>\n",
       "      <td>Karl Paul Polanyi è stato un economista, socio...</td>\n",
       "      <td>NaN</td>\n",
       "      <td>NaN</td>\n",
       "    </tr>\n",
       "    <tr>\n",
       "      <th>4</th>\n",
       "      <td>1,75</td>\n",
       "      <td>NaN</td>\n",
       "      <td>14 marzo 1945</td>\n",
       "      <td>18 aprile 2015</td>\n",
       "      <td>\\nLuigino è stato uno dei più grandi artisti l...</td>\n",
       "      <td>NaN</td>\n",
       "      <td>205 KG\\n\\n</td>\n",
       "    </tr>\n",
       "    <tr>\n",
       "      <th>5</th>\n",
       "      <td>1,87</td>\n",
       "      <td>NaN</td>\n",
       "      <td>5 febbraio 1985 (età 33 anni)</td>\n",
       "      <td>NaN</td>\n",
       "      <td>Cristiano Ronaldo dos Santos Aveiro, meglio no...</td>\n",
       "      <td>[Alana Martina dos Santos Aveiro, Eva Maria Do...</td>\n",
       "      <td>84</td>\n",
       "    </tr>\n",
       "    <tr>\n",
       "      <th>6</th>\n",
       "      <td>1,85</td>\n",
       "      <td>NaN</td>\n",
       "      <td>1 marzo 1992 (età 26 anni)</td>\n",
       "      <td>NaN</td>\n",
       "      <td>Tomas Walsh è un pesista neozelandese. In carr...</td>\n",
       "      <td>NaN</td>\n",
       "      <td>120</td>\n",
       "    </tr>\n",
       "  </tbody>\n",
       "</table>\n",
       "</div>"
      ],
      "text/plain": [
       "  Alezza                                            Coniuge  \\\n",
       "0   1,75  [Elsa Einstein (s. 1919–1936), Mileva Marić (s...   \n",
       "1   1,86                                                NaN   \n",
       "2   2,03                [Christiane Reiko Kalina (s. 1998)]   \n",
       "3    NaN                   [Ilona Duczyńska (s. 1920–1964)]   \n",
       "4   1,75                                                NaN   \n",
       "5   1,87                                                NaN   \n",
       "6   1,85                                                NaN   \n",
       "\n",
       "                    Data_nascita         Decesso  \\\n",
       "0                  14 marzo 1879  18 aprile 1955   \n",
       "1   10 agosto 1985 (età 32 anni)             NaN   \n",
       "2    8 maggio 1969 (età 49 anni)             NaN   \n",
       "3                25 ottobre 1886  23 aprile 1964   \n",
       "4                  14 marzo 1945  18 aprile 2015   \n",
       "5  5 febbraio 1985 (età 33 anni)             NaN   \n",
       "6     1 marzo 1992 (età 26 anni)             NaN   \n",
       "\n",
       "                                         Descrizione  \\\n",
       "0  Albert Einstein è stato un fisico e filosofo t...   \n",
       "1  Nome: Kakuryū Rikisaburō\\nNascita: 10 agosto 1...   \n",
       "2  Akebono Tarō, nato Chadwick Haheo Rowan, è un ...   \n",
       "3  Karl Paul Polanyi è stato un economista, socio...   \n",
       "4  \\nLuigino è stato uno dei più grandi artisti l...   \n",
       "5  Cristiano Ronaldo dos Santos Aveiro, meglio no...   \n",
       "6  Tomas Walsh è un pesista neozelandese. In carr...   \n",
       "\n",
       "                                               Figli        Peso  \n",
       "0  [Eduard Einstein, Hans Albert Einstein, Lieser...         NaN  \n",
       "1                                                NaN         155  \n",
       "2                                                NaN         250  \n",
       "3                                                NaN         NaN  \n",
       "4                                                NaN  205 KG\\n\\n  \n",
       "5  [Alana Martina dos Santos Aveiro, Eva Maria Do...          84  \n",
       "6                                                NaN         120  "
      ]
     },
     "execution_count": 25,
     "metadata": {},
     "output_type": "execute_result"
    }
   ],
   "source": [
    "pd.DataFrame(lista_di_dizionari)"
   ]
  },
  {
   "cell_type": "code",
   "execution_count": null,
   "metadata": {},
   "outputs": [],
   "source": []
  },
  {
   "cell_type": "code",
   "execution_count": null,
   "metadata": {},
   "outputs": [],
   "source": []
  },
  {
   "cell_type": "code",
   "execution_count": null,
   "metadata": {},
   "outputs": [],
   "source": []
  }
 ],
 "metadata": {
  "kernelspec": {
   "display_name": "Python 3",
   "language": "python",
   "name": "python3"
  },
  "language_info": {
   "codemirror_mode": {
    "name": "ipython",
    "version": 3
   },
   "file_extension": ".py",
   "mimetype": "text/x-python",
   "name": "python",
   "nbconvert_exporter": "python",
   "pygments_lexer": "ipython3",
   "version": "3.5.4"
  }
 },
 "nbformat": 4,
 "nbformat_minor": 2
}
