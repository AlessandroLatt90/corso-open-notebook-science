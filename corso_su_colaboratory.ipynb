{
  "nbformat": 4,
  "nbformat_minor": 0,
  "metadata": {
    "colab": {
      "name": "corso su colaboratory.ipynb",
      "version": "0.3.2",
      "provenance": [],
      "include_colab_link": true
    },
    "kernelspec": {
      "name": "python3",
      "display_name": "Python 3"
    }
  },
  "cells": [
    {
      "cell_type": "markdown",
      "metadata": {
        "id": "view-in-github",
        "colab_type": "text"
      },
      "source": [
        "[View in Colaboratory](https://colab.research.google.com/github/datalifelab/corso-open-notebook-science/blob/master/corso_su_colaboratory.ipynb)"
      ]
    },
    {
      "metadata": {
        "id": "QoZ8cRkD3oRm",
        "colab_type": "text"
      },
      "cell_type": "markdown",
      "source": [
        "# Corso su Colaboratory\n",
        "## Questo notebook contiene alcune librerie per lavorare in modo integrato nell'ecosistema di google drive:\n",
        "### Aprire fogli di calcolo di google\n",
        "### Effettuare la pulizia della matrice dall'importazione\n"
      ]
    },
    {
      "metadata": {
        "id": "_Kr4X18B_l3G",
        "colab_type": "code",
        "colab": {
          "base_uri": "https://localhost:8080/",
          "height": 35
        },
        "outputId": "66f3e70f-639e-4ba9-d080-cfc2cc6fff3c"
      },
      "cell_type": "code",
      "source": [
        "%%html\n",
        "<marquee style='width: 100%; color: blue;'><b>Buon divertimento!!</b></marquee>"
      ],
      "execution_count": 16,
      "outputs": [
        {
          "output_type": "display_data",
          "data": {
            "text/html": [
              "<marquee style='width: 100%; color: blue;'><b>Buon divertimento!!</b></marquee>"
            ],
            "text/plain": [
              "<IPython.core.display.HTML object>"
            ]
          },
          "metadata": {
            "tags": []
          }
        }
      ]
    },
    {
      "metadata": {
        "id": "J8I9-KW1B4Sk",
        "colab_type": "code",
        "colab": {}
      },
      "cell_type": "code",
      "source": [
        "#effettuo l'importazione della libreria per il controllo del sistema operativo\n",
        "import os\n",
        "#effettuo l'importazione della libreria statistica Pandas\n",
        "import pandas as pd\n",
        "import matplotlib.pyplot as plt\n",
        "import seaborn as sns"
      ],
      "execution_count": 0,
      "outputs": []
    },
    {
      "metadata": {
        "id": "oHUVasHH5iqj",
        "colab_type": "code",
        "colab": {}
      },
      "cell_type": "code",
      "source": [
        "!pip install --upgrade -q gspread"
      ],
      "execution_count": 0,
      "outputs": []
    },
    {
      "metadata": {
        "id": "g-7vLbOt7T9F",
        "colab_type": "code",
        "colab": {}
      },
      "cell_type": "code",
      "source": [
        ""
      ],
      "execution_count": 0,
      "outputs": []
    },
    {
      "metadata": {
        "id": "da65qfUKCAy0",
        "colab_type": "code",
        "colab": {}
      },
      "cell_type": "code",
      "source": [
        "#Effettuo le librerie che mi autorizzano ad accedere ai file di google drive\n",
        "from google.colab import auth\n",
        "auth.authenticate_user()\n",
        "\n",
        "import gspread\n",
        "from oauth2client.client import GoogleCredentials\n",
        "\n",
        "#richiedo le credenziali: apre delle istruzioni e link da seguire per completare\n",
        "#la procedura\n",
        "gc = gspread.authorize(GoogleCredentials.get_application_default())\n",
        "\n"
      ],
      "execution_count": 0,
      "outputs": []
    },
    {
      "metadata": {
        "id": "2qMLlmidCLuz",
        "colab_type": "code",
        "colab": {}
      },
      "cell_type": "code",
      "source": [
        "def download_gspread(nome_file, nome_del_foglio = \"Foglio1\"):\n",
        "  '''questa funzione, dato il nome del file di google spreadsheet\n",
        "  e dello specifico foglio di calcolo (opzionale) di google\n",
        "  restituisce un dataframe di pandas'''\n",
        "  \n",
        "  def str_to_float(cell):\n",
        "    '''trasforma in decimale \n",
        "    tutti i valori stringa contententi \n",
        "    valori numerici'''\n",
        "    \n",
        "    try:\n",
        "      cell = float(cell)\n",
        "    except:\n",
        "      cell = cell\n",
        "    return cell\n",
        "  \n",
        "  #questo comando scarica il foglio 1 del foglio di calcolo\n",
        "  if nome_del_foglio == \"Foglio1\":\n",
        "    worksheet = gc.open(nome_file).sheet1\n",
        "  else:\n",
        "    worksheet = gc.open(nome_file).worksheet(nome_del_foglio)\n",
        "\n",
        "  # prendo tutte le righe del foglio\n",
        "  rows = worksheet.get_all_values()\n",
        "\n",
        "  # Converto in DataFrame di Pandas ed effettuo la pulizia dei dati con la funzione\n",
        "  # str_to_float\n",
        "  \n",
        "  dati = pd.DataFrame.from_records(rows)\n",
        "  dati.columns = dati.loc[0]\n",
        "  dati = dati.drop(0, axis = 0)\n",
        "  dati = dati.applymap(str_to_float)\n",
        "  \n",
        "  \n",
        "  return dati "
      ],
      "execution_count": 0,
      "outputs": []
    },
    {
      "metadata": {
        "id": "Ex33RwSxCm6A",
        "colab_type": "code",
        "colab": {}
      },
      "cell_type": "code",
      "source": [
        "dataset = download_gspread(\"esercitazione\")"
      ],
      "execution_count": 0,
      "outputs": []
    },
    {
      "metadata": {
        "id": "60wQ3JV_C_g0",
        "colab_type": "code",
        "colab": {
          "base_uri": "https://localhost:8080/",
          "height": 86
        },
        "outputId": "32aa6021-095a-4228-f40d-db4d442c574c"
      },
      "cell_type": "code",
      "source": [
        "dataset.mean()"
      ],
      "execution_count": 22,
      "outputs": [
        {
          "output_type": "execute_result",
          "data": {
            "text/plain": [
              "0\n",
              "età           43.555556\n",
              "reddito    30898.000000\n",
              "dtype: float64"
            ]
          },
          "metadata": {
            "tags": []
          },
          "execution_count": 22
        }
      ]
    },
    {
      "metadata": {
        "id": "sUqBbTVy7Lh-",
        "colab_type": "code",
        "colab": {
          "base_uri": "https://localhost:8080/",
          "height": 34
        },
        "outputId": "6d2879c5-c706-49d3-e0ff-ba90113d37f8"
      },
      "cell_type": "code",
      "source": [
        "dataset[\"reddito\"].mean()"
      ],
      "execution_count": 23,
      "outputs": [
        {
          "output_type": "execute_result",
          "data": {
            "text/plain": [
              "30898.0"
            ]
          },
          "metadata": {
            "tags": []
          },
          "execution_count": 23
        }
      ]
    },
    {
      "metadata": {
        "id": "bj2cjK7J-qkn",
        "colab_type": "code",
        "colab": {
          "base_uri": "https://localhost:8080/",
          "height": 378
        },
        "outputId": "7fcf4f88-3928-4a9f-e3eb-047066160da3"
      },
      "cell_type": "code",
      "source": [
        "#grafici base\n",
        "#https://pandas.pydata.org/pandas-docs/stable/generated/pandas.DataFrame.plot.html\n",
        "\n",
        "dataset.loc[:,[\"età\", \"reddito\"]].plot(kind = \"scatter\", y = \"reddito\", x = \"età\", )"
      ],
      "execution_count": 28,
      "outputs": [
        {
          "output_type": "execute_result",
          "data": {
            "text/plain": [
              "<matplotlib.axes._subplots.AxesSubplot at 0x7f2bb217a400>"
            ]
          },
          "metadata": {
            "tags": []
          },
          "execution_count": 28
        },
        {
          "output_type": "display_data",
          "data": {
            "image/png": "[encoded data removed]",
            "text/plain": [
              "<matplotlib.figure.Figure at 0x7f2bb2131860>"
            ]
          },
          "metadata": {
            "tags": []
          }
        }
      ]
    },
    {
      "metadata": {
        "id": "myvHWBEUBjbO",
        "colab_type": "code",
        "colab": {
          "base_uri": "https://localhost:8080/",
          "height": 389
        },
        "outputId": "aa625c5f-510b-4b5d-a9c9-993d03ecd97c"
      },
      "cell_type": "code",
      "source": [
        "# Grafici interattivi\n",
        "import altair as alt\n",
        "alt.Chart(dataset).mark_point().encode(\n",
        "  y=\"reddito\",\n",
        "  x=\"età\",\n",
        "  color='allineamento politico'\n",
        ").interactive()"
      ],
      "execution_count": 29,
      "outputs": [
        {
          "output_type": "execute_result",
          "data": {
            "text/plain": [
              "Chart({\n",
              "  data: 0  genere   età allineamento politico   reddito\n",
              "  1       F  45.0                destra   20000.0\n",
              "  2       M  34.0                centro   25000.0\n",
              "  3       M  23.0              sinistra   18000.0\n",
              "  4       F  18.0              sinistra   17000.0\n",
              "  5       M  77.0                destra   54664.0\n",
              "  6       M  45.0              sinistra   35000.0\n",
              "  7       F  33.0                destra   15000.0\n",
              "  8       F  35.0                destra   12000.0\n",
              "  9       F  36.0                centro    8500.0\n",
              "  10      F  56.0                centro   15000.0\n",
              "  11      F  58.0              sinistra   13500.0\n",
              "  12      M  40.0              sinistra   16000.0\n",
              "  13      M  87.0                centro  145000.0\n",
              "  14      M  44.0              sinistra   23000.0\n",
              "  15      M  34.0                destra    9500.0\n",
              "  16      M  66.0                centro   24000.0\n",
              "  17      M  32.0                destra   60000.0\n",
              "  18      M  21.0                destra   45000.0,\n",
              "  encoding: EncodingWithFacet({\n",
              "    color: Color({\n",
              "      shorthand: 'allineamento politico'\n",
              "    }),\n",
              "    x: X({\n",
              "      shorthand: 'età'\n",
              "    }),\n",
              "    y: Y({\n",
              "      shorthand: 'reddito'\n",
              "    })\n",
              "  }),\n",
              "  mark: 'point',\n",
              "  selection: SelectionMapping({\n",
              "    selector007: SelectionDef({\n",
              "      bind: 'scales',\n",
              "      encodings: ['x', 'y'],\n",
              "      type: 'interval'\n",
              "    })\n",
              "  })\n",
              "})"
            ],
            "text/html": [
              "\n",
              "<!DOCTYPE html>\n",
              "<html>\n",
              "<head>\n",
              "  <style>\n",
              "    .vega-actions a {\n",
              "        margin-right: 12px;\n",
              "        color: #757575;\n",
              "        font-weight: normal;\n",
              "        font-size: 13px;\n",
              "    }\n",
              "    .error {\n",
              "        color: red;\n",
              "    }\n",
              "  </style>\n",
              "\n",
              "<script src=\"https://cdn.jsdelivr.net/npm//vega@3.3.1\"></script>\n",
              "<script src=\"https://cdn.jsdelivr.net/npm//vega-lite@2.6.0\"></script>\n",
              "<script src=\"https://cdn.jsdelivr.net/npm//vega-embed@3.14\"></script>\n",
              "\n",
              "</head>\n",
              "<body>\n",
              "  <div id=\"vis\"></div>\n",
              "  <script type=\"text/javascript\">\n",
              "    var spec = {\"config\": {\"view\": {\"width\": 400, \"height\": 300}}, \"data\": {\"name\": \"data-a742b591b49454398c2c8626363814b6\"}, \"mark\": \"point\", \"encoding\": {\"color\": {\"type\": \"nominal\", \"field\": \"allineamento politico\"}, \"x\": {\"type\": \"quantitative\", \"field\": \"et\\u00e0\"}, \"y\": {\"type\": \"quantitative\", \"field\": \"reddito\"}}, \"selection\": {\"selector007\": {\"type\": \"interval\", \"bind\": \"scales\", \"encodings\": [\"x\", \"y\"]}}, \"$schema\": \"https://vega.github.io/schema/vega-lite/v2.6.0.json\", \"datasets\": {\"data-a742b591b49454398c2c8626363814b6\": [{\"genere\": \"F\", \"et\\u00e0\": 45.0, \"allineamento politico\": \"destra\", \"reddito\": 20000.0}, {\"genere\": \"M\", \"et\\u00e0\": 34.0, \"allineamento politico\": \"centro\", \"reddito\": 25000.0}, {\"genere\": \"M\", \"et\\u00e0\": 23.0, \"allineamento politico\": \"sinistra\", \"reddito\": 18000.0}, {\"genere\": \"F\", \"et\\u00e0\": 18.0, \"allineamento politico\": \"sinistra\", \"reddito\": 17000.0}, {\"genere\": \"M\", \"et\\u00e0\": 77.0, \"allineamento politico\": \"destra\", \"reddito\": 54664.0}, {\"genere\": \"M\", \"et\\u00e0\": 45.0, \"allineamento politico\": \"sinistra\", \"reddito\": 35000.0}, {\"genere\": \"F\", \"et\\u00e0\": 33.0, \"allineamento politico\": \"destra\", \"reddito\": 15000.0}, {\"genere\": \"F\", \"et\\u00e0\": 35.0, \"allineamento politico\": \"destra\", \"reddito\": 12000.0}, {\"genere\": \"F\", \"et\\u00e0\": 36.0, \"allineamento politico\": \"centro\", \"reddito\": 8500.0}, {\"genere\": \"F\", \"et\\u00e0\": 56.0, \"allineamento politico\": \"centro\", \"reddito\": 15000.0}, {\"genere\": \"F\", \"et\\u00e0\": 58.0, \"allineamento politico\": \"sinistra\", \"reddito\": 13500.0}, {\"genere\": \"M\", \"et\\u00e0\": 40.0, \"allineamento politico\": \"sinistra\", \"reddito\": 16000.0}, {\"genere\": \"M\", \"et\\u00e0\": 87.0, \"allineamento politico\": \"centro\", \"reddito\": 145000.0}, {\"genere\": \"M\", \"et\\u00e0\": 44.0, \"allineamento politico\": \"sinistra\", \"reddito\": 23000.0}, {\"genere\": \"M\", \"et\\u00e0\": 34.0, \"allineamento politico\": \"destra\", \"reddito\": 9500.0}, {\"genere\": \"M\", \"et\\u00e0\": 66.0, \"allineamento politico\": \"centro\", \"reddito\": 24000.0}, {\"genere\": \"M\", \"et\\u00e0\": 32.0, \"allineamento politico\": \"destra\", \"reddito\": 60000.0}, {\"genere\": \"M\", \"et\\u00e0\": 21.0, \"allineamento politico\": \"destra\", \"reddito\": 45000.0}]}};\n",
              "    var embed_opt = {\"mode\": \"vega-lite\"};\n",
              "\n",
              "    function showError(el, error){\n",
              "        el.innerHTML = ('<div class=\"error\">'\n",
              "                        + '<p>JavaScript Error: ' + error.message + '</p>'\n",
              "                        + \"<p>This usually means there's a typo in your chart specification. \"\n",
              "                        + \"See the javascript console for the full traceback.</p>\"\n",
              "                        + '</div>');\n",
              "        throw error;\n",
              "    }\n",
              "    const el = document.getElementById('vis');\n",
              "    vegaEmbed(\"#vis\", spec, embed_opt)\n",
              "      .catch(error => showError(el, error));\n",
              "  </script>\n",
              "</body>\n",
              "</html>\n"
            ]
          },
          "metadata": {
            "tags": []
          },
          "execution_count": 29
        }
      ]
    },
    {
      "metadata": {
        "id": "-Izwvy4SAt0e",
        "colab_type": "text"
      },
      "cell_type": "markdown",
      "source": [
        "[tipi di grafico](https://pandas.pydata.org/pandas-docs/stable/generated/pandas.DataFrame.plot.html)"
      ]
    },
    {
      "metadata": {
        "id": "Qhj0tIM_-xeB",
        "colab_type": "code",
        "colab": {
          "base_uri": "https://localhost:8080/",
          "height": 538
        },
        "outputId": "5688a58c-7197-4fc9-fb8e-07d96749cc80"
      },
      "cell_type": "code",
      "source": [
        "brush = alt.selection(type='interval')\n",
        "\n",
        "points = alt.Chart().mark_point().encode(\n",
        "    x='età:Q',\n",
        "    y='reddito:Q',\n",
        "    color=alt.condition(brush, 'allineamento politico:N', alt.value('lightgray'))\n",
        ").add_selection(\n",
        "    brush\n",
        ")\n",
        "\n",
        "bars = alt.Chart().mark_bar().encode(\n",
        "    y='allineamento politico:N',\n",
        "    color='allineamento politico:N',\n",
        "    x='count(allineamento politico):Q'\n",
        ").transform_filter(\n",
        "    brush\n",
        ")\n",
        "\n",
        "alt.vconcat(points, bars, data=dataset)"
      ],
      "execution_count": 30,
      "outputs": [
        {
          "output_type": "execute_result",
          "data": {
            "text/plain": [
              "VConcatChart({\n",
              "  data: 0  genere   età allineamento politico   reddito\n",
              "  1       F  45.0                destra   20000.0\n",
              "  2       M  34.0                centro   25000.0\n",
              "  3       M  23.0              sinistra   18000.0\n",
              "  4       F  18.0              sinistra   17000.0\n",
              "  5       M  77.0                destra   54664.0\n",
              "  6       M  45.0              sinistra   35000.0\n",
              "  7       F  33.0                destra   15000.0\n",
              "  8       F  35.0                destra   12000.0\n",
              "  9       F  36.0                centro    8500.0\n",
              "  10      F  56.0                centro   15000.0\n",
              "  11      F  58.0              sinistra   13500.0\n",
              "  12      M  40.0              sinistra   16000.0\n",
              "  13      M  87.0                centro  145000.0\n",
              "  14      M  44.0              sinistra   23000.0\n",
              "  15      M  34.0                destra    9500.0\n",
              "  16      M  66.0                centro   24000.0\n",
              "  17      M  32.0                destra   60000.0\n",
              "  18      M  21.0                destra   45000.0,\n",
              "  vconcat: [Chart({\n",
              "    encoding: EncodingWithFacet({\n",
              "      color: ColorValue({\n",
              "        condition: Color({\n",
              "          selection: 'selector008',\n",
              "          shorthand: 'allineamento politico:N'\n",
              "        }),\n",
              "        value: 'lightgray'\n",
              "      }),\n",
              "      x: X({\n",
              "        shorthand: 'età:Q'\n",
              "      }),\n",
              "      y: Y({\n",
              "        shorthand: 'reddito:Q'\n",
              "      })\n",
              "    }),\n",
              "    mark: 'point',\n",
              "    selection: SelectionMapping({\n",
              "      selector008: SelectionDef({\n",
              "        type: 'interval'\n",
              "      })\n",
              "    })\n",
              "  }), Chart({\n",
              "    encoding: EncodingWithFacet({\n",
              "      color: Color({\n",
              "        shorthand: 'allineamento politico:N'\n",
              "      }),\n",
              "      x: X({\n",
              "        shorthand: 'count(allineamento politico):Q'\n",
              "      }),\n",
              "      y: Y({\n",
              "        shorthand: 'allineamento politico:N'\n",
              "      })\n",
              "    }),\n",
              "    mark: 'bar',\n",
              "    transform: [FilterTransform({\n",
              "      filter: {'selection': 'selector008'}\n",
              "    })]\n",
              "  })]\n",
              "})"
            ],
            "text/html": [
              "\n",
              "<!DOCTYPE html>\n",
              "<html>\n",
              "<head>\n",
              "  <style>\n",
              "    .vega-actions a {\n",
              "        margin-right: 12px;\n",
              "        color: #757575;\n",
              "        font-weight: normal;\n",
              "        font-size: 13px;\n",
              "    }\n",
              "    .error {\n",
              "        color: red;\n",
              "    }\n",
              "  </style>\n",
              "\n",
              "<script src=\"https://cdn.jsdelivr.net/npm//vega@3.3.1\"></script>\n",
              "<script src=\"https://cdn.jsdelivr.net/npm//vega-lite@2.6.0\"></script>\n",
              "<script src=\"https://cdn.jsdelivr.net/npm//vega-embed@3.14\"></script>\n",
              "\n",
              "</head>\n",
              "<body>\n",
              "  <div id=\"vis\"></div>\n",
              "  <script type=\"text/javascript\">\n",
              "    var spec = {\"config\": {\"view\": {\"width\": 400, \"height\": 300}}, \"vconcat\": [{\"mark\": \"point\", \"encoding\": {\"color\": {\"condition\": {\"type\": \"nominal\", \"field\": \"allineamento politico\", \"selection\": \"selector008\"}, \"value\": \"lightgray\"}, \"x\": {\"type\": \"quantitative\", \"field\": \"et\\u00e0\"}, \"y\": {\"type\": \"quantitative\", \"field\": \"reddito\"}}, \"selection\": {\"selector008\": {\"type\": \"interval\"}}}, {\"mark\": \"bar\", \"encoding\": {\"color\": {\"type\": \"nominal\", \"field\": \"allineamento politico\"}, \"x\": {\"type\": \"quantitative\", \"aggregate\": \"count\", \"field\": \"allineamento politico\"}, \"y\": {\"type\": \"nominal\", \"field\": \"allineamento politico\"}}, \"transform\": [{\"filter\": {\"selection\": \"selector008\"}}]}], \"data\": {\"name\": \"data-a742b591b49454398c2c8626363814b6\"}, \"$schema\": \"https://vega.github.io/schema/vega-lite/v2.6.0.json\", \"datasets\": {\"data-a742b591b49454398c2c8626363814b6\": [{\"genere\": \"F\", \"et\\u00e0\": 45.0, \"allineamento politico\": \"destra\", \"reddito\": 20000.0}, {\"genere\": \"M\", \"et\\u00e0\": 34.0, \"allineamento politico\": \"centro\", \"reddito\": 25000.0}, {\"genere\": \"M\", \"et\\u00e0\": 23.0, \"allineamento politico\": \"sinistra\", \"reddito\": 18000.0}, {\"genere\": \"F\", \"et\\u00e0\": 18.0, \"allineamento politico\": \"sinistra\", \"reddito\": 17000.0}, {\"genere\": \"M\", \"et\\u00e0\": 77.0, \"allineamento politico\": \"destra\", \"reddito\": 54664.0}, {\"genere\": \"M\", \"et\\u00e0\": 45.0, \"allineamento politico\": \"sinistra\", \"reddito\": 35000.0}, {\"genere\": \"F\", \"et\\u00e0\": 33.0, \"allineamento politico\": \"destra\", \"reddito\": 15000.0}, {\"genere\": \"F\", \"et\\u00e0\": 35.0, \"allineamento politico\": \"destra\", \"reddito\": 12000.0}, {\"genere\": \"F\", \"et\\u00e0\": 36.0, \"allineamento politico\": \"centro\", \"reddito\": 8500.0}, {\"genere\": \"F\", \"et\\u00e0\": 56.0, \"allineamento politico\": \"centro\", \"reddito\": 15000.0}, {\"genere\": \"F\", \"et\\u00e0\": 58.0, \"allineamento politico\": \"sinistra\", \"reddito\": 13500.0}, {\"genere\": \"M\", \"et\\u00e0\": 40.0, \"allineamento politico\": \"sinistra\", \"reddito\": 16000.0}, {\"genere\": \"M\", \"et\\u00e0\": 87.0, \"allineamento politico\": \"centro\", \"reddito\": 145000.0}, {\"genere\": \"M\", \"et\\u00e0\": 44.0, \"allineamento politico\": \"sinistra\", \"reddito\": 23000.0}, {\"genere\": \"M\", \"et\\u00e0\": 34.0, \"allineamento politico\": \"destra\", \"reddito\": 9500.0}, {\"genere\": \"M\", \"et\\u00e0\": 66.0, \"allineamento politico\": \"centro\", \"reddito\": 24000.0}, {\"genere\": \"M\", \"et\\u00e0\": 32.0, \"allineamento politico\": \"destra\", \"reddito\": 60000.0}, {\"genere\": \"M\", \"et\\u00e0\": 21.0, \"allineamento politico\": \"destra\", \"reddito\": 45000.0}]}};\n",
              "    var embed_opt = {\"mode\": \"vega-lite\"};\n",
              "\n",
              "    function showError(el, error){\n",
              "        el.innerHTML = ('<div class=\"error\">'\n",
              "                        + '<p>JavaScript Error: ' + error.message + '</p>'\n",
              "                        + \"<p>This usually means there's a typo in your chart specification. \"\n",
              "                        + \"See the javascript console for the full traceback.</p>\"\n",
              "                        + '</div>');\n",
              "        throw error;\n",
              "    }\n",
              "    const el = document.getElementById('vis');\n",
              "    vegaEmbed(\"#vis\", spec, embed_opt)\n",
              "      .catch(error => showError(el, error));\n",
              "  </script>\n",
              "</body>\n",
              "</html>\n"
            ]
          },
          "metadata": {
            "tags": []
          },
          "execution_count": 30
        }
      ]
    }
  ]
}