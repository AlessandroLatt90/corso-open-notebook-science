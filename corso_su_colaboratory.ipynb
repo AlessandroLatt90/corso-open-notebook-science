{
  "nbformat": 4,
  "nbformat_minor": 0,
  "metadata": {
    "colab": {
      "name": "corso su colaboratory.ipynb",
      "version": "0.3.2",
      "provenance": [],
      "collapsed_sections": [],
      "include_colab_link": true
    },
    "kernelspec": {
      "name": "python3",
      "display_name": "Python 3"
    }
  },
  "cells": [
    {
      "cell_type": "markdown",
      "metadata": {
        "id": "view-in-github",
        "colab_type": "text"
      },
      "source": [
        "[View in Colaboratory](https://colab.research.google.com/github/datalifelab/corso-open-notebook-science/blob/master/corso_su_colaboratory.ipynb)"
      ]
    },
    {
      "metadata": {
        "id": "QoZ8cRkD3oRm",
        "colab_type": "text"
      },
      "cell_type": "markdown",
      "source": [
        "# Corso su Colaboratory\n",
        "## Questo notebook contiene alcune librerie per lavorare in modo integrato nell'ecosistema di google drive:\n",
        "### Aprire fogli di calcolo di google\n",
        "### Effettuare la pulizia della matrice dall'importazione\n"
      ]
    },
    {
      "metadata": {
        "id": "_Kr4X18B_l3G",
        "colab_type": "code",
        "colab": {
          "base_uri": "https://localhost:8080/",
          "height": 35
        },
        "outputId": "d2d09552-8b2f-4347-9043-d5454184a26e"
      },
      "cell_type": "code",
      "source": [
        "%%html\n",
        "<marquee style='width: 100%; color: blue;'><b>Buon divertimento!!</b></marquee>"
      ],
      "execution_count": 45,
      "outputs": [
        {
          "output_type": "display_data",
          "data": {
            "text/html": [
              "<marquee style='width: 100%; color: blue;'><b>Buon divertimento!!</b></marquee>"
            ],
            "text/plain": [
              "<IPython.core.display.HTML object>"
            ]
          },
          "metadata": {
            "tags": []
          }
        }
      ]
    },
    {
      "metadata": {
        "id": "J8I9-KW1B4Sk",
        "colab_type": "code",
        "colab": {}
      },
      "cell_type": "code",
      "source": [
        "#effettuo l'importazione della libreria per il controllo del sistema operativo\n",
        "import os\n",
        "#effettuo l'importazione della libreria statistica Pandas\n",
        "import pandas as pd\n",
        "import matplotlib.pyplot as plt\n",
        "import seaborn as sns"
      ],
      "execution_count": 0,
      "outputs": []
    },
    {
      "metadata": {
        "id": "oHUVasHH5iqj",
        "colab_type": "code",
        "colab": {}
      },
      "cell_type": "code",
      "source": [
        "!pip install --upgrade -q gspread"
      ],
      "execution_count": 0,
      "outputs": []
    },
    {
      "metadata": {
        "id": "g-7vLbOt7T9F",
        "colab_type": "code",
        "colab": {}
      },
      "cell_type": "code",
      "source": [
        ""
      ],
      "execution_count": 0,
      "outputs": []
    },
    {
      "metadata": {
        "id": "da65qfUKCAy0",
        "colab_type": "code",
        "colab": {}
      },
      "cell_type": "code",
      "source": [
        "#Effettuo le librerie che mi autorizzano ad accedere ai file di google drive\n",
        "from google.colab import auth\n",
        "auth.authenticate_user()\n",
        "\n",
        "import gspread\n",
        "from oauth2client.client import GoogleCredentials\n",
        "\n",
        "#richiedo le credenziali: apre delle istruzioni e link da seguire per completare\n",
        "#la procedura\n",
        "gc = gspread.authorize(GoogleCredentials.get_application_default())\n",
        "\n"
      ],
      "execution_count": 0,
      "outputs": []
    },
    {
      "metadata": {
        "id": "2qMLlmidCLuz",
        "colab_type": "code",
        "colab": {}
      },
      "cell_type": "code",
      "source": [
        "def download_gspread(file_name, sheet_name = \"Foglio1\", key = False, format = \"wide\"):\n",
        "  '''questa funzione, dato il nome del file di google spreadsheet\n",
        "  e dello specifico foglio di calcolo (opzionale) di google\n",
        "  restituisce un dataframe di pandas\n",
        "  file_name: str \n",
        "  sheet_name: str\n",
        "  key: boolean\n",
        "  format: [\"wide\", \"long\", None]\n",
        "  '''\n",
        "  \n",
        "  def str_to_float(cell):\n",
        "    '''trasforma in decimale \n",
        "    tutti i valori stringa contententi \n",
        "    valori numerici'''\n",
        "    \n",
        "    try:\n",
        "      cell = float(cell)\n",
        "    except:\n",
        "      cell = cell\n",
        "    return cell\n",
        "  \n",
        "  #questo comando scarica il foglio 1 del foglio di calcolo\n",
        "  if key == False:\n",
        "    if sheet_name == \"Foglio1\":\n",
        "      worksheet = gc.open(file_name).sheet1\n",
        "    else:\n",
        "      worksheet = gc.open(file_name).worksheet(sheet_name)\n",
        "  elif key == True:\n",
        "    if sheet_name == \"Foglio1\":\n",
        "      worksheet = gc.open_by_key(file_name).sheet1\n",
        "    else:\n",
        "      worksheet = gc.open_by_key(file_name).worksheet(sheet_name)\n",
        "    \n",
        "  # prendo tutte le righe del foglio\n",
        "  rows = worksheet.get_all_values()\n",
        "\n",
        "  # Converto in DataFrame di Pandas ed effettuo la pulizia dei dati con la funzione\n",
        "  # str_to_float\n",
        "  \n",
        "  dati = pd.DataFrame.from_records(rows)\n",
        "  if format == \"wide\":\n",
        "    dati.columns = dati.loc[0]\n",
        "    dati = dati.drop(0, axis = 0)  \n",
        "  else:\n",
        "    pass\n",
        "  #converte. dove necessario stringhe verso decimali\n",
        "  dati = dati.applymap(str_to_float)\n",
        "  return dati "
      ],
      "execution_count": 0,
      "outputs": []
    },
    {
      "metadata": {
        "id": "Ex33RwSxCm6A",
        "colab_type": "code",
        "colab": {}
      },
      "cell_type": "code",
      "source": [
        "dataset = download_gspread(\"esercitazione\")"
      ],
      "execution_count": 0,
      "outputs": []
    },
    {
      "metadata": {
        "id": "lOUg7TjcZoZJ",
        "colab_type": "code",
        "colab": {
          "base_uri": "https://localhost:8080/",
          "height": 614
        },
        "outputId": "8c557b01-a224-4627-d6fc-700e9b051aeb"
      },
      "cell_type": "code",
      "source": [
        "dataset"
      ],
      "execution_count": 93,
      "outputs": [
        {
          "output_type": "execute_result",
          "data": {
            "text/html": [
              "<div>\n",
              "<style scoped>\n",
              "    .dataframe tbody tr th:only-of-type {\n",
              "        vertical-align: middle;\n",
              "    }\n",
              "\n",
              "    .dataframe tbody tr th {\n",
              "        vertical-align: top;\n",
              "    }\n",
              "\n",
              "    .dataframe thead th {\n",
              "        text-align: right;\n",
              "    }\n",
              "</style>\n",
              "<table border=\"1\" class=\"dataframe\">\n",
              "  <thead>\n",
              "    <tr style=\"text-align: right;\">\n",
              "      <th></th>\n",
              "      <th>genere</th>\n",
              "      <th>età</th>\n",
              "      <th>allineamento politico</th>\n",
              "      <th>reddito</th>\n",
              "    </tr>\n",
              "  </thead>\n",
              "  <tbody>\n",
              "    <tr>\n",
              "      <th>1</th>\n",
              "      <td>F</td>\n",
              "      <td>45.0</td>\n",
              "      <td>destra</td>\n",
              "      <td>20000.0</td>\n",
              "    </tr>\n",
              "    <tr>\n",
              "      <th>2</th>\n",
              "      <td>M</td>\n",
              "      <td>34.0</td>\n",
              "      <td>centro</td>\n",
              "      <td>25000.0</td>\n",
              "    </tr>\n",
              "    <tr>\n",
              "      <th>3</th>\n",
              "      <td>M</td>\n",
              "      <td>23.0</td>\n",
              "      <td>sinistra</td>\n",
              "      <td>18000.0</td>\n",
              "    </tr>\n",
              "    <tr>\n",
              "      <th>4</th>\n",
              "      <td>F</td>\n",
              "      <td>18.0</td>\n",
              "      <td>sinistra</td>\n",
              "      <td>17000.0</td>\n",
              "    </tr>\n",
              "    <tr>\n",
              "      <th>5</th>\n",
              "      <td>M</td>\n",
              "      <td>77.0</td>\n",
              "      <td>destra</td>\n",
              "      <td>54664.0</td>\n",
              "    </tr>\n",
              "    <tr>\n",
              "      <th>6</th>\n",
              "      <td>M</td>\n",
              "      <td>45.0</td>\n",
              "      <td>sinistra</td>\n",
              "      <td>35000.0</td>\n",
              "    </tr>\n",
              "    <tr>\n",
              "      <th>7</th>\n",
              "      <td>F</td>\n",
              "      <td>33.0</td>\n",
              "      <td>destra</td>\n",
              "      <td>15000.0</td>\n",
              "    </tr>\n",
              "    <tr>\n",
              "      <th>8</th>\n",
              "      <td>F</td>\n",
              "      <td>35.0</td>\n",
              "      <td>destra</td>\n",
              "      <td>12000.0</td>\n",
              "    </tr>\n",
              "    <tr>\n",
              "      <th>9</th>\n",
              "      <td>F</td>\n",
              "      <td>36.0</td>\n",
              "      <td>centro</td>\n",
              "      <td>8500.0</td>\n",
              "    </tr>\n",
              "    <tr>\n",
              "      <th>10</th>\n",
              "      <td>F</td>\n",
              "      <td>56.0</td>\n",
              "      <td>centro</td>\n",
              "      <td>15000.0</td>\n",
              "    </tr>\n",
              "    <tr>\n",
              "      <th>11</th>\n",
              "      <td>F</td>\n",
              "      <td>58.0</td>\n",
              "      <td>sinistra</td>\n",
              "      <td>13500.0</td>\n",
              "    </tr>\n",
              "    <tr>\n",
              "      <th>12</th>\n",
              "      <td>M</td>\n",
              "      <td>40.0</td>\n",
              "      <td>sinistra</td>\n",
              "      <td>16000.0</td>\n",
              "    </tr>\n",
              "    <tr>\n",
              "      <th>13</th>\n",
              "      <td>M</td>\n",
              "      <td>87.0</td>\n",
              "      <td>centro</td>\n",
              "      <td>145000.0</td>\n",
              "    </tr>\n",
              "    <tr>\n",
              "      <th>14</th>\n",
              "      <td>M</td>\n",
              "      <td>44.0</td>\n",
              "      <td>sinistra</td>\n",
              "      <td>23000.0</td>\n",
              "    </tr>\n",
              "    <tr>\n",
              "      <th>15</th>\n",
              "      <td>M</td>\n",
              "      <td>34.0</td>\n",
              "      <td>destra</td>\n",
              "      <td>9500.0</td>\n",
              "    </tr>\n",
              "    <tr>\n",
              "      <th>16</th>\n",
              "      <td>M</td>\n",
              "      <td>66.0</td>\n",
              "      <td>centro</td>\n",
              "      <td>24000.0</td>\n",
              "    </tr>\n",
              "    <tr>\n",
              "      <th>17</th>\n",
              "      <td>M</td>\n",
              "      <td>32.0</td>\n",
              "      <td>destra</td>\n",
              "      <td>60000.0</td>\n",
              "    </tr>\n",
              "    <tr>\n",
              "      <th>18</th>\n",
              "      <td>M</td>\n",
              "      <td>21.0</td>\n",
              "      <td>destra</td>\n",
              "      <td>45000.0</td>\n",
              "    </tr>\n",
              "  </tbody>\n",
              "</table>\n",
              "</div>"
            ],
            "text/plain": [
              "0  genere   età allineamento politico   reddito\n",
              "1       F  45.0                destra   20000.0\n",
              "2       M  34.0                centro   25000.0\n",
              "3       M  23.0              sinistra   18000.0\n",
              "4       F  18.0              sinistra   17000.0\n",
              "5       M  77.0                destra   54664.0\n",
              "6       M  45.0              sinistra   35000.0\n",
              "7       F  33.0                destra   15000.0\n",
              "8       F  35.0                destra   12000.0\n",
              "9       F  36.0                centro    8500.0\n",
              "10      F  56.0                centro   15000.0\n",
              "11      F  58.0              sinistra   13500.0\n",
              "12      M  40.0              sinistra   16000.0\n",
              "13      M  87.0                centro  145000.0\n",
              "14      M  44.0              sinistra   23000.0\n",
              "15      M  34.0                destra    9500.0\n",
              "16      M  66.0                centro   24000.0\n",
              "17      M  32.0                destra   60000.0\n",
              "18      M  21.0                destra   45000.0"
            ]
          },
          "metadata": {
            "tags": []
          },
          "execution_count": 93
        }
      ]
    },
    {
      "metadata": {
        "id": "cRZag-_sZqbT",
        "colab_type": "code",
        "colab": {
          "base_uri": "https://localhost:8080/",
          "height": 347
        },
        "outputId": "0cdc5fd5-5d91-4b38-fefb-fc85aa4f744d"
      },
      "cell_type": "code",
      "source": [
        "#voglio visualizzare una sola colonna\n",
        "dataset[\"reddito\"]"
      ],
      "execution_count": 97,
      "outputs": [
        {
          "output_type": "execute_result",
          "data": {
            "text/plain": [
              "1      20000.0\n",
              "2      25000.0\n",
              "3      18000.0\n",
              "4      17000.0\n",
              "5      54664.0\n",
              "6      35000.0\n",
              "7      15000.0\n",
              "8      12000.0\n",
              "9       8500.0\n",
              "10     15000.0\n",
              "11     13500.0\n",
              "12     16000.0\n",
              "13    145000.0\n",
              "14     23000.0\n",
              "15      9500.0\n",
              "16     24000.0\n",
              "17     60000.0\n",
              "18     45000.0\n",
              "Name: reddito, dtype: float64"
            ]
          },
          "metadata": {
            "tags": []
          },
          "execution_count": 97
        }
      ]
    },
    {
      "metadata": {
        "id": "waFUdG-HZ0PR",
        "colab_type": "code",
        "colab": {
          "base_uri": "https://localhost:8080/",
          "height": 614
        },
        "outputId": "b2b4f6b7-3e5a-4036-e157-a756c720570a"
      },
      "cell_type": "code",
      "source": [
        "#oppure due colonne \n",
        "dataset.loc[:, [\"reddito\", \"età\"]]"
      ],
      "execution_count": 98,
      "outputs": [
        {
          "output_type": "execute_result",
          "data": {
            "text/html": [
              "<div>\n",
              "<style scoped>\n",
              "    .dataframe tbody tr th:only-of-type {\n",
              "        vertical-align: middle;\n",
              "    }\n",
              "\n",
              "    .dataframe tbody tr th {\n",
              "        vertical-align: top;\n",
              "    }\n",
              "\n",
              "    .dataframe thead th {\n",
              "        text-align: right;\n",
              "    }\n",
              "</style>\n",
              "<table border=\"1\" class=\"dataframe\">\n",
              "  <thead>\n",
              "    <tr style=\"text-align: right;\">\n",
              "      <th></th>\n",
              "      <th>reddito</th>\n",
              "      <th>età</th>\n",
              "    </tr>\n",
              "  </thead>\n",
              "  <tbody>\n",
              "    <tr>\n",
              "      <th>1</th>\n",
              "      <td>20000.0</td>\n",
              "      <td>45.0</td>\n",
              "    </tr>\n",
              "    <tr>\n",
              "      <th>2</th>\n",
              "      <td>25000.0</td>\n",
              "      <td>34.0</td>\n",
              "    </tr>\n",
              "    <tr>\n",
              "      <th>3</th>\n",
              "      <td>18000.0</td>\n",
              "      <td>23.0</td>\n",
              "    </tr>\n",
              "    <tr>\n",
              "      <th>4</th>\n",
              "      <td>17000.0</td>\n",
              "      <td>18.0</td>\n",
              "    </tr>\n",
              "    <tr>\n",
              "      <th>5</th>\n",
              "      <td>54664.0</td>\n",
              "      <td>77.0</td>\n",
              "    </tr>\n",
              "    <tr>\n",
              "      <th>6</th>\n",
              "      <td>35000.0</td>\n",
              "      <td>45.0</td>\n",
              "    </tr>\n",
              "    <tr>\n",
              "      <th>7</th>\n",
              "      <td>15000.0</td>\n",
              "      <td>33.0</td>\n",
              "    </tr>\n",
              "    <tr>\n",
              "      <th>8</th>\n",
              "      <td>12000.0</td>\n",
              "      <td>35.0</td>\n",
              "    </tr>\n",
              "    <tr>\n",
              "      <th>9</th>\n",
              "      <td>8500.0</td>\n",
              "      <td>36.0</td>\n",
              "    </tr>\n",
              "    <tr>\n",
              "      <th>10</th>\n",
              "      <td>15000.0</td>\n",
              "      <td>56.0</td>\n",
              "    </tr>\n",
              "    <tr>\n",
              "      <th>11</th>\n",
              "      <td>13500.0</td>\n",
              "      <td>58.0</td>\n",
              "    </tr>\n",
              "    <tr>\n",
              "      <th>12</th>\n",
              "      <td>16000.0</td>\n",
              "      <td>40.0</td>\n",
              "    </tr>\n",
              "    <tr>\n",
              "      <th>13</th>\n",
              "      <td>145000.0</td>\n",
              "      <td>87.0</td>\n",
              "    </tr>\n",
              "    <tr>\n",
              "      <th>14</th>\n",
              "      <td>23000.0</td>\n",
              "      <td>44.0</td>\n",
              "    </tr>\n",
              "    <tr>\n",
              "      <th>15</th>\n",
              "      <td>9500.0</td>\n",
              "      <td>34.0</td>\n",
              "    </tr>\n",
              "    <tr>\n",
              "      <th>16</th>\n",
              "      <td>24000.0</td>\n",
              "      <td>66.0</td>\n",
              "    </tr>\n",
              "    <tr>\n",
              "      <th>17</th>\n",
              "      <td>60000.0</td>\n",
              "      <td>32.0</td>\n",
              "    </tr>\n",
              "    <tr>\n",
              "      <th>18</th>\n",
              "      <td>45000.0</td>\n",
              "      <td>21.0</td>\n",
              "    </tr>\n",
              "  </tbody>\n",
              "</table>\n",
              "</div>"
            ],
            "text/plain": [
              "0    reddito   età\n",
              "1    20000.0  45.0\n",
              "2    25000.0  34.0\n",
              "3    18000.0  23.0\n",
              "4    17000.0  18.0\n",
              "5    54664.0  77.0\n",
              "6    35000.0  45.0\n",
              "7    15000.0  33.0\n",
              "8    12000.0  35.0\n",
              "9     8500.0  36.0\n",
              "10   15000.0  56.0\n",
              "11   13500.0  58.0\n",
              "12   16000.0  40.0\n",
              "13  145000.0  87.0\n",
              "14   23000.0  44.0\n",
              "15    9500.0  34.0\n",
              "16   24000.0  66.0\n",
              "17   60000.0  32.0\n",
              "18   45000.0  21.0"
            ]
          },
          "metadata": {
            "tags": []
          },
          "execution_count": 98
        }
      ]
    },
    {
      "metadata": {
        "id": "sUqBbTVy7Lh-",
        "colab_type": "code",
        "colab": {
          "base_uri": "https://localhost:8080/",
          "height": 52
        },
        "outputId": "bc1a5d3f-a61b-4410-cf4a-a92ff206b097"
      },
      "cell_type": "code",
      "source": [
        "print(\"Questo dato è la media del reddito \" + str(dataset[\"reddito\"].mean()))\n",
        "print(\"Questo dato è la media dell'età \" + str(dataset[\"età\"].mean()))\n",
        "  "
      ],
      "execution_count": 101,
      "outputs": [
        {
          "output_type": "stream",
          "text": [
            "Questo dato è la media del reddito 30898.0\n",
            "Questo dato è la media dell'età 43.55555555555556\n"
          ],
          "name": "stdout"
        }
      ]
    },
    {
      "metadata": {
        "id": "60wQ3JV_C_g0",
        "colab_type": "code",
        "colab": {
          "base_uri": "https://localhost:8080/",
          "height": 86
        },
        "outputId": "4b0cc9d5-8341-4f0a-d06c-bdd2c49cfd8c"
      },
      "cell_type": "code",
      "source": [
        "dataset.mean()"
      ],
      "execution_count": 102,
      "outputs": [
        {
          "output_type": "execute_result",
          "data": {
            "text/plain": [
              "0\n",
              "età           43.555556\n",
              "reddito    30898.000000\n",
              "dtype: float64"
            ]
          },
          "metadata": {
            "tags": []
          },
          "execution_count": 102
        }
      ]
    },
    {
      "metadata": {
        "id": "VTZf8xhwaVSs",
        "colab_type": "code",
        "colab": {
          "base_uri": "https://localhost:8080/",
          "height": 300
        },
        "outputId": "bf65fe40-2c02-409c-a623-cd88a742ad46"
      },
      "cell_type": "code",
      "source": [
        "dataset.describe()"
      ],
      "execution_count": 103,
      "outputs": [
        {
          "output_type": "execute_result",
          "data": {
            "text/html": [
              "<div>\n",
              "<style scoped>\n",
              "    .dataframe tbody tr th:only-of-type {\n",
              "        vertical-align: middle;\n",
              "    }\n",
              "\n",
              "    .dataframe tbody tr th {\n",
              "        vertical-align: top;\n",
              "    }\n",
              "\n",
              "    .dataframe thead th {\n",
              "        text-align: right;\n",
              "    }\n",
              "</style>\n",
              "<table border=\"1\" class=\"dataframe\">\n",
              "  <thead>\n",
              "    <tr style=\"text-align: right;\">\n",
              "      <th></th>\n",
              "      <th>età</th>\n",
              "      <th>reddito</th>\n",
              "    </tr>\n",
              "  </thead>\n",
              "  <tbody>\n",
              "    <tr>\n",
              "      <th>count</th>\n",
              "      <td>18.000000</td>\n",
              "      <td>18.000000</td>\n",
              "    </tr>\n",
              "    <tr>\n",
              "      <th>mean</th>\n",
              "      <td>43.555556</td>\n",
              "      <td>30898.000000</td>\n",
              "    </tr>\n",
              "    <tr>\n",
              "      <th>std</th>\n",
              "      <td>18.837454</td>\n",
              "      <td>32191.109134</td>\n",
              "    </tr>\n",
              "    <tr>\n",
              "      <th>min</th>\n",
              "      <td>18.000000</td>\n",
              "      <td>8500.000000</td>\n",
              "    </tr>\n",
              "    <tr>\n",
              "      <th>25%</th>\n",
              "      <td>33.250000</td>\n",
              "      <td>15000.000000</td>\n",
              "    </tr>\n",
              "    <tr>\n",
              "      <th>50%</th>\n",
              "      <td>38.000000</td>\n",
              "      <td>19000.000000</td>\n",
              "    </tr>\n",
              "    <tr>\n",
              "      <th>75%</th>\n",
              "      <td>53.250000</td>\n",
              "      <td>32500.000000</td>\n",
              "    </tr>\n",
              "    <tr>\n",
              "      <th>max</th>\n",
              "      <td>87.000000</td>\n",
              "      <td>145000.000000</td>\n",
              "    </tr>\n",
              "  </tbody>\n",
              "</table>\n",
              "</div>"
            ],
            "text/plain": [
              "0            età        reddito\n",
              "count  18.000000      18.000000\n",
              "mean   43.555556   30898.000000\n",
              "std    18.837454   32191.109134\n",
              "min    18.000000    8500.000000\n",
              "25%    33.250000   15000.000000\n",
              "50%    38.000000   19000.000000\n",
              "75%    53.250000   32500.000000\n",
              "max    87.000000  145000.000000"
            ]
          },
          "metadata": {
            "tags": []
          },
          "execution_count": 103
        }
      ]
    },
    {
      "metadata": {
        "id": "bj2cjK7J-qkn",
        "colab_type": "code",
        "colab": {
          "base_uri": "https://localhost:8080/",
          "height": 378
        },
        "outputId": "4ffc144c-9188-4cc6-e29b-7e15fa4ef563"
      },
      "cell_type": "code",
      "source": [
        "#grafici base\n",
        "#https://pandas.pydata.org/pandas-docs/stable/generated/pandas.DataFrame.plot.html\n",
        "\n",
        "dataset.plot(kind = \"scatter\", y = \"reddito\", x = \"età\")"
      ],
      "execution_count": 89,
      "outputs": [
        {
          "output_type": "execute_result",
          "data": {
            "text/plain": [
              "<matplotlib.axes._subplots.AxesSubplot at 0x7f4b5bd08240>"
            ]
          },
          "metadata": {
            "tags": []
          },
          "execution_count": 89
        },
        {
          "output_type": "display_data",
          "data": {
            "image/png": "[encoded data removed]",
            "text/plain": [
              "<matplotlib.figure.Figure at 0x7f4b5bce1198>"
            ]
          },
          "metadata": {
            "tags": []
          }
        }
      ]
    },
    {
      "metadata": {
        "id": "hoAPY9YoZCxW",
        "colab_type": "code",
        "colab": {
          "base_uri": "https://localhost:8080/",
          "height": 378
        },
        "outputId": "5a385472-fc1f-4c4c-dc7f-5ef393c23288"
      },
      "cell_type": "code",
      "source": [
        "sns.regplot(y=\"reddito\", x=\"età\", data=dataset)\n",
        "#esempi di grafico https://seaborn.pydata.org/examples/index.html"
      ],
      "execution_count": 90,
      "outputs": [
        {
          "output_type": "execute_result",
          "data": {
            "text/plain": [
              "<matplotlib.axes._subplots.AxesSubplot at 0x7f4b5bd6eda0>"
            ]
          },
          "metadata": {
            "tags": []
          },
          "execution_count": 90
        },
        {
          "output_type": "display_data",
          "data": {
            "image/png": "[encoded data removed]",
            "text/plain": [
              "<matplotlib.figure.Figure at 0x7f4b5bc7a2b0>"
            ]
          },
          "metadata": {
            "tags": []
          }
        }
      ]
    },
    {
      "metadata": {
        "id": "jNIzfH9FZfdP",
        "colab_type": "code",
        "colab": {
          "base_uri": "https://localhost:8080/",
          "height": 143
        },
        "outputId": "ab5f69be-06c0-4731-ffaf-b7c2d263d11a"
      },
      "cell_type": "code",
      "source": [
        "dataset.loc[:, [\"reddito\",\"età\"]].corr()"
      ],
      "execution_count": 92,
      "outputs": [
        {
          "output_type": "execute_result",
          "data": {
            "text/html": [
              "<div>\n",
              "<style scoped>\n",
              "    .dataframe tbody tr th:only-of-type {\n",
              "        vertical-align: middle;\n",
              "    }\n",
              "\n",
              "    .dataframe tbody tr th {\n",
              "        vertical-align: top;\n",
              "    }\n",
              "\n",
              "    .dataframe thead th {\n",
              "        text-align: right;\n",
              "    }\n",
              "</style>\n",
              "<table border=\"1\" class=\"dataframe\">\n",
              "  <thead>\n",
              "    <tr style=\"text-align: right;\">\n",
              "      <th></th>\n",
              "      <th>reddito</th>\n",
              "      <th>età</th>\n",
              "    </tr>\n",
              "    <tr>\n",
              "      <th>0</th>\n",
              "      <th></th>\n",
              "      <th></th>\n",
              "    </tr>\n",
              "  </thead>\n",
              "  <tbody>\n",
              "    <tr>\n",
              "      <th>reddito</th>\n",
              "      <td>1.000000</td>\n",
              "      <td>0.573598</td>\n",
              "    </tr>\n",
              "    <tr>\n",
              "      <th>età</th>\n",
              "      <td>0.573598</td>\n",
              "      <td>1.000000</td>\n",
              "    </tr>\n",
              "  </tbody>\n",
              "</table>\n",
              "</div>"
            ],
            "text/plain": [
              "0         reddito       età\n",
              "0                          \n",
              "reddito  1.000000  0.573598\n",
              "età      0.573598  1.000000"
            ]
          },
          "metadata": {
            "tags": []
          },
          "execution_count": 92
        }
      ]
    },
    {
      "metadata": {
        "id": "-Izwvy4SAt0e",
        "colab_type": "text"
      },
      "cell_type": "markdown",
      "source": [
        "[tipi di grafico](https://pandas.pydata.org/pandas-docs/stable/generated/pandas.DataFrame.plot.html)"
      ]
    },
    {
      "metadata": {
        "id": "myvHWBEUBjbO",
        "colab_type": "code",
        "colab": {
          "base_uri": "https://localhost:8080/",
          "height": 389
        },
        "outputId": "3842e845-c419-4447-9a01-49fdc638529c"
      },
      "cell_type": "code",
      "source": [
        "# Grafici interattivi\n",
        "import altair as alt\n",
        "alt.Chart(dataset).mark_point().encode(\n",
        "  y=\"reddito\",\n",
        "  x=\"età\",\n",
        "  color='allineamento politico'\n",
        ").interactive()"
      ],
      "execution_count": 54,
      "outputs": [
        {
          "output_type": "execute_result",
          "data": {
            "text/plain": [
              "Chart({\n",
              "  data: 0  genere   età allineamento politico   reddito\n",
              "  1       F  45.0                destra   20000.0\n",
              "  2       M  34.0                centro   25000.0\n",
              "  3       M  23.0              sinistra   18000.0\n",
              "  4       F  18.0              sinistra   17000.0\n",
              "  5       M  77.0                destra   54664.0\n",
              "  6       M  45.0              sinistra   35000.0\n",
              "  7       F  33.0                destra   15000.0\n",
              "  8       F  35.0                destra   12000.0\n",
              "  9       F  36.0                centro    8500.0\n",
              "  10      F  56.0                centro   15000.0\n",
              "  11      F  58.0              sinistra   13500.0\n",
              "  12      M  40.0              sinistra   16000.0\n",
              "  13      M  87.0                centro  145000.0\n",
              "  14      M  44.0              sinistra   23000.0\n",
              "  15      M  34.0                destra    9500.0\n",
              "  16      M  66.0                centro   24000.0\n",
              "  17      M  32.0                destra   60000.0\n",
              "  18      M  21.0                destra   45000.0,\n",
              "  encoding: EncodingWithFacet({\n",
              "    color: Color({\n",
              "      shorthand: 'allineamento politico'\n",
              "    }),\n",
              "    x: X({\n",
              "      shorthand: 'età'\n",
              "    }),\n",
              "    y: Y({\n",
              "      shorthand: 'reddito'\n",
              "    })\n",
              "  }),\n",
              "  mark: 'point',\n",
              "  selection: SelectionMapping({\n",
              "    selector001: SelectionDef({\n",
              "      bind: 'scales',\n",
              "      encodings: ['x', 'y'],\n",
              "      type: 'interval'\n",
              "    })\n",
              "  })\n",
              "})"
            ],
            "text/html": [
              "\n",
              "<!DOCTYPE html>\n",
              "<html>\n",
              "<head>\n",
              "  <style>\n",
              "    .vega-actions a {\n",
              "        margin-right: 12px;\n",
              "        color: #757575;\n",
              "        font-weight: normal;\n",
              "        font-size: 13px;\n",
              "    }\n",
              "    .error {\n",
              "        color: red;\n",
              "    }\n",
              "  </style>\n",
              "\n",
              "<script src=\"https://cdn.jsdelivr.net/npm//vega@3.3.1\"></script>\n",
              "<script src=\"https://cdn.jsdelivr.net/npm//vega-lite@2.6.0\"></script>\n",
              "<script src=\"https://cdn.jsdelivr.net/npm//vega-embed@3.14\"></script>\n",
              "\n",
              "</head>\n",
              "<body>\n",
              "  <div id=\"vis\"></div>\n",
              "  <script type=\"text/javascript\">\n",
              "    var spec = {\"config\": {\"view\": {\"width\": 400, \"height\": 300}}, \"data\": {\"name\": \"data-a742b591b49454398c2c8626363814b6\"}, \"mark\": \"point\", \"encoding\": {\"color\": {\"type\": \"nominal\", \"field\": \"allineamento politico\"}, \"x\": {\"type\": \"quantitative\", \"field\": \"et\\u00e0\"}, \"y\": {\"type\": \"quantitative\", \"field\": \"reddito\"}}, \"selection\": {\"selector001\": {\"type\": \"interval\", \"bind\": \"scales\", \"encodings\": [\"x\", \"y\"]}}, \"$schema\": \"https://vega.github.io/schema/vega-lite/v2.6.0.json\", \"datasets\": {\"data-a742b591b49454398c2c8626363814b6\": [{\"genere\": \"F\", \"et\\u00e0\": 45.0, \"allineamento politico\": \"destra\", \"reddito\": 20000.0}, {\"genere\": \"M\", \"et\\u00e0\": 34.0, \"allineamento politico\": \"centro\", \"reddito\": 25000.0}, {\"genere\": \"M\", \"et\\u00e0\": 23.0, \"allineamento politico\": \"sinistra\", \"reddito\": 18000.0}, {\"genere\": \"F\", \"et\\u00e0\": 18.0, \"allineamento politico\": \"sinistra\", \"reddito\": 17000.0}, {\"genere\": \"M\", \"et\\u00e0\": 77.0, \"allineamento politico\": \"destra\", \"reddito\": 54664.0}, {\"genere\": \"M\", \"et\\u00e0\": 45.0, \"allineamento politico\": \"sinistra\", \"reddito\": 35000.0}, {\"genere\": \"F\", \"et\\u00e0\": 33.0, \"allineamento politico\": \"destra\", \"reddito\": 15000.0}, {\"genere\": \"F\", \"et\\u00e0\": 35.0, \"allineamento politico\": \"destra\", \"reddito\": 12000.0}, {\"genere\": \"F\", \"et\\u00e0\": 36.0, \"allineamento politico\": \"centro\", \"reddito\": 8500.0}, {\"genere\": \"F\", \"et\\u00e0\": 56.0, \"allineamento politico\": \"centro\", \"reddito\": 15000.0}, {\"genere\": \"F\", \"et\\u00e0\": 58.0, \"allineamento politico\": \"sinistra\", \"reddito\": 13500.0}, {\"genere\": \"M\", \"et\\u00e0\": 40.0, \"allineamento politico\": \"sinistra\", \"reddito\": 16000.0}, {\"genere\": \"M\", \"et\\u00e0\": 87.0, \"allineamento politico\": \"centro\", \"reddito\": 145000.0}, {\"genere\": \"M\", \"et\\u00e0\": 44.0, \"allineamento politico\": \"sinistra\", \"reddito\": 23000.0}, {\"genere\": \"M\", \"et\\u00e0\": 34.0, \"allineamento politico\": \"destra\", \"reddito\": 9500.0}, {\"genere\": \"M\", \"et\\u00e0\": 66.0, \"allineamento politico\": \"centro\", \"reddito\": 24000.0}, {\"genere\": \"M\", \"et\\u00e0\": 32.0, \"allineamento politico\": \"destra\", \"reddito\": 60000.0}, {\"genere\": \"M\", \"et\\u00e0\": 21.0, \"allineamento politico\": \"destra\", \"reddito\": 45000.0}]}};\n",
              "    var embed_opt = {\"mode\": \"vega-lite\"};\n",
              "\n",
              "    function showError(el, error){\n",
              "        el.innerHTML = ('<div class=\"error\">'\n",
              "                        + '<p>JavaScript Error: ' + error.message + '</p>'\n",
              "                        + \"<p>This usually means there's a typo in your chart specification. \"\n",
              "                        + \"See the javascript console for the full traceback.</p>\"\n",
              "                        + '</div>');\n",
              "        throw error;\n",
              "    }\n",
              "    const el = document.getElementById('vis');\n",
              "    vegaEmbed(\"#vis\", spec, embed_opt)\n",
              "      .catch(error => showError(el, error));\n",
              "  </script>\n",
              "</body>\n",
              "</html>\n"
            ]
          },
          "metadata": {
            "tags": []
          },
          "execution_count": 54
        }
      ]
    },
    {
      "metadata": {
        "id": "Qhj0tIM_-xeB",
        "colab_type": "code",
        "colab": {
          "base_uri": "https://localhost:8080/",
          "height": 538
        },
        "outputId": "22c27563-a70a-4926-ffee-6979bab0c928"
      },
      "cell_type": "code",
      "source": [
        "brush = alt.selection(type='interval')\n",
        "\n",
        "points = alt.Chart().mark_point().encode(\n",
        "    x='età:Q',\n",
        "    y='reddito:Q',\n",
        "    color=alt.condition(brush, 'allineamento politico:N', alt.value('lightgray'))\n",
        ").add_selection(\n",
        "    brush\n",
        ")\n",
        "\n",
        "bars = alt.Chart().mark_bar().encode(\n",
        "    y='allineamento politico:N',\n",
        "    color='allineamento politico:N',\n",
        "    x='count(allineamento politico):Q'\n",
        ").transform_filter(\n",
        "    brush\n",
        ")\n",
        "\n",
        "alt.vconcat(points, bars, data=dataset)"
      ],
      "execution_count": 55,
      "outputs": [
        {
          "output_type": "execute_result",
          "data": {
            "text/plain": [
              "VConcatChart({\n",
              "  data: 0  genere   età allineamento politico   reddito\n",
              "  1       F  45.0                destra   20000.0\n",
              "  2       M  34.0                centro   25000.0\n",
              "  3       M  23.0              sinistra   18000.0\n",
              "  4       F  18.0              sinistra   17000.0\n",
              "  5       M  77.0                destra   54664.0\n",
              "  6       M  45.0              sinistra   35000.0\n",
              "  7       F  33.0                destra   15000.0\n",
              "  8       F  35.0                destra   12000.0\n",
              "  9       F  36.0                centro    8500.0\n",
              "  10      F  56.0                centro   15000.0\n",
              "  11      F  58.0              sinistra   13500.0\n",
              "  12      M  40.0              sinistra   16000.0\n",
              "  13      M  87.0                centro  145000.0\n",
              "  14      M  44.0              sinistra   23000.0\n",
              "  15      M  34.0                destra    9500.0\n",
              "  16      M  66.0                centro   24000.0\n",
              "  17      M  32.0                destra   60000.0\n",
              "  18      M  21.0                destra   45000.0,\n",
              "  vconcat: [Chart({\n",
              "    encoding: EncodingWithFacet({\n",
              "      color: ColorValue({\n",
              "        condition: Color({\n",
              "          selection: 'selector002',\n",
              "          shorthand: 'allineamento politico:N'\n",
              "        }),\n",
              "        value: 'lightgray'\n",
              "      }),\n",
              "      x: X({\n",
              "        shorthand: 'età:Q'\n",
              "      }),\n",
              "      y: Y({\n",
              "        shorthand: 'reddito:Q'\n",
              "      })\n",
              "    }),\n",
              "    mark: 'point',\n",
              "    selection: SelectionMapping({\n",
              "      selector002: SelectionDef({\n",
              "        type: 'interval'\n",
              "      })\n",
              "    })\n",
              "  }), Chart({\n",
              "    encoding: EncodingWithFacet({\n",
              "      color: Color({\n",
              "        shorthand: 'allineamento politico:N'\n",
              "      }),\n",
              "      x: X({\n",
              "        shorthand: 'count(allineamento politico):Q'\n",
              "      }),\n",
              "      y: Y({\n",
              "        shorthand: 'allineamento politico:N'\n",
              "      })\n",
              "    }),\n",
              "    mark: 'bar',\n",
              "    transform: [FilterTransform({\n",
              "      filter: {'selection': 'selector002'}\n",
              "    })]\n",
              "  })]\n",
              "})"
            ],
            "text/html": [
              "\n",
              "<!DOCTYPE html>\n",
              "<html>\n",
              "<head>\n",
              "  <style>\n",
              "    .vega-actions a {\n",
              "        margin-right: 12px;\n",
              "        color: #757575;\n",
              "        font-weight: normal;\n",
              "        font-size: 13px;\n",
              "    }\n",
              "    .error {\n",
              "        color: red;\n",
              "    }\n",
              "  </style>\n",
              "\n",
              "<script src=\"https://cdn.jsdelivr.net/npm//vega@3.3.1\"></script>\n",
              "<script src=\"https://cdn.jsdelivr.net/npm//vega-lite@2.6.0\"></script>\n",
              "<script src=\"https://cdn.jsdelivr.net/npm//vega-embed@3.14\"></script>\n",
              "\n",
              "</head>\n",
              "<body>\n",
              "  <div id=\"vis\"></div>\n",
              "  <script type=\"text/javascript\">\n",
              "    var spec = {\"config\": {\"view\": {\"width\": 400, \"height\": 300}}, \"vconcat\": [{\"mark\": \"point\", \"encoding\": {\"color\": {\"condition\": {\"type\": \"nominal\", \"field\": \"allineamento politico\", \"selection\": \"selector002\"}, \"value\": \"lightgray\"}, \"x\": {\"type\": \"quantitative\", \"field\": \"et\\u00e0\"}, \"y\": {\"type\": \"quantitative\", \"field\": \"reddito\"}}, \"selection\": {\"selector002\": {\"type\": \"interval\"}}}, {\"mark\": \"bar\", \"encoding\": {\"color\": {\"type\": \"nominal\", \"field\": \"allineamento politico\"}, \"x\": {\"type\": \"quantitative\", \"aggregate\": \"count\", \"field\": \"allineamento politico\"}, \"y\": {\"type\": \"nominal\", \"field\": \"allineamento politico\"}}, \"transform\": [{\"filter\": {\"selection\": \"selector002\"}}]}], \"data\": {\"name\": \"data-a742b591b49454398c2c8626363814b6\"}, \"$schema\": \"https://vega.github.io/schema/vega-lite/v2.6.0.json\", \"datasets\": {\"data-a742b591b49454398c2c8626363814b6\": [{\"genere\": \"F\", \"et\\u00e0\": 45.0, \"allineamento politico\": \"destra\", \"reddito\": 20000.0}, {\"genere\": \"M\", \"et\\u00e0\": 34.0, \"allineamento politico\": \"centro\", \"reddito\": 25000.0}, {\"genere\": \"M\", \"et\\u00e0\": 23.0, \"allineamento politico\": \"sinistra\", \"reddito\": 18000.0}, {\"genere\": \"F\", \"et\\u00e0\": 18.0, \"allineamento politico\": \"sinistra\", \"reddito\": 17000.0}, {\"genere\": \"M\", \"et\\u00e0\": 77.0, \"allineamento politico\": \"destra\", \"reddito\": 54664.0}, {\"genere\": \"M\", \"et\\u00e0\": 45.0, \"allineamento politico\": \"sinistra\", \"reddito\": 35000.0}, {\"genere\": \"F\", \"et\\u00e0\": 33.0, \"allineamento politico\": \"destra\", \"reddito\": 15000.0}, {\"genere\": \"F\", \"et\\u00e0\": 35.0, \"allineamento politico\": \"destra\", \"reddito\": 12000.0}, {\"genere\": \"F\", \"et\\u00e0\": 36.0, \"allineamento politico\": \"centro\", \"reddito\": 8500.0}, {\"genere\": \"F\", \"et\\u00e0\": 56.0, \"allineamento politico\": \"centro\", \"reddito\": 15000.0}, {\"genere\": \"F\", \"et\\u00e0\": 58.0, \"allineamento politico\": \"sinistra\", \"reddito\": 13500.0}, {\"genere\": \"M\", \"et\\u00e0\": 40.0, \"allineamento politico\": \"sinistra\", \"reddito\": 16000.0}, {\"genere\": \"M\", \"et\\u00e0\": 87.0, \"allineamento politico\": \"centro\", \"reddito\": 145000.0}, {\"genere\": \"M\", \"et\\u00e0\": 44.0, \"allineamento politico\": \"sinistra\", \"reddito\": 23000.0}, {\"genere\": \"M\", \"et\\u00e0\": 34.0, \"allineamento politico\": \"destra\", \"reddito\": 9500.0}, {\"genere\": \"M\", \"et\\u00e0\": 66.0, \"allineamento politico\": \"centro\", \"reddito\": 24000.0}, {\"genere\": \"M\", \"et\\u00e0\": 32.0, \"allineamento politico\": \"destra\", \"reddito\": 60000.0}, {\"genere\": \"M\", \"et\\u00e0\": 21.0, \"allineamento politico\": \"destra\", \"reddito\": 45000.0}]}};\n",
              "    var embed_opt = {\"mode\": \"vega-lite\"};\n",
              "\n",
              "    function showError(el, error){\n",
              "        el.innerHTML = ('<div class=\"error\">'\n",
              "                        + '<p>JavaScript Error: ' + error.message + '</p>'\n",
              "                        + \"<p>This usually means there's a typo in your chart specification. \"\n",
              "                        + \"See the javascript console for the full traceback.</p>\"\n",
              "                        + '</div>');\n",
              "        throw error;\n",
              "    }\n",
              "    const el = document.getElementById('vis');\n",
              "    vegaEmbed(\"#vis\", spec, embed_opt)\n",
              "      .catch(error => showError(el, error));\n",
              "  </script>\n",
              "</body>\n",
              "</html>\n"
            ]
          },
          "metadata": {
            "tags": []
          },
          "execution_count": 55
        }
      ]
    },
    {
      "metadata": {
        "id": "iPJfA4_rM0_b",
        "colab_type": "code",
        "colab": {}
      },
      "cell_type": "code",
      "source": [
        "#scarico i dati di valutazione del questionario\n",
        "questionario = download_gspread(\"1PiMvG2mUAQuWAuZeedL0mTyY1xy9fsggHh64v5D99w0\", key = True)"
      ],
      "execution_count": 0,
      "outputs": []
    },
    {
      "metadata": {
        "id": "m7z2ewROShXD",
        "colab_type": "code",
        "colab": {
          "base_uri": "https://localhost:8080/",
          "height": 561
        },
        "outputId": "c21f8db4-0639-4f53-d653-ae6241c2b2f6"
      },
      "cell_type": "code",
      "source": [
        "questionario.head(2)"
      ],
      "execution_count": 57,
      "outputs": [
        {
          "output_type": "execute_result",
          "data": {
            "text/html": [
              "<div>\n",
              "<style scoped>\n",
              "    .dataframe tbody tr th:only-of-type {\n",
              "        vertical-align: middle;\n",
              "    }\n",
              "\n",
              "    .dataframe tbody tr th {\n",
              "        vertical-align: top;\n",
              "    }\n",
              "\n",
              "    .dataframe thead th {\n",
              "        text-align: right;\n",
              "    }\n",
              "</style>\n",
              "<table border=\"1\" class=\"dataframe\">\n",
              "  <thead>\n",
              "    <tr style=\"text-align: right;\">\n",
              "      <th></th>\n",
              "      <th>Informazioni cronologiche</th>\n",
              "      <th>1) Codice classe</th>\n",
              "      <th>Conosci queste tecnologie per l'analisi dei dati?  [2_1) Foglio di calcolo (es. excel)]</th>\n",
              "      <th>Conosci queste tecnologie per l'analisi dei dati?  [2_2) Foglio di calcolo - Utilizzo di Tabelle Pivot]</th>\n",
              "      <th>Conosci queste tecnologie per l'analisi dei dati?  [2_3) Foglio di calcolo - Utilizzo di Macro]</th>\n",
              "      <th>Conosci queste tecnologie per l'analisi dei dati?  [2_4) Linguaggio e DB SQL]</th>\n",
              "      <th>Conosci queste tecnologie per l'analisi dei dati?  [2_5) Linguaggio R - Statistica]</th>\n",
              "      <th>Conosci queste tecnologie per l'analisi dei dati?  [2_6) Linguaggio Python]</th>\n",
              "      <th>Conosci queste tecnologie per l'analisi dei dati?  [2_7) Software SAS]</th>\n",
              "      <th>Conosci queste tecnologie per l'analisi dei dati?  [2_8) Software STATA]</th>\n",
              "      <th>...</th>\n",
              "      <th>Prima di questa lezione avevi mai sentito parlare di? [4_4) GIS(Geographic information system)]</th>\n",
              "      <th>Prima di questa lezione avevi mai sentito parlare di? [4_5) Social Data]</th>\n",
              "      <th>Prima di questa lezione avevi mai sentito parlare di? [4_6) Machine Learning]</th>\n",
              "      <th>Prima di questa lezione avevi mai sentito parlare di? [4_7) Realtà virtuale]</th>\n",
              "      <th>Prima di questa lezione avevi mai sentito parlare di? [4_8) Realtà aumentata]</th>\n",
              "      <th>Prima di questa lezione avevi mai sentito parlare di? [4_9) Intelligenza Artificiale]</th>\n",
              "      <th>Prima di questa lezione avevi mai sentito parlare di? [4_10) Open Source]</th>\n",
              "      <th>Prima di questa lezione avevi mai sentito parlare di? [4_11) Open Science]</th>\n",
              "      <th>Prima di questa lezione avevi mai sentito parlare di? [4_12) Open Access]</th>\n",
              "      <th>Hai un account google?</th>\n",
              "    </tr>\n",
              "  </thead>\n",
              "  <tbody>\n",
              "    <tr>\n",
              "      <th>1</th>\n",
              "      <td>24/09/2018 17.19.09</td>\n",
              "      <td>Magnier</td>\n",
              "      <td>3 -  Ho provato questa tecnologia, ma non sono...</td>\n",
              "      <td>1 - Non ne ho mai sentito parlare prima di que...</td>\n",
              "      <td>1 - Non ne ho mai sentito parlare prima di que...</td>\n",
              "      <td>1 - Non ne ho mai sentito parlare prima di que...</td>\n",
              "      <td>1 - Non ne ho mai sentito parlare prima di que...</td>\n",
              "      <td>1 - Non ne ho mai sentito parlare prima di que...</td>\n",
              "      <td>1 - Non ne ho mai sentito parlare prima di que...</td>\n",
              "      <td>1 - Non ne ho mai sentito parlare prima di que...</td>\n",
              "      <td>...</td>\n",
              "      <td>1 - No mai</td>\n",
              "      <td>1 - No mai</td>\n",
              "      <td>1 - No mai</td>\n",
              "      <td>3 - Si, ne ho sentito parlare nei giornali</td>\n",
              "      <td>1 - No mai</td>\n",
              "      <td>3 - Si, ne ho sentito parlare nei giornali</td>\n",
              "      <td>2 -Qualche volta, ma non ho capito bene di cos...</td>\n",
              "      <td>1 - No mai</td>\n",
              "      <td>2 -Qualche volta, ma non ho capito bene di cos...</td>\n",
              "      <td>Si</td>\n",
              "    </tr>\n",
              "    <tr>\n",
              "      <th>2</th>\n",
              "      <td>24/09/2018 17.19.11</td>\n",
              "      <td>magnier</td>\n",
              "      <td>5 - Ho utilizzato con successo per lavoro o pe...</td>\n",
              "      <td>2  - Ne ho sentito parlare, ma non l'ho mai ut...</td>\n",
              "      <td>2  - Ne ho sentito parlare, ma non l'ho mai ut...</td>\n",
              "      <td>1 - Non ne ho mai sentito parlare prima di que...</td>\n",
              "      <td>1 - Non ne ho mai sentito parlare prima di que...</td>\n",
              "      <td>1 - Non ne ho mai sentito parlare prima di que...</td>\n",
              "      <td>1 - Non ne ho mai sentito parlare prima di que...</td>\n",
              "      <td>1 - Non ne ho mai sentito parlare prima di que...</td>\n",
              "      <td>...</td>\n",
              "      <td>1 - No mai</td>\n",
              "      <td>1 - No mai</td>\n",
              "      <td>1 - No mai</td>\n",
              "      <td>3 - Si, ne ho sentito parlare nei giornali</td>\n",
              "      <td>3 - Si, ne ho sentito parlare nei giornali</td>\n",
              "      <td>3 - Si, ne ho sentito parlare nei giornali</td>\n",
              "      <td>1 - No mai</td>\n",
              "      <td>1 - No mai</td>\n",
              "      <td>1 - No mai</td>\n",
              "      <td>Si</td>\n",
              "    </tr>\n",
              "  </tbody>\n",
              "</table>\n",
              "<p>2 rows × 31 columns</p>\n",
              "</div>"
            ],
            "text/plain": [
              "0 Informazioni cronologiche 1) Codice classe  \\\n",
              "1       24/09/2018 17.19.09          Magnier   \n",
              "2       24/09/2018 17.19.11          magnier   \n",
              "\n",
              "0 Conosci queste tecnologie per l'analisi dei dati?  [2_1) Foglio di calcolo (es. excel)]  \\\n",
              "1  3 -  Ho provato questa tecnologia, ma non sono...                                        \n",
              "2  5 - Ho utilizzato con successo per lavoro o pe...                                        \n",
              "\n",
              "0 Conosci queste tecnologie per l'analisi dei dati?  [2_2) Foglio di calcolo - Utilizzo di Tabelle Pivot]  \\\n",
              "1  1 - Non ne ho mai sentito parlare prima di que...                                                        \n",
              "2  2  - Ne ho sentito parlare, ma non l'ho mai ut...                                                        \n",
              "\n",
              "0 Conosci queste tecnologie per l'analisi dei dati?  [2_3) Foglio di calcolo - Utilizzo di Macro]  \\\n",
              "1  1 - Non ne ho mai sentito parlare prima di que...                                                \n",
              "2  2  - Ne ho sentito parlare, ma non l'ho mai ut...                                                \n",
              "\n",
              "0 Conosci queste tecnologie per l'analisi dei dati?  [2_4) Linguaggio e DB SQL]  \\\n",
              "1  1 - Non ne ho mai sentito parlare prima di que...                              \n",
              "2  1 - Non ne ho mai sentito parlare prima di que...                              \n",
              "\n",
              "0 Conosci queste tecnologie per l'analisi dei dati?  [2_5) Linguaggio R - Statistica]  \\\n",
              "1  1 - Non ne ho mai sentito parlare prima di que...                                    \n",
              "2  1 - Non ne ho mai sentito parlare prima di que...                                    \n",
              "\n",
              "0 Conosci queste tecnologie per l'analisi dei dati?  [2_6) Linguaggio Python]  \\\n",
              "1  1 - Non ne ho mai sentito parlare prima di que...                            \n",
              "2  1 - Non ne ho mai sentito parlare prima di que...                            \n",
              "\n",
              "0 Conosci queste tecnologie per l'analisi dei dati?  [2_7) Software SAS]  \\\n",
              "1  1 - Non ne ho mai sentito parlare prima di que...                       \n",
              "2  1 - Non ne ho mai sentito parlare prima di que...                       \n",
              "\n",
              "0 Conosci queste tecnologie per l'analisi dei dati?  [2_8) Software STATA]  \\\n",
              "1  1 - Non ne ho mai sentito parlare prima di que...                         \n",
              "2  1 - Non ne ho mai sentito parlare prima di que...                         \n",
              "\n",
              "0          ...            \\\n",
              "1          ...             \n",
              "2          ...             \n",
              "\n",
              "0 Prima di questa lezione avevi mai sentito parlare di? [4_4) GIS(Geographic information system)]  \\\n",
              "1                                         1 - No mai                                                \n",
              "2                                         1 - No mai                                                \n",
              "\n",
              "0 Prima di questa lezione avevi mai sentito parlare di? [4_5) Social Data]  \\\n",
              "1                                         1 - No mai                         \n",
              "2                                         1 - No mai                         \n",
              "\n",
              "0 Prima di questa lezione avevi mai sentito parlare di? [4_6) Machine Learning]  \\\n",
              "1                                         1 - No mai                              \n",
              "2                                         1 - No mai                              \n",
              "\n",
              "0 Prima di questa lezione avevi mai sentito parlare di? [4_7) Realtà virtuale]  \\\n",
              "1         3 - Si, ne ho sentito parlare nei giornali                             \n",
              "2         3 - Si, ne ho sentito parlare nei giornali                             \n",
              "\n",
              "0 Prima di questa lezione avevi mai sentito parlare di? [4_8) Realtà aumentata]  \\\n",
              "1                                         1 - No mai                              \n",
              "2         3 - Si, ne ho sentito parlare nei giornali                              \n",
              "\n",
              "0 Prima di questa lezione avevi mai sentito parlare di? [4_9) Intelligenza Artificiale]  \\\n",
              "1         3 - Si, ne ho sentito parlare nei giornali                                      \n",
              "2         3 - Si, ne ho sentito parlare nei giornali                                      \n",
              "\n",
              "0 Prima di questa lezione avevi mai sentito parlare di? [4_10) Open Source]  \\\n",
              "1  2 -Qualche volta, ma non ho capito bene di cos...                          \n",
              "2                                         1 - No mai                          \n",
              "\n",
              "0 Prima di questa lezione avevi mai sentito parlare di? [4_11) Open Science]  \\\n",
              "1                                         1 - No mai                           \n",
              "2                                         1 - No mai                           \n",
              "\n",
              "0 Prima di questa lezione avevi mai sentito parlare di? [4_12) Open Access]  \\\n",
              "1  2 -Qualche volta, ma non ho capito bene di cos...                          \n",
              "2                                         1 - No mai                          \n",
              "\n",
              "0 Hai un account google?  \n",
              "1                     Si  \n",
              "2                     Si  \n",
              "\n",
              "[2 rows x 31 columns]"
            ]
          },
          "metadata": {
            "tags": []
          },
          "execution_count": 57
        }
      ]
    },
    {
      "metadata": {
        "id": "kZLwZCOHVaZx",
        "colab_type": "code",
        "colab": {}
      },
      "cell_type": "code",
      "source": [
        ""
      ],
      "execution_count": 0,
      "outputs": []
    }
  ]
}