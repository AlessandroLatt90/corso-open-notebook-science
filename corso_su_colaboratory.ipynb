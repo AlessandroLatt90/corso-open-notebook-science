{
  "nbformat": 4,
  "nbformat_minor": 0,
  "metadata": {
    "colab": {
      "name": "corso_su_colaboratory.ipynb",
      "version": "0.3.2",
      "provenance": [],
      "toc_visible": true,
      "include_colab_link": true
    },
    "kernelspec": {
      "name": "python3",
      "display_name": "Python 3"
    }
  },
  "cells": [
    {
      "cell_type": "markdown",
      "metadata": {
        "id": "view-in-github",
        "colab_type": "text"
      },
      "source": [
        "<a href=\"https://colab.research.google.com/github/datalifelab/corso-open-notebook-science/blob/master/corso_su_colaboratory.ipynb\" target=\"_parent\"><img src=\"https://colab.research.google.com/assets/colab-badge.svg\" alt=\"Open In Colab\"/></a>"
      ]
    },
    {
      "metadata": {
        "id": "zRnVvkVawf2k",
        "colab_type": "text"
      },
      "cell_type": "markdown",
      "source": [
        "\n",
        "#  Corso su Colaboratory\n",
        "## Questo notebook contiene la configurazione di base per poter lavorare con le librerie semplificate datalifelab\n",
        "Configurazione del file di colaboratory - non modificare.\n",
        "\n",
        "Nella seguente cella vengono scaricate ed installate le librerie necessarie per lavorare\n"
      ]
    },
    {
      "metadata": {
        "id": "7v8D7cPnwWkb",
        "colab_type": "code",
        "colab": {
          "base_uri": "https://localhost:8080/",
          "height": 935
        },
        "outputId": "4be57d55-36d1-4e25-af35-82c38f8a020b"
      },
      "cell_type": "code",
      "source": [
        "#effettuo l'importazione della libreria per il controllo del sistema operativo\n",
        "import os\n",
        "#effettuo l'importazione della libreria statistica Pandas\n",
        "import pandas as pd\n",
        "#effettuo l'importazione della libreria per la realizzazione di grafici base\n",
        "import matplotlib.pyplot as plt\n",
        "\n",
        "#effettuo l'importazione della libreria per il controllo del sistema operativo\n",
        "import os\n",
        "#effettuo l'importazione della libreria statistica Pandas\n",
        "import pandas as pd\n",
        "import matplotlib.pyplot as plt\n",
        "\n",
        "\n",
        "# scarico dal web ed installo la libreria marradi\n",
        "!rm marradi.py tools.py\n",
        "!wget https://raw.githubusercontent.com/datalifelab/corso-open-notebook-science/master/marradi.py marradi.py\n",
        "!wget https://raw.githubusercontent.com/datalifelab/corso-open-notebook-science/master/tools.py tools.py\n",
        "from marradi import dist_frequenza, plot_dist_frequenza, estrai_valore, tabella_di_contingenza\n",
        "from tools import download_gspread\n",
        "\n",
        "# scarico ed installo la versione aggiornata di seaborn.\n",
        "!pip install git+https://github.com/mwaskom/seaborn.git\n",
        "import seaborn as sns\n",
        "\n",
        "#installiamo la libreria per interagire con i fogli di google\n",
        "!pip install --upgrade -q gspread\n",
        "\n"
      ],
      "execution_count": 2,
      "outputs": [
        {
          "output_type": "stream",
          "text": [
            "--2018-11-16 09:13:00--  https://raw.githubusercontent.com/datalifelab/corso-open-notebook-science/master/marradi.py\n",
            "Resolving raw.githubusercontent.com (raw.githubusercontent.com)... 151.101.0.133, 151.101.64.133, 151.101.128.133, ...\n",
            "Connecting to raw.githubusercontent.com (raw.githubusercontent.com)|151.101.0.133|:443... connected.\n",
            "HTTP request sent, awaiting response... 200 OK\n",
            "Length: 6481 (6.3K) [text/plain]\n",
            "Saving to: ‘marradi.py’\n",
            "\n",
            "\rmarradi.py            0%[                    ]       0  --.-KB/s               \rmarradi.py          100%[===================>]   6.33K  --.-KB/s    in 0s      \n",
            "\n",
            "2018-11-16 09:13:00 (85.6 MB/s) - ‘marradi.py’ saved [6481/6481]\n",
            "\n",
            "--2018-11-16 09:13:00--  http://marradi.py/\n",
            "Resolving marradi.py (marradi.py)... failed: Name or service not known.\n",
            "wget: unable to resolve host address ‘marradi.py’\n",
            "FINISHED --2018-11-16 09:13:00--\n",
            "Total wall clock time: 0.1s\n",
            "Downloaded: 1 files, 6.3K in 0s (85.6 MB/s)\n",
            "--2018-11-16 09:13:01--  https://raw.githubusercontent.com/datalifelab/corso-open-notebook-science/master/tools.py\n",
            "Resolving raw.githubusercontent.com (raw.githubusercontent.com)... 151.101.0.133, 151.101.64.133, 151.101.128.133, ...\n",
            "Connecting to raw.githubusercontent.com (raw.githubusercontent.com)|151.101.0.133|:443... connected.\n",
            "HTTP request sent, awaiting response... 200 OK\n",
            "Length: 1754 (1.7K) [text/plain]\n",
            "Saving to: ‘tools.py’\n",
            "\n",
            "tools.py            100%[===================>]   1.71K  --.-KB/s    in 0s      \n",
            "\n",
            "2018-11-16 09:13:01 (206 MB/s) - ‘tools.py’ saved [1754/1754]\n",
            "\n",
            "--2018-11-16 09:13:01--  http://tools.py/\n",
            "Resolving tools.py (tools.py)... failed: Name or service not known.\n",
            "wget: unable to resolve host address ‘tools.py’\n",
            "FINISHED --2018-11-16 09:13:01--\n",
            "Total wall clock time: 0.1s\n",
            "Downloaded: 1 files, 1.7K in 0s (206 MB/s)\n",
            "Collecting git+https://github.com/mwaskom/seaborn.git\n",
            "  Cloning https://github.com/mwaskom/seaborn.git to /tmp/pip-req-build-zfhp2j8y\n",
            "Requirement already satisfied (use --upgrade to upgrade): seaborn==0.9.0 from git+https://github.com/mwaskom/seaborn.git in /usr/local/lib/python3.6/dist-packages\n",
            "Requirement already satisfied: numpy>=1.9.3 in /usr/local/lib/python3.6/dist-packages (from seaborn==0.9.0) (1.14.6)\n",
            "Requirement already satisfied: scipy>=0.14.0 in /usr/local/lib/python3.6/dist-packages (from seaborn==0.9.0) (1.1.0)\n",
            "Requirement already satisfied: pandas>=0.15.2 in /usr/local/lib/python3.6/dist-packages (from seaborn==0.9.0) (0.22.0)\n",
            "Requirement already satisfied: matplotlib>=1.4.3 in /usr/local/lib/python3.6/dist-packages (from seaborn==0.9.0) (2.1.2)\n",
            "Requirement already satisfied: python-dateutil>=2 in /usr/local/lib/python3.6/dist-packages (from pandas>=0.15.2->seaborn==0.9.0) (2.5.3)\n",
            "Requirement already satisfied: pytz>=2011k in /usr/local/lib/python3.6/dist-packages (from pandas>=0.15.2->seaborn==0.9.0) (2018.7)\n",
            "Requirement already satisfied: pyparsing!=2.0.4,!=2.1.2,!=2.1.6,>=2.0.1 in /usr/local/lib/python3.6/dist-packages (from matplotlib>=1.4.3->seaborn==0.9.0) (2.3.0)\n",
            "Requirement already satisfied: cycler>=0.10 in /usr/local/lib/python3.6/dist-packages (from matplotlib>=1.4.3->seaborn==0.9.0) (0.10.0)\n",
            "Requirement already satisfied: six>=1.10 in /usr/local/lib/python3.6/dist-packages (from matplotlib>=1.4.3->seaborn==0.9.0) (1.11.0)\n",
            "Building wheels for collected packages: seaborn\n",
            "  Running setup.py bdist_wheel for seaborn ... \u001b[?25l-\b \b\\\b \bdone\n",
            "\u001b[?25h  Stored in directory: /tmp/pip-ephem-wheel-cache-9ktj5oxw/wheels/4e/57/af/138c7bf2390a67f7010588cf080fb8b4e741bb290c2ad12018\n",
            "Successfully built seaborn\n"
          ],
          "name": "stdout"
        }
      ]
    },
    {
      "metadata": {
        "id": "V2hPeejQw0XN",
        "colab_type": "code",
        "colab": {}
      },
      "cell_type": "code",
      "source": [
        ""
      ],
      "execution_count": 0,
      "outputs": []
    },
    {
      "metadata": {
        "id": "f3SmyTsEw3lB",
        "colab_type": "code",
        "colab": {
          "base_uri": "https://localhost:8080/",
          "height": 129
        },
        "outputId": "d43bccef-102c-4efd-afda-23be1e755071"
      },
      "cell_type": "code",
      "source": [
        "from google.colab import drive\n",
        "drive.mount('/gdrive')"
      ],
      "execution_count": 3,
      "outputs": [
        {
          "output_type": "stream",
          "text": [
            "Go to this URL in a browser: https://accounts.google.com/o/oauth2/auth?client_id=947318989803-6bn6qk8qdgf4n4g3pfee6491hc0brc4i.apps.googleusercontent.com&redirect_uri=urn%3Aietf%3Awg%3Aoauth%3A2.0%3Aoob&scope=email%20https%3A%2F%2Fwww.googleapis.com%2Fauth%2Fdocs.test%20https%3A%2F%2Fwww.googleapis.com%2Fauth%2Fdrive%20https%3A%2F%2Fwww.googleapis.com%2Fauth%2Fdrive.photos.readonly%20https%3A%2F%2Fwww.googleapis.com%2Fauth%2Fpeopleapi.readonly&response_type=code\n",
            "\n",
            "Enter your authorization code:\n",
            "··········\n",
            "Mounted at /gdrive\n"
          ],
          "name": "stdout"
        }
      ]
    },
    {
      "metadata": {
        "id": "_EExj0Afw3l2",
        "colab_type": "code",
        "colab": {}
      },
      "cell_type": "code",
      "source": [
        "# per cambiare cartella ed entrare nel proprio gdrive\n",
        "!cd /gdrive"
      ],
      "execution_count": 0,
      "outputs": []
    },
    {
      "metadata": {
        "id": "UO1yOA3UxCup",
        "colab_type": "code",
        "colab": {
          "base_uri": "https://localhost:8080/",
          "height": 72
        },
        "outputId": "a7bfb323-bbe5-49b2-e114-844fcb49a3de"
      },
      "cell_type": "code",
      "source": [
        "#per vedere i file nel proprio gdrive\n",
        "ls -l"
      ],
      "execution_count": 8,
      "outputs": [
        {
          "output_type": "stream",
          "text": [
            "total 8\n",
            "drwx------ 6 root root 4096 Nov 16 09:22 \u001b[0m\u001b[01;34m'My Drive'\u001b[0m/\n",
            "dr-x------ 2 root root 4096 Nov 16 09:22 \u001b[01;34m'Team Drives'\u001b[0m/\n"
          ],
          "name": "stdout"
        }
      ]
    },
    {
      "metadata": {
        "id": "lGW4_Epl10Zp",
        "colab_type": "code",
        "colab": {}
      },
      "cell_type": "code",
      "source": [
        ""
      ],
      "execution_count": 0,
      "outputs": []
    }
  ]
}