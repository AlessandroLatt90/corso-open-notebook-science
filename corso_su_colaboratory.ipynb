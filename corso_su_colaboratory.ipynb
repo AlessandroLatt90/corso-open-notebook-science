{
  "nbformat": 4,
  "nbformat_minor": 0,
  "metadata": {
    "colab": {
      "name": "corso su colaboratory.ipynb",
      "version": "0.3.2",
      "provenance": [],
      "collapsed_sections": [],
      "include_colab_link": true
    },
    "kernelspec": {
      "name": "python3",
      "display_name": "Python 3"
    }
  },
  "cells": [
    {
      "cell_type": "markdown",
      "metadata": {
        "id": "view-in-github",
        "colab_type": "text"
      },
      "source": [
        "[![Open In Colab](https://colab.research.google.com/assets/colab-badge.svg)](https://colab.research.google.com/github/datalifelab/corso-open-notebook-science/blob/master/corso_su_colaboratory.ipynb)"
      ]
    },
    {
      "metadata": {
        "id": "QoZ8cRkD3oRm",
        "colab_type": "text"
      },
      "cell_type": "markdown",
      "source": [
        "# Corso su Colaboratory\n",
        "## Questo notebook contiene alcune librerie per lavorare in modo integrato nell'ecosistema di google drive:\n",
        "### Aprire fogli di calcolo di google\n",
        "### Effettuare la pulizia della matrice dall'importazione\n"
      ]
    },
    {
      "metadata": {
        "id": "_Kr4X18B_l3G",
        "colab_type": "code",
        "outputId": "5acaba08-1a00-40e3-adfe-7b5aec7380cf",
        "colab": {
          "base_uri": "https://localhost:8080/",
          "height": 35
        }
      },
      "cell_type": "code",
      "source": [
        "%%html\n",
        "<marquee style='width: 100%; color: blue;'><b>Buon divertimento!!</b></marquee>"
      ],
      "execution_count": 20,
      "outputs": [
        {
          "output_type": "display_data",
          "data": {
            "text/html": [
              "<marquee style='width: 100%; color: blue;'><b>Buon divertimento!!</b></marquee>"
            ],
            "text/plain": [
              "<IPython.core.display.HTML object>"
            ]
          },
          "metadata": {
            "tags": []
          }
        }
      ]
    },
    {
      "metadata": {
        "id": "J8I9-KW1B4Sk",
        "colab_type": "code",
        "outputId": "5a132820-f9a5-4d3c-ef1c-b012c4925df9",
        "colab": {
          "base_uri": "https://localhost:8080/",
          "height": 315
        }
      },
      "cell_type": "code",
      "source": [
        "#effettuo l'importazione della libreria per il controllo del sistema operativo\n",
        "import os\n",
        "#effettuo l'importazione della libreria statistica Pandas\n",
        "import numpy as np\n",
        "import pandas as pd\n",
        "import matplotlib.pyplot as plt\n",
        "!pip install git+https://github.com/mwaskom/seaborn.git\n",
        "import seaborn as sns"
      ],
      "execution_count": 21,
      "outputs": [
        {
          "output_type": "stream",
          "text": [
            "Collecting git+https://github.com/mwaskom/seaborn.git\n",
            "  Cloning https://github.com/mwaskom/seaborn.git to /tmp/pip-req-build-otwzx4kj\n",
            "Requirement already satisfied (use --upgrade to upgrade): seaborn==0.9.0 from git+https://github.com/mwaskom/seaborn.git in /usr/local/lib/python3.6/dist-packages\n",
            "Requirement already satisfied: numpy>=1.9.3 in /usr/local/lib/python3.6/dist-packages (from seaborn==0.9.0) (1.14.6)\n",
            "Requirement already satisfied: scipy>=0.14.0 in /usr/local/lib/python3.6/dist-packages (from seaborn==0.9.0) (0.19.1)\n",
            "Requirement already satisfied: pandas>=0.15.2 in /usr/local/lib/python3.6/dist-packages (from seaborn==0.9.0) (0.22.0)\n",
            "Requirement already satisfied: matplotlib>=1.4.3 in /usr/local/lib/python3.6/dist-packages (from seaborn==0.9.0) (2.1.2)\n",
            "Requirement already satisfied: python-dateutil>=2 in /usr/local/lib/python3.6/dist-packages (from pandas>=0.15.2->seaborn==0.9.0) (2.5.3)\n",
            "Requirement already satisfied: pytz>=2011k in /usr/local/lib/python3.6/dist-packages (from pandas>=0.15.2->seaborn==0.9.0) (2018.5)\n",
            "Requirement already satisfied: pyparsing!=2.0.4,!=2.1.2,!=2.1.6,>=2.0.1 in /usr/local/lib/python3.6/dist-packages (from matplotlib>=1.4.3->seaborn==0.9.0) (2.2.2)\n",
            "Requirement already satisfied: cycler>=0.10 in /usr/local/lib/python3.6/dist-packages (from matplotlib>=1.4.3->seaborn==0.9.0) (0.10.0)\n",
            "Requirement already satisfied: six>=1.10 in /usr/local/lib/python3.6/dist-packages (from matplotlib>=1.4.3->seaborn==0.9.0) (1.11.0)\n",
            "Building wheels for collected packages: seaborn\n",
            "  Running setup.py bdist_wheel for seaborn ... \u001b[?25l-\b \b\\\b \bdone\n",
            "\u001b[?25h  Stored in directory: /tmp/pip-ephem-wheel-cache-heqvpvf5/wheels/4e/57/af/138c7bf2390a67f7010588cf080fb8b4e741bb290c2ad12018\n",
            "Successfully built seaborn\n"
          ],
          "name": "stdout"
        }
      ]
    },
    {
      "metadata": {
        "id": "oHUVasHH5iqj",
        "colab_type": "code",
        "colab": {}
      },
      "cell_type": "code",
      "source": [
        "!pip install --upgrade -q gspread"
      ],
      "execution_count": 0,
      "outputs": []
    },
    {
      "metadata": {
        "id": "g-7vLbOt7T9F",
        "colab_type": "code",
        "colab": {}
      },
      "cell_type": "code",
      "source": [
        ""
      ],
      "execution_count": 0,
      "outputs": []
    },
    {
      "metadata": {
        "id": "da65qfUKCAy0",
        "colab_type": "code",
        "colab": {}
      },
      "cell_type": "code",
      "source": [
        "#Effettuo le librerie che mi autorizzano ad accedere ai file di google drive\n",
        "from google.colab import auth\n",
        "auth.authenticate_user()\n",
        "\n",
        "import gspread\n",
        "from oauth2client.client import GoogleCredentials\n",
        "\n",
        "#richiedo le credenziali: apre delle istruzioni e link da seguire per completare\n",
        "#la procedura\n",
        "gc = gspread.authorize(GoogleCredentials.get_application_default())\n",
        "\n"
      ],
      "execution_count": 0,
      "outputs": []
    },
    {
      "metadata": {
        "id": "2qMLlmidCLuz",
        "colab_type": "code",
        "colab": {}
      },
      "cell_type": "code",
      "source": [
        "def download_gspread(file_name, sheet_name = \"Foglio1\", key = False, format = \"wide\", virgola_italiano = False):\n",
        "  '''questa funzione, dato il nome del file di google spreadsheet\n",
        "  e dello specifico foglio di calcolo (opzionale) di google\n",
        "  restituisce un dataframe di pandas\n",
        "  file_name: str \n",
        "  sheet_name: str\n",
        "  key: boolean\n",
        "  format: [\"wide\", \"long\", None]\n",
        "  '''\n",
        "  \n",
        "  def str_to_float(cell):\n",
        "    '''trasforma in decimale \n",
        "    tutti i valori stringa contententi \n",
        "    valori numerici, anche quelli che hanno punti per migliaia e milioni e virgole\n",
        "    come decimali'''\n",
        "    \n",
        "    try:\n",
        "      if virgola_italiano == True:\n",
        "        cell = \"\".join(cell.split(\".\"))\n",
        "      else:\n",
        "        pass\n",
        "      cell = cell.replace(\",\", \".\")\n",
        "      cell = cell.strip()\n",
        "      cell = float(cell)\n",
        "    except:\n",
        "      cell = cell\n",
        "    return cell\n",
        "  \n",
        "  #questo comando scarica il foglio 1 del foglio di calcolo\n",
        "  if key == False:\n",
        "    if sheet_name == \"Foglio1\":\n",
        "      worksheet = gc.open(file_name).sheet1\n",
        "    else:\n",
        "      worksheet = gc.open(file_name).worksheet(sheet_name)\n",
        "  elif key == True:\n",
        "    if sheet_name == \"Foglio1\":\n",
        "      worksheet = gc.open_by_key(file_name).sheet1\n",
        "    else:\n",
        "      worksheet = gc.open_by_key(file_name).worksheet(sheet_name)\n",
        "    \n",
        "  # prendo tutte le righe del foglio\n",
        "  rows = worksheet.get_all_values()\n",
        "\n",
        "  # Converto in DataFrame di Pandas ed effettuo la pulizia dei dati con la funzione\n",
        "  # str_to_float\n",
        "  \n",
        "  dati = pd.DataFrame.from_records(rows)\n",
        "  if format == \"wide\":\n",
        "    dati.columns = dati.loc[0]\n",
        "    dati = dati.drop(0, axis = 0)  \n",
        "  else:\n",
        "    pass\n",
        "  #converte. dove necessario stringhe verso decimali\n",
        "  dati = dati.applymap(str_to_float)\n",
        "  dati = dati.apply(lambda x: pd.to_numeric(x, errors='ignore'))\n",
        "  return dati\n"
      ],
      "execution_count": 0,
      "outputs": []
    },
    {
      "metadata": {
        "id": "rOm3tLrSglq9",
        "colab_type": "code",
        "colab": {}
      },
      "cell_type": "code",
      "source": [
        ""
      ],
      "execution_count": 0,
      "outputs": []
    },
    {
      "metadata": {
        "id": "Ex33RwSxCm6A",
        "colab_type": "code",
        "colab": {}
      },
      "cell_type": "code",
      "source": [
        "dataset = download_gspread(\"esercitazione\")\n",
        "# https://docs.google.com/spreadsheets/d/1YEnbybH0KhX64kArxHjb74xBd16yCn1VL7Xs3SPG9PA/edit?usp=sharing"
      ],
      "execution_count": 0,
      "outputs": []
    },
    {
      "metadata": {
        "id": "lOUg7TjcZoZJ",
        "colab_type": "code",
        "outputId": "1b5ec5de-a99b-40b8-ddb2-e07d92e35edd",
        "colab": {
          "base_uri": "https://localhost:8080/",
          "height": 614
        }
      },
      "cell_type": "code",
      "source": [
        "dataset"
      ],
      "execution_count": 26,
      "outputs": [
        {
          "output_type": "execute_result",
          "data": {
            "text/html": [
              "<div>\n",
              "<style scoped>\n",
              "    .dataframe tbody tr th:only-of-type {\n",
              "        vertical-align: middle;\n",
              "    }\n",
              "\n",
              "    .dataframe tbody tr th {\n",
              "        vertical-align: top;\n",
              "    }\n",
              "\n",
              "    .dataframe thead th {\n",
              "        text-align: right;\n",
              "    }\n",
              "</style>\n",
              "<table border=\"1\" class=\"dataframe\">\n",
              "  <thead>\n",
              "    <tr style=\"text-align: right;\">\n",
              "      <th></th>\n",
              "      <th>genere</th>\n",
              "      <th>età</th>\n",
              "      <th>allineamento politico</th>\n",
              "      <th>reddito</th>\n",
              "    </tr>\n",
              "  </thead>\n",
              "  <tbody>\n",
              "    <tr>\n",
              "      <th>1</th>\n",
              "      <td>F</td>\n",
              "      <td>45.0</td>\n",
              "      <td>destra</td>\n",
              "      <td>20000.0</td>\n",
              "    </tr>\n",
              "    <tr>\n",
              "      <th>2</th>\n",
              "      <td>M</td>\n",
              "      <td>34.0</td>\n",
              "      <td>centro</td>\n",
              "      <td>25000.0</td>\n",
              "    </tr>\n",
              "    <tr>\n",
              "      <th>3</th>\n",
              "      <td>M</td>\n",
              "      <td>23.0</td>\n",
              "      <td>sinistra</td>\n",
              "      <td>18000.0</td>\n",
              "    </tr>\n",
              "    <tr>\n",
              "      <th>4</th>\n",
              "      <td>F</td>\n",
              "      <td>18.0</td>\n",
              "      <td>sinistra</td>\n",
              "      <td>17000.0</td>\n",
              "    </tr>\n",
              "    <tr>\n",
              "      <th>5</th>\n",
              "      <td>M</td>\n",
              "      <td>77.0</td>\n",
              "      <td>destra</td>\n",
              "      <td>54664.0</td>\n",
              "    </tr>\n",
              "    <tr>\n",
              "      <th>6</th>\n",
              "      <td>M</td>\n",
              "      <td>45.0</td>\n",
              "      <td>sinistra</td>\n",
              "      <td>35000.0</td>\n",
              "    </tr>\n",
              "    <tr>\n",
              "      <th>7</th>\n",
              "      <td>F</td>\n",
              "      <td>33.0</td>\n",
              "      <td>destra</td>\n",
              "      <td>15000.0</td>\n",
              "    </tr>\n",
              "    <tr>\n",
              "      <th>8</th>\n",
              "      <td>F</td>\n",
              "      <td>35.0</td>\n",
              "      <td>destra</td>\n",
              "      <td>12000.0</td>\n",
              "    </tr>\n",
              "    <tr>\n",
              "      <th>9</th>\n",
              "      <td>F</td>\n",
              "      <td>36.0</td>\n",
              "      <td>centro</td>\n",
              "      <td>8500.0</td>\n",
              "    </tr>\n",
              "    <tr>\n",
              "      <th>10</th>\n",
              "      <td>F</td>\n",
              "      <td>56.0</td>\n",
              "      <td>centro</td>\n",
              "      <td>15000.0</td>\n",
              "    </tr>\n",
              "    <tr>\n",
              "      <th>11</th>\n",
              "      <td>F</td>\n",
              "      <td>58.0</td>\n",
              "      <td>sinistra</td>\n",
              "      <td>13500.0</td>\n",
              "    </tr>\n",
              "    <tr>\n",
              "      <th>12</th>\n",
              "      <td>M</td>\n",
              "      <td>40.0</td>\n",
              "      <td>sinistra</td>\n",
              "      <td>16000.0</td>\n",
              "    </tr>\n",
              "    <tr>\n",
              "      <th>13</th>\n",
              "      <td>M</td>\n",
              "      <td>87.0</td>\n",
              "      <td>centro</td>\n",
              "      <td>145000.0</td>\n",
              "    </tr>\n",
              "    <tr>\n",
              "      <th>14</th>\n",
              "      <td>M</td>\n",
              "      <td>44.0</td>\n",
              "      <td>sinistra</td>\n",
              "      <td>23000.0</td>\n",
              "    </tr>\n",
              "    <tr>\n",
              "      <th>15</th>\n",
              "      <td>M</td>\n",
              "      <td>34.0</td>\n",
              "      <td>destra</td>\n",
              "      <td>9500.0</td>\n",
              "    </tr>\n",
              "    <tr>\n",
              "      <th>16</th>\n",
              "      <td>M</td>\n",
              "      <td>66.0</td>\n",
              "      <td>centro</td>\n",
              "      <td>24000.0</td>\n",
              "    </tr>\n",
              "    <tr>\n",
              "      <th>17</th>\n",
              "      <td>M</td>\n",
              "      <td>32.0</td>\n",
              "      <td>destra</td>\n",
              "      <td>60000.0</td>\n",
              "    </tr>\n",
              "    <tr>\n",
              "      <th>18</th>\n",
              "      <td>M</td>\n",
              "      <td>21.0</td>\n",
              "      <td>destra</td>\n",
              "      <td>45000.0</td>\n",
              "    </tr>\n",
              "  </tbody>\n",
              "</table>\n",
              "</div>"
            ],
            "text/plain": [
              "0  genere   età allineamento politico   reddito\n",
              "1       F  45.0                destra   20000.0\n",
              "2       M  34.0                centro   25000.0\n",
              "3       M  23.0              sinistra   18000.0\n",
              "4       F  18.0              sinistra   17000.0\n",
              "5       M  77.0                destra   54664.0\n",
              "6       M  45.0              sinistra   35000.0\n",
              "7       F  33.0                destra   15000.0\n",
              "8       F  35.0                destra   12000.0\n",
              "9       F  36.0                centro    8500.0\n",
              "10      F  56.0                centro   15000.0\n",
              "11      F  58.0              sinistra   13500.0\n",
              "12      M  40.0              sinistra   16000.0\n",
              "13      M  87.0                centro  145000.0\n",
              "14      M  44.0              sinistra   23000.0\n",
              "15      M  34.0                destra    9500.0\n",
              "16      M  66.0                centro   24000.0\n",
              "17      M  32.0                destra   60000.0\n",
              "18      M  21.0                destra   45000.0"
            ]
          },
          "metadata": {
            "tags": []
          },
          "execution_count": 26
        }
      ]
    },
    {
      "metadata": {
        "id": "cRZag-_sZqbT",
        "colab_type": "code",
        "outputId": "2e4ed49e-92ee-46cc-c003-6aff9124790c",
        "colab": {
          "base_uri": "https://localhost:8080/",
          "height": 347
        }
      },
      "cell_type": "code",
      "source": [
        "#voglio visualizzare una sola colonna\n",
        "dataset[\"reddito\"]"
      ],
      "execution_count": 27,
      "outputs": [
        {
          "output_type": "execute_result",
          "data": {
            "text/plain": [
              "1      20000.0\n",
              "2      25000.0\n",
              "3      18000.0\n",
              "4      17000.0\n",
              "5      54664.0\n",
              "6      35000.0\n",
              "7      15000.0\n",
              "8      12000.0\n",
              "9       8500.0\n",
              "10     15000.0\n",
              "11     13500.0\n",
              "12     16000.0\n",
              "13    145000.0\n",
              "14     23000.0\n",
              "15      9500.0\n",
              "16     24000.0\n",
              "17     60000.0\n",
              "18     45000.0\n",
              "Name: reddito, dtype: float64"
            ]
          },
          "metadata": {
            "tags": []
          },
          "execution_count": 27
        }
      ]
    },
    {
      "metadata": {
        "id": "waFUdG-HZ0PR",
        "colab_type": "code",
        "outputId": "4f6b9a40-97de-4c3b-c32a-5dd4954d12f5",
        "colab": {
          "base_uri": "https://localhost:8080/",
          "height": 614
        }
      },
      "cell_type": "code",
      "source": [
        "#oppure due colonne \n",
        "dataset.loc[:, [\"reddito\", \"età\"]]"
      ],
      "execution_count": 28,
      "outputs": [
        {
          "output_type": "execute_result",
          "data": {
            "text/html": [
              "<div>\n",
              "<style scoped>\n",
              "    .dataframe tbody tr th:only-of-type {\n",
              "        vertical-align: middle;\n",
              "    }\n",
              "\n",
              "    .dataframe tbody tr th {\n",
              "        vertical-align: top;\n",
              "    }\n",
              "\n",
              "    .dataframe thead th {\n",
              "        text-align: right;\n",
              "    }\n",
              "</style>\n",
              "<table border=\"1\" class=\"dataframe\">\n",
              "  <thead>\n",
              "    <tr style=\"text-align: right;\">\n",
              "      <th></th>\n",
              "      <th>reddito</th>\n",
              "      <th>età</th>\n",
              "    </tr>\n",
              "  </thead>\n",
              "  <tbody>\n",
              "    <tr>\n",
              "      <th>1</th>\n",
              "      <td>20000.0</td>\n",
              "      <td>45.0</td>\n",
              "    </tr>\n",
              "    <tr>\n",
              "      <th>2</th>\n",
              "      <td>25000.0</td>\n",
              "      <td>34.0</td>\n",
              "    </tr>\n",
              "    <tr>\n",
              "      <th>3</th>\n",
              "      <td>18000.0</td>\n",
              "      <td>23.0</td>\n",
              "    </tr>\n",
              "    <tr>\n",
              "      <th>4</th>\n",
              "      <td>17000.0</td>\n",
              "      <td>18.0</td>\n",
              "    </tr>\n",
              "    <tr>\n",
              "      <th>5</th>\n",
              "      <td>54664.0</td>\n",
              "      <td>77.0</td>\n",
              "    </tr>\n",
              "    <tr>\n",
              "      <th>6</th>\n",
              "      <td>35000.0</td>\n",
              "      <td>45.0</td>\n",
              "    </tr>\n",
              "    <tr>\n",
              "      <th>7</th>\n",
              "      <td>15000.0</td>\n",
              "      <td>33.0</td>\n",
              "    </tr>\n",
              "    <tr>\n",
              "      <th>8</th>\n",
              "      <td>12000.0</td>\n",
              "      <td>35.0</td>\n",
              "    </tr>\n",
              "    <tr>\n",
              "      <th>9</th>\n",
              "      <td>8500.0</td>\n",
              "      <td>36.0</td>\n",
              "    </tr>\n",
              "    <tr>\n",
              "      <th>10</th>\n",
              "      <td>15000.0</td>\n",
              "      <td>56.0</td>\n",
              "    </tr>\n",
              "    <tr>\n",
              "      <th>11</th>\n",
              "      <td>13500.0</td>\n",
              "      <td>58.0</td>\n",
              "    </tr>\n",
              "    <tr>\n",
              "      <th>12</th>\n",
              "      <td>16000.0</td>\n",
              "      <td>40.0</td>\n",
              "    </tr>\n",
              "    <tr>\n",
              "      <th>13</th>\n",
              "      <td>145000.0</td>\n",
              "      <td>87.0</td>\n",
              "    </tr>\n",
              "    <tr>\n",
              "      <th>14</th>\n",
              "      <td>23000.0</td>\n",
              "      <td>44.0</td>\n",
              "    </tr>\n",
              "    <tr>\n",
              "      <th>15</th>\n",
              "      <td>9500.0</td>\n",
              "      <td>34.0</td>\n",
              "    </tr>\n",
              "    <tr>\n",
              "      <th>16</th>\n",
              "      <td>24000.0</td>\n",
              "      <td>66.0</td>\n",
              "    </tr>\n",
              "    <tr>\n",
              "      <th>17</th>\n",
              "      <td>60000.0</td>\n",
              "      <td>32.0</td>\n",
              "    </tr>\n",
              "    <tr>\n",
              "      <th>18</th>\n",
              "      <td>45000.0</td>\n",
              "      <td>21.0</td>\n",
              "    </tr>\n",
              "  </tbody>\n",
              "</table>\n",
              "</div>"
            ],
            "text/plain": [
              "0    reddito   età\n",
              "1    20000.0  45.0\n",
              "2    25000.0  34.0\n",
              "3    18000.0  23.0\n",
              "4    17000.0  18.0\n",
              "5    54664.0  77.0\n",
              "6    35000.0  45.0\n",
              "7    15000.0  33.0\n",
              "8    12000.0  35.0\n",
              "9     8500.0  36.0\n",
              "10   15000.0  56.0\n",
              "11   13500.0  58.0\n",
              "12   16000.0  40.0\n",
              "13  145000.0  87.0\n",
              "14   23000.0  44.0\n",
              "15    9500.0  34.0\n",
              "16   24000.0  66.0\n",
              "17   60000.0  32.0\n",
              "18   45000.0  21.0"
            ]
          },
          "metadata": {
            "tags": []
          },
          "execution_count": 28
        }
      ]
    },
    {
      "metadata": {
        "id": "sUqBbTVy7Lh-",
        "colab_type": "code",
        "outputId": "1f05a0c7-4714-4fe0-d97d-6970b754d0c7",
        "colab": {
          "base_uri": "https://localhost:8080/",
          "height": 52
        }
      },
      "cell_type": "code",
      "source": [
        "print(\"Questo dato è la media del reddito \" + str(dataset[\"reddito\"].mean()))\n",
        "print(\"Questo dato è la media dell'età \" + str(dataset[\"età\"].mean()))\n",
        "  "
      ],
      "execution_count": 29,
      "outputs": [
        {
          "output_type": "stream",
          "text": [
            "Questo dato è la media del reddito 30898.0\n",
            "Questo dato è la media dell'età 43.55555555555556\n"
          ],
          "name": "stdout"
        }
      ]
    },
    {
      "metadata": {
        "id": "60wQ3JV_C_g0",
        "colab_type": "code",
        "outputId": "b2d5c840-0d5a-498d-e78b-bd3d5f67499a",
        "colab": {
          "base_uri": "https://localhost:8080/",
          "height": 86
        }
      },
      "cell_type": "code",
      "source": [
        "dataset.mean()"
      ],
      "execution_count": 30,
      "outputs": [
        {
          "output_type": "execute_result",
          "data": {
            "text/plain": [
              "0\n",
              "età           43.555556\n",
              "reddito    30898.000000\n",
              "dtype: float64"
            ]
          },
          "metadata": {
            "tags": []
          },
          "execution_count": 30
        }
      ]
    },
    {
      "metadata": {
        "id": "VTZf8xhwaVSs",
        "colab_type": "code",
        "outputId": "60394a07-f31b-4419-9f83-81408ec15480",
        "colab": {
          "base_uri": "https://localhost:8080/",
          "height": 300
        }
      },
      "cell_type": "code",
      "source": [
        "dataset.describe()"
      ],
      "execution_count": 31,
      "outputs": [
        {
          "output_type": "execute_result",
          "data": {
            "text/html": [
              "<div>\n",
              "<style scoped>\n",
              "    .dataframe tbody tr th:only-of-type {\n",
              "        vertical-align: middle;\n",
              "    }\n",
              "\n",
              "    .dataframe tbody tr th {\n",
              "        vertical-align: top;\n",
              "    }\n",
              "\n",
              "    .dataframe thead th {\n",
              "        text-align: right;\n",
              "    }\n",
              "</style>\n",
              "<table border=\"1\" class=\"dataframe\">\n",
              "  <thead>\n",
              "    <tr style=\"text-align: right;\">\n",
              "      <th></th>\n",
              "      <th>età</th>\n",
              "      <th>reddito</th>\n",
              "    </tr>\n",
              "  </thead>\n",
              "  <tbody>\n",
              "    <tr>\n",
              "      <th>count</th>\n",
              "      <td>18.000000</td>\n",
              "      <td>18.000000</td>\n",
              "    </tr>\n",
              "    <tr>\n",
              "      <th>mean</th>\n",
              "      <td>43.555556</td>\n",
              "      <td>30898.000000</td>\n",
              "    </tr>\n",
              "    <tr>\n",
              "      <th>std</th>\n",
              "      <td>18.837454</td>\n",
              "      <td>32191.109134</td>\n",
              "    </tr>\n",
              "    <tr>\n",
              "      <th>min</th>\n",
              "      <td>18.000000</td>\n",
              "      <td>8500.000000</td>\n",
              "    </tr>\n",
              "    <tr>\n",
              "      <th>25%</th>\n",
              "      <td>33.250000</td>\n",
              "      <td>15000.000000</td>\n",
              "    </tr>\n",
              "    <tr>\n",
              "      <th>50%</th>\n",
              "      <td>38.000000</td>\n",
              "      <td>19000.000000</td>\n",
              "    </tr>\n",
              "    <tr>\n",
              "      <th>75%</th>\n",
              "      <td>53.250000</td>\n",
              "      <td>32500.000000</td>\n",
              "    </tr>\n",
              "    <tr>\n",
              "      <th>max</th>\n",
              "      <td>87.000000</td>\n",
              "      <td>145000.000000</td>\n",
              "    </tr>\n",
              "  </tbody>\n",
              "</table>\n",
              "</div>"
            ],
            "text/plain": [
              "0            età        reddito\n",
              "count  18.000000      18.000000\n",
              "mean   43.555556   30898.000000\n",
              "std    18.837454   32191.109134\n",
              "min    18.000000    8500.000000\n",
              "25%    33.250000   15000.000000\n",
              "50%    38.000000   19000.000000\n",
              "75%    53.250000   32500.000000\n",
              "max    87.000000  145000.000000"
            ]
          },
          "metadata": {
            "tags": []
          },
          "execution_count": 31
        }
      ]
    },
    {
      "metadata": {
        "id": "bj2cjK7J-qkn",
        "colab_type": "code",
        "outputId": "eb3fe71d-1a79-4c51-b35f-0a1ffaa65325",
        "colab": {
          "base_uri": "https://localhost:8080/",
          "height": 378
        }
      },
      "cell_type": "code",
      "source": [
        "#grafici base\n",
        "#https://pandas.pydata.org/pandas-docs/stable/generated/pandas.DataFrame.plot.html\n",
        "\n",
        "dataset.plot(kind = \"scatter\", y = \"reddito\", x = \"età\")"
      ],
      "execution_count": 32,
      "outputs": [
        {
          "output_type": "execute_result",
          "data": {
            "text/plain": [
              "<matplotlib.axes._subplots.AxesSubplot at 0x7f7aab004908>"
            ]
          },
          "metadata": {
            "tags": []
          },
          "execution_count": 32
        },
        {
          "output_type": "display_data",
          "data": {
            "image/png": "[encoded data removed]",
            "text/plain": [
              "<matplotlib.figure.Figure at 0x7f7aab004320>"
            ]
          },
          "metadata": {
            "tags": []
          }
        }
      ]
    },
    {
      "metadata": {
        "id": "hoAPY9YoZCxW",
        "colab_type": "code",
        "outputId": "1bca4e15-5825-4937-fdf3-e0fbd07c064d",
        "colab": {
          "base_uri": "https://localhost:8080/",
          "height": 378
        }
      },
      "cell_type": "code",
      "source": [
        "sns.regplot(y=\"reddito\", x=\"età\", data=dataset)\n",
        "#esempi di grafico https://seaborn.pydata.org/examples/index.html"
      ],
      "execution_count": 33,
      "outputs": [
        {
          "output_type": "execute_result",
          "data": {
            "text/plain": [
              "<matplotlib.axes._subplots.AxesSubplot at 0x7f7aaafdbac8>"
            ]
          },
          "metadata": {
            "tags": []
          },
          "execution_count": 33
        },
        {
          "output_type": "display_data",
          "data": {
            "image/png": "[encoded data removed]",
            "text/plain": [
              "<matplotlib.figure.Figure at 0x7f7aaafa40b8>"
            ]
          },
          "metadata": {
            "tags": []
          }
        }
      ]
    },
    {
      "metadata": {
        "id": "jNIzfH9FZfdP",
        "colab_type": "code",
        "outputId": "9f2b6488-ca55-46a8-a443-d67e8fdf4687",
        "colab": {
          "base_uri": "https://localhost:8080/",
          "height": 143
        }
      },
      "cell_type": "code",
      "source": [
        "dataset.loc[:, [\"reddito\",\"età\"]].corr()"
      ],
      "execution_count": 34,
      "outputs": [
        {
          "output_type": "execute_result",
          "data": {
            "text/html": [
              "<div>\n",
              "<style scoped>\n",
              "    .dataframe tbody tr th:only-of-type {\n",
              "        vertical-align: middle;\n",
              "    }\n",
              "\n",
              "    .dataframe tbody tr th {\n",
              "        vertical-align: top;\n",
              "    }\n",
              "\n",
              "    .dataframe thead th {\n",
              "        text-align: right;\n",
              "    }\n",
              "</style>\n",
              "<table border=\"1\" class=\"dataframe\">\n",
              "  <thead>\n",
              "    <tr style=\"text-align: right;\">\n",
              "      <th></th>\n",
              "      <th>reddito</th>\n",
              "      <th>età</th>\n",
              "    </tr>\n",
              "    <tr>\n",
              "      <th>0</th>\n",
              "      <th></th>\n",
              "      <th></th>\n",
              "    </tr>\n",
              "  </thead>\n",
              "  <tbody>\n",
              "    <tr>\n",
              "      <th>reddito</th>\n",
              "      <td>1.000000</td>\n",
              "      <td>0.573598</td>\n",
              "    </tr>\n",
              "    <tr>\n",
              "      <th>età</th>\n",
              "      <td>0.573598</td>\n",
              "      <td>1.000000</td>\n",
              "    </tr>\n",
              "  </tbody>\n",
              "</table>\n",
              "</div>"
            ],
            "text/plain": [
              "0         reddito       età\n",
              "0                          \n",
              "reddito  1.000000  0.573598\n",
              "età      0.573598  1.000000"
            ]
          },
          "metadata": {
            "tags": []
          },
          "execution_count": 34
        }
      ]
    },
    {
      "metadata": {
        "id": "-Izwvy4SAt0e",
        "colab_type": "text"
      },
      "cell_type": "markdown",
      "source": [
        "[tipi di grafico](https://pandas.pydata.org/pandas-docs/stable/generated/pandas.DataFrame.plot.html)"
      ]
    },
    {
      "metadata": {
        "id": "myvHWBEUBjbO",
        "colab_type": "code",
        "outputId": "6cf4759f-cf0f-4d80-ea54-a0b407ee492c",
        "colab": {
          "base_uri": "https://localhost:8080/",
          "height": 389
        }
      },
      "cell_type": "code",
      "source": [
        "# Grafici interattivi\n",
        "import altair as alt\n",
        "alt.Chart(dataset).mark_point().encode(\n",
        "  y=\"reddito\",\n",
        "  x=\"età\",\n",
        "  color='allineamento politico'\n",
        ").interactive()"
      ],
      "execution_count": 35,
      "outputs": [
        {
          "output_type": "execute_result",
          "data": {
            "text/plain": [
              "Chart({\n",
              "  data: 0  genere   età allineamento politico   reddito\n",
              "  1       F  45.0                destra   20000.0\n",
              "  2       M  34.0                centro   25000.0\n",
              "  3       M  23.0              sinistra   18000.0\n",
              "  4       F  18.0              sinistra   17000.0\n",
              "  5       M  77.0                destra   54664.0\n",
              "  6       M  45.0              sinistra   35000.0\n",
              "  7       F  33.0                destra   15000.0\n",
              "  8       F  35.0                destra   12000.0\n",
              "  9       F  36.0                centro    8500.0\n",
              "  10      F  56.0                centro   15000.0\n",
              "  11      F  58.0              sinistra   13500.0\n",
              "  12      M  40.0              sinistra   16000.0\n",
              "  13      M  87.0                centro  145000.0\n",
              "  14      M  44.0              sinistra   23000.0\n",
              "  15      M  34.0                destra    9500.0\n",
              "  16      M  66.0                centro   24000.0\n",
              "  17      M  32.0                destra   60000.0\n",
              "  18      M  21.0                destra   45000.0,\n",
              "  encoding: EncodingWithFacet({\n",
              "    color: Color({\n",
              "      shorthand: 'allineamento politico'\n",
              "    }),\n",
              "    x: X({\n",
              "      shorthand: 'età'\n",
              "    }),\n",
              "    y: Y({\n",
              "      shorthand: 'reddito'\n",
              "    })\n",
              "  }),\n",
              "  mark: 'point',\n",
              "  selection: SelectionMapping({\n",
              "    selector003: SelectionDef({\n",
              "      bind: 'scales',\n",
              "      encodings: ['x', 'y'],\n",
              "      type: 'interval'\n",
              "    })\n",
              "  })\n",
              "})"
            ],
            "text/html": [
              "\n",
              "<!DOCTYPE html>\n",
              "<html>\n",
              "<head>\n",
              "  <style>\n",
              "    .vega-actions a {\n",
              "        margin-right: 12px;\n",
              "        color: #757575;\n",
              "        font-weight: normal;\n",
              "        font-size: 13px;\n",
              "    }\n",
              "    .error {\n",
              "        color: red;\n",
              "    }\n",
              "  </style>\n",
              "\n",
              "<script src=\"https://cdn.jsdelivr.net/npm//vega@3.3.1\"></script>\n",
              "<script src=\"https://cdn.jsdelivr.net/npm//vega-lite@2.6.0\"></script>\n",
              "<script src=\"https://cdn.jsdelivr.net/npm//vega-embed@3.14\"></script>\n",
              "\n",
              "</head>\n",
              "<body>\n",
              "  <div id=\"vis\"></div>\n",
              "  <script type=\"text/javascript\">\n",
              "    var spec = {\"config\": {\"view\": {\"width\": 400, \"height\": 300}}, \"data\": {\"name\": \"data-a742b591b49454398c2c8626363814b6\"}, \"mark\": \"point\", \"encoding\": {\"color\": {\"type\": \"nominal\", \"field\": \"allineamento politico\"}, \"x\": {\"type\": \"quantitative\", \"field\": \"et\\u00e0\"}, \"y\": {\"type\": \"quantitative\", \"field\": \"reddito\"}}, \"selection\": {\"selector003\": {\"type\": \"interval\", \"bind\": \"scales\", \"encodings\": [\"x\", \"y\"]}}, \"$schema\": \"https://vega.github.io/schema/vega-lite/v2.6.0.json\", \"datasets\": {\"data-a742b591b49454398c2c8626363814b6\": [{\"genere\": \"F\", \"et\\u00e0\": 45.0, \"allineamento politico\": \"destra\", \"reddito\": 20000.0}, {\"genere\": \"M\", \"et\\u00e0\": 34.0, \"allineamento politico\": \"centro\", \"reddito\": 25000.0}, {\"genere\": \"M\", \"et\\u00e0\": 23.0, \"allineamento politico\": \"sinistra\", \"reddito\": 18000.0}, {\"genere\": \"F\", \"et\\u00e0\": 18.0, \"allineamento politico\": \"sinistra\", \"reddito\": 17000.0}, {\"genere\": \"M\", \"et\\u00e0\": 77.0, \"allineamento politico\": \"destra\", \"reddito\": 54664.0}, {\"genere\": \"M\", \"et\\u00e0\": 45.0, \"allineamento politico\": \"sinistra\", \"reddito\": 35000.0}, {\"genere\": \"F\", \"et\\u00e0\": 33.0, \"allineamento politico\": \"destra\", \"reddito\": 15000.0}, {\"genere\": \"F\", \"et\\u00e0\": 35.0, \"allineamento politico\": \"destra\", \"reddito\": 12000.0}, {\"genere\": \"F\", \"et\\u00e0\": 36.0, \"allineamento politico\": \"centro\", \"reddito\": 8500.0}, {\"genere\": \"F\", \"et\\u00e0\": 56.0, \"allineamento politico\": \"centro\", \"reddito\": 15000.0}, {\"genere\": \"F\", \"et\\u00e0\": 58.0, \"allineamento politico\": \"sinistra\", \"reddito\": 13500.0}, {\"genere\": \"M\", \"et\\u00e0\": 40.0, \"allineamento politico\": \"sinistra\", \"reddito\": 16000.0}, {\"genere\": \"M\", \"et\\u00e0\": 87.0, \"allineamento politico\": \"centro\", \"reddito\": 145000.0}, {\"genere\": \"M\", \"et\\u00e0\": 44.0, \"allineamento politico\": \"sinistra\", \"reddito\": 23000.0}, {\"genere\": \"M\", \"et\\u00e0\": 34.0, \"allineamento politico\": \"destra\", \"reddito\": 9500.0}, {\"genere\": \"M\", \"et\\u00e0\": 66.0, \"allineamento politico\": \"centro\", \"reddito\": 24000.0}, {\"genere\": \"M\", \"et\\u00e0\": 32.0, \"allineamento politico\": \"destra\", \"reddito\": 60000.0}, {\"genere\": \"M\", \"et\\u00e0\": 21.0, \"allineamento politico\": \"destra\", \"reddito\": 45000.0}]}};\n",
              "    var embed_opt = {\"mode\": \"vega-lite\"};\n",
              "\n",
              "    function showError(el, error){\n",
              "        el.innerHTML = ('<div class=\"error\">'\n",
              "                        + '<p>JavaScript Error: ' + error.message + '</p>'\n",
              "                        + \"<p>This usually means there's a typo in your chart specification. \"\n",
              "                        + \"See the javascript console for the full traceback.</p>\"\n",
              "                        + '</div>');\n",
              "        throw error;\n",
              "    }\n",
              "    const el = document.getElementById('vis');\n",
              "    vegaEmbed(\"#vis\", spec, embed_opt)\n",
              "      .catch(error => showError(el, error));\n",
              "  </script>\n",
              "</body>\n",
              "</html>\n"
            ]
          },
          "metadata": {
            "tags": []
          },
          "execution_count": 35
        }
      ]
    },
    {
      "metadata": {
        "id": "Qhj0tIM_-xeB",
        "colab_type": "code",
        "outputId": "0903375d-90e7-478c-9c2a-740366f12f0a",
        "colab": {
          "base_uri": "https://localhost:8080/",
          "height": 538
        }
      },
      "cell_type": "code",
      "source": [
        "brush = alt.selection(type='interval')\n",
        "\n",
        "points = alt.Chart().mark_point().encode(\n",
        "    x='età:Q',\n",
        "    y='reddito:Q',\n",
        "    color=alt.condition(brush, 'allineamento politico:N', alt.value('lightgray'))\n",
        ").add_selection(\n",
        "    brush\n",
        ")\n",
        "\n",
        "bars = alt.Chart().mark_bar().encode(\n",
        "    y='allineamento politico:N',\n",
        "    color='allineamento politico:N',\n",
        "    x='count(allineamento politico):Q'\n",
        ").transform_filter(\n",
        "    brush\n",
        ")\n",
        "\n",
        "alt.vconcat(points, bars, data=dataset)"
      ],
      "execution_count": 36,
      "outputs": [
        {
          "output_type": "execute_result",
          "data": {
            "text/plain": [
              "VConcatChart({\n",
              "  data: 0  genere   età allineamento politico   reddito\n",
              "  1       F  45.0                destra   20000.0\n",
              "  2       M  34.0                centro   25000.0\n",
              "  3       M  23.0              sinistra   18000.0\n",
              "  4       F  18.0              sinistra   17000.0\n",
              "  5       M  77.0                destra   54664.0\n",
              "  6       M  45.0              sinistra   35000.0\n",
              "  7       F  33.0                destra   15000.0\n",
              "  8       F  35.0                destra   12000.0\n",
              "  9       F  36.0                centro    8500.0\n",
              "  10      F  56.0                centro   15000.0\n",
              "  11      F  58.0              sinistra   13500.0\n",
              "  12      M  40.0              sinistra   16000.0\n",
              "  13      M  87.0                centro  145000.0\n",
              "  14      M  44.0              sinistra   23000.0\n",
              "  15      M  34.0                destra    9500.0\n",
              "  16      M  66.0                centro   24000.0\n",
              "  17      M  32.0                destra   60000.0\n",
              "  18      M  21.0                destra   45000.0,\n",
              "  vconcat: [Chart({\n",
              "    encoding: EncodingWithFacet({\n",
              "      color: ColorValue({\n",
              "        condition: Color({\n",
              "          selection: 'selector004',\n",
              "          shorthand: 'allineamento politico:N'\n",
              "        }),\n",
              "        value: 'lightgray'\n",
              "      }),\n",
              "      x: X({\n",
              "        shorthand: 'età:Q'\n",
              "      }),\n",
              "      y: Y({\n",
              "        shorthand: 'reddito:Q'\n",
              "      })\n",
              "    }),\n",
              "    mark: 'point',\n",
              "    selection: SelectionMapping({\n",
              "      selector004: SelectionDef({\n",
              "        type: 'interval'\n",
              "      })\n",
              "    })\n",
              "  }), Chart({\n",
              "    encoding: EncodingWithFacet({\n",
              "      color: Color({\n",
              "        shorthand: 'allineamento politico:N'\n",
              "      }),\n",
              "      x: X({\n",
              "        shorthand: 'count(allineamento politico):Q'\n",
              "      }),\n",
              "      y: Y({\n",
              "        shorthand: 'allineamento politico:N'\n",
              "      })\n",
              "    }),\n",
              "    mark: 'bar',\n",
              "    transform: [FilterTransform({\n",
              "      filter: {'selection': 'selector004'}\n",
              "    })]\n",
              "  })]\n",
              "})"
            ],
            "text/html": [
              "\n",
              "<!DOCTYPE html>\n",
              "<html>\n",
              "<head>\n",
              "  <style>\n",
              "    .vega-actions a {\n",
              "        margin-right: 12px;\n",
              "        color: #757575;\n",
              "        font-weight: normal;\n",
              "        font-size: 13px;\n",
              "    }\n",
              "    .error {\n",
              "        color: red;\n",
              "    }\n",
              "  </style>\n",
              "\n",
              "<script src=\"https://cdn.jsdelivr.net/npm//vega@3.3.1\"></script>\n",
              "<script src=\"https://cdn.jsdelivr.net/npm//vega-lite@2.6.0\"></script>\n",
              "<script src=\"https://cdn.jsdelivr.net/npm//vega-embed@3.14\"></script>\n",
              "\n",
              "</head>\n",
              "<body>\n",
              "  <div id=\"vis\"></div>\n",
              "  <script type=\"text/javascript\">\n",
              "    var spec = {\"config\": {\"view\": {\"width\": 400, \"height\": 300}}, \"vconcat\": [{\"mark\": \"point\", \"encoding\": {\"color\": {\"condition\": {\"type\": \"nominal\", \"field\": \"allineamento politico\", \"selection\": \"selector004\"}, \"value\": \"lightgray\"}, \"x\": {\"type\": \"quantitative\", \"field\": \"et\\u00e0\"}, \"y\": {\"type\": \"quantitative\", \"field\": \"reddito\"}}, \"selection\": {\"selector004\": {\"type\": \"interval\"}}}, {\"mark\": \"bar\", \"encoding\": {\"color\": {\"type\": \"nominal\", \"field\": \"allineamento politico\"}, \"x\": {\"type\": \"quantitative\", \"aggregate\": \"count\", \"field\": \"allineamento politico\"}, \"y\": {\"type\": \"nominal\", \"field\": \"allineamento politico\"}}, \"transform\": [{\"filter\": {\"selection\": \"selector004\"}}]}], \"data\": {\"name\": \"data-a742b591b49454398c2c8626363814b6\"}, \"$schema\": \"https://vega.github.io/schema/vega-lite/v2.6.0.json\", \"datasets\": {\"data-a742b591b49454398c2c8626363814b6\": [{\"genere\": \"F\", \"et\\u00e0\": 45.0, \"allineamento politico\": \"destra\", \"reddito\": 20000.0}, {\"genere\": \"M\", \"et\\u00e0\": 34.0, \"allineamento politico\": \"centro\", \"reddito\": 25000.0}, {\"genere\": \"M\", \"et\\u00e0\": 23.0, \"allineamento politico\": \"sinistra\", \"reddito\": 18000.0}, {\"genere\": \"F\", \"et\\u00e0\": 18.0, \"allineamento politico\": \"sinistra\", \"reddito\": 17000.0}, {\"genere\": \"M\", \"et\\u00e0\": 77.0, \"allineamento politico\": \"destra\", \"reddito\": 54664.0}, {\"genere\": \"M\", \"et\\u00e0\": 45.0, \"allineamento politico\": \"sinistra\", \"reddito\": 35000.0}, {\"genere\": \"F\", \"et\\u00e0\": 33.0, \"allineamento politico\": \"destra\", \"reddito\": 15000.0}, {\"genere\": \"F\", \"et\\u00e0\": 35.0, \"allineamento politico\": \"destra\", \"reddito\": 12000.0}, {\"genere\": \"F\", \"et\\u00e0\": 36.0, \"allineamento politico\": \"centro\", \"reddito\": 8500.0}, {\"genere\": \"F\", \"et\\u00e0\": 56.0, \"allineamento politico\": \"centro\", \"reddito\": 15000.0}, {\"genere\": \"F\", \"et\\u00e0\": 58.0, \"allineamento politico\": \"sinistra\", \"reddito\": 13500.0}, {\"genere\": \"M\", \"et\\u00e0\": 40.0, \"allineamento politico\": \"sinistra\", \"reddito\": 16000.0}, {\"genere\": \"M\", \"et\\u00e0\": 87.0, \"allineamento politico\": \"centro\", \"reddito\": 145000.0}, {\"genere\": \"M\", \"et\\u00e0\": 44.0, \"allineamento politico\": \"sinistra\", \"reddito\": 23000.0}, {\"genere\": \"M\", \"et\\u00e0\": 34.0, \"allineamento politico\": \"destra\", \"reddito\": 9500.0}, {\"genere\": \"M\", \"et\\u00e0\": 66.0, \"allineamento politico\": \"centro\", \"reddito\": 24000.0}, {\"genere\": \"M\", \"et\\u00e0\": 32.0, \"allineamento politico\": \"destra\", \"reddito\": 60000.0}, {\"genere\": \"M\", \"et\\u00e0\": 21.0, \"allineamento politico\": \"destra\", \"reddito\": 45000.0}]}};\n",
              "    var embed_opt = {\"mode\": \"vega-lite\"};\n",
              "\n",
              "    function showError(el, error){\n",
              "        el.innerHTML = ('<div class=\"error\">'\n",
              "                        + '<p>JavaScript Error: ' + error.message + '</p>'\n",
              "                        + \"<p>This usually means there's a typo in your chart specification. \"\n",
              "                        + \"See the javascript console for the full traceback.</p>\"\n",
              "                        + '</div>');\n",
              "        throw error;\n",
              "    }\n",
              "    const el = document.getElementById('vis');\n",
              "    vegaEmbed(\"#vis\", spec, embed_opt)\n",
              "      .catch(error => showError(el, error));\n",
              "  </script>\n",
              "</body>\n",
              "</html>\n"
            ]
          },
          "metadata": {
            "tags": []
          },
          "execution_count": 36
        }
      ]
    },
    {
      "metadata": {
        "id": "iPJfA4_rM0_b",
        "colab_type": "code",
        "colab": {}
      },
      "cell_type": "code",
      "source": [
        "#scarico i dati di valutazione del questionario\n",
        "questionario = download_gspread(\"1PiMvG2mUAQuWAuZeedL0mTyY1xy9fsggHh64v5D99w0\", key = True)"
      ],
      "execution_count": 0,
      "outputs": []
    },
    {
      "metadata": {
        "id": "m7z2ewROShXD",
        "colab_type": "code",
        "outputId": "9a773d86-d200-45ee-9e82-a9fe270baab0",
        "colab": {
          "base_uri": "https://localhost:8080/",
          "height": 561
        }
      },
      "cell_type": "code",
      "source": [
        "questionario.head(2)"
      ],
      "execution_count": 38,
      "outputs": [
        {
          "output_type": "execute_result",
          "data": {
            "text/html": [
              "<div>\n",
              "<style scoped>\n",
              "    .dataframe tbody tr th:only-of-type {\n",
              "        vertical-align: middle;\n",
              "    }\n",
              "\n",
              "    .dataframe tbody tr th {\n",
              "        vertical-align: top;\n",
              "    }\n",
              "\n",
              "    .dataframe thead th {\n",
              "        text-align: right;\n",
              "    }\n",
              "</style>\n",
              "<table border=\"1\" class=\"dataframe\">\n",
              "  <thead>\n",
              "    <tr style=\"text-align: right;\">\n",
              "      <th></th>\n",
              "      <th>Informazioni cronologiche</th>\n",
              "      <th>1) Codice classe</th>\n",
              "      <th>Conosci queste tecnologie per l'analisi dei dati?  [2_1) Foglio di calcolo (es. excel)]</th>\n",
              "      <th>Conosci queste tecnologie per l'analisi dei dati?  [2_2) Foglio di calcolo - Utilizzo di Tabelle Pivot]</th>\n",
              "      <th>Conosci queste tecnologie per l'analisi dei dati?  [2_3) Foglio di calcolo - Utilizzo di Macro]</th>\n",
              "      <th>Conosci queste tecnologie per l'analisi dei dati?  [2_4) Linguaggio e DB SQL]</th>\n",
              "      <th>Conosci queste tecnologie per l'analisi dei dati?  [2_5) Linguaggio R - Statistica]</th>\n",
              "      <th>Conosci queste tecnologie per l'analisi dei dati?  [2_6) Linguaggio Python]</th>\n",
              "      <th>Conosci queste tecnologie per l'analisi dei dati?  [2_7) Software SAS]</th>\n",
              "      <th>Conosci queste tecnologie per l'analisi dei dati?  [2_8) Software STATA]</th>\n",
              "      <th>...</th>\n",
              "      <th>Prima di questa lezione avevi mai sentito parlare di? [4_4) GIS(Geographic information system)]</th>\n",
              "      <th>Prima di questa lezione avevi mai sentito parlare di? [4_5) Social Data]</th>\n",
              "      <th>Prima di questa lezione avevi mai sentito parlare di? [4_6) Machine Learning]</th>\n",
              "      <th>Prima di questa lezione avevi mai sentito parlare di? [4_7) Realtà virtuale]</th>\n",
              "      <th>Prima di questa lezione avevi mai sentito parlare di? [4_8) Realtà aumentata]</th>\n",
              "      <th>Prima di questa lezione avevi mai sentito parlare di? [4_9) Intelligenza Artificiale]</th>\n",
              "      <th>Prima di questa lezione avevi mai sentito parlare di? [4_10) Open Source]</th>\n",
              "      <th>Prima di questa lezione avevi mai sentito parlare di? [4_11) Open Science]</th>\n",
              "      <th>Prima di questa lezione avevi mai sentito parlare di? [4_12) Open Access]</th>\n",
              "      <th>Hai un account google?</th>\n",
              "    </tr>\n",
              "  </thead>\n",
              "  <tbody>\n",
              "    <tr>\n",
              "      <th>1</th>\n",
              "      <td>24/09/2018 171909</td>\n",
              "      <td>Magnier</td>\n",
              "      <td>3 -  Ho provato questa tecnologia. ma non sono...</td>\n",
              "      <td>1 - Non ne ho mai sentito parlare prima di que...</td>\n",
              "      <td>1 - Non ne ho mai sentito parlare prima di que...</td>\n",
              "      <td>1 - Non ne ho mai sentito parlare prima di que...</td>\n",
              "      <td>1 - Non ne ho mai sentito parlare prima di que...</td>\n",
              "      <td>1 - Non ne ho mai sentito parlare prima di que...</td>\n",
              "      <td>1 - Non ne ho mai sentito parlare prima di que...</td>\n",
              "      <td>1 - Non ne ho mai sentito parlare prima di que...</td>\n",
              "      <td>...</td>\n",
              "      <td>1 - No mai</td>\n",
              "      <td>1 - No mai</td>\n",
              "      <td>1 - No mai</td>\n",
              "      <td>3 - Si. ne ho sentito parlare nei giornali</td>\n",
              "      <td>1 - No mai</td>\n",
              "      <td>3 - Si. ne ho sentito parlare nei giornali</td>\n",
              "      <td>2 -Qualche volta. ma non ho capito bene di cos...</td>\n",
              "      <td>1 - No mai</td>\n",
              "      <td>2 -Qualche volta. ma non ho capito bene di cos...</td>\n",
              "      <td>Si</td>\n",
              "    </tr>\n",
              "    <tr>\n",
              "      <th>2</th>\n",
              "      <td>24/09/2018 171911</td>\n",
              "      <td>magnier</td>\n",
              "      <td>5 - Ho utilizzato con successo per lavoro o pe...</td>\n",
              "      <td>2  - Ne ho sentito parlare. ma non l'ho mai ut...</td>\n",
              "      <td>2  - Ne ho sentito parlare. ma non l'ho mai ut...</td>\n",
              "      <td>1 - Non ne ho mai sentito parlare prima di que...</td>\n",
              "      <td>1 - Non ne ho mai sentito parlare prima di que...</td>\n",
              "      <td>1 - Non ne ho mai sentito parlare prima di que...</td>\n",
              "      <td>1 - Non ne ho mai sentito parlare prima di que...</td>\n",
              "      <td>1 - Non ne ho mai sentito parlare prima di que...</td>\n",
              "      <td>...</td>\n",
              "      <td>1 - No mai</td>\n",
              "      <td>1 - No mai</td>\n",
              "      <td>1 - No mai</td>\n",
              "      <td>3 - Si. ne ho sentito parlare nei giornali</td>\n",
              "      <td>3 - Si. ne ho sentito parlare nei giornali</td>\n",
              "      <td>3 - Si. ne ho sentito parlare nei giornali</td>\n",
              "      <td>1 - No mai</td>\n",
              "      <td>1 - No mai</td>\n",
              "      <td>1 - No mai</td>\n",
              "      <td>Si</td>\n",
              "    </tr>\n",
              "  </tbody>\n",
              "</table>\n",
              "<p>2 rows × 31 columns</p>\n",
              "</div>"
            ],
            "text/plain": [
              "0 Informazioni cronologiche 1) Codice classe  \\\n",
              "1         24/09/2018 171909          Magnier   \n",
              "2         24/09/2018 171911          magnier   \n",
              "\n",
              "0 Conosci queste tecnologie per l'analisi dei dati?  [2_1) Foglio di calcolo (es. excel)]  \\\n",
              "1  3 -  Ho provato questa tecnologia. ma non sono...                                        \n",
              "2  5 - Ho utilizzato con successo per lavoro o pe...                                        \n",
              "\n",
              "0 Conosci queste tecnologie per l'analisi dei dati?  [2_2) Foglio di calcolo - Utilizzo di Tabelle Pivot]  \\\n",
              "1  1 - Non ne ho mai sentito parlare prima di que...                                                        \n",
              "2  2  - Ne ho sentito parlare. ma non l'ho mai ut...                                                        \n",
              "\n",
              "0 Conosci queste tecnologie per l'analisi dei dati?  [2_3) Foglio di calcolo - Utilizzo di Macro]  \\\n",
              "1  1 - Non ne ho mai sentito parlare prima di que...                                                \n",
              "2  2  - Ne ho sentito parlare. ma non l'ho mai ut...                                                \n",
              "\n",
              "0 Conosci queste tecnologie per l'analisi dei dati?  [2_4) Linguaggio e DB SQL]  \\\n",
              "1  1 - Non ne ho mai sentito parlare prima di que...                              \n",
              "2  1 - Non ne ho mai sentito parlare prima di que...                              \n",
              "\n",
              "0 Conosci queste tecnologie per l'analisi dei dati?  [2_5) Linguaggio R - Statistica]  \\\n",
              "1  1 - Non ne ho mai sentito parlare prima di que...                                    \n",
              "2  1 - Non ne ho mai sentito parlare prima di que...                                    \n",
              "\n",
              "0 Conosci queste tecnologie per l'analisi dei dati?  [2_6) Linguaggio Python]  \\\n",
              "1  1 - Non ne ho mai sentito parlare prima di que...                            \n",
              "2  1 - Non ne ho mai sentito parlare prima di que...                            \n",
              "\n",
              "0 Conosci queste tecnologie per l'analisi dei dati?  [2_7) Software SAS]  \\\n",
              "1  1 - Non ne ho mai sentito parlare prima di que...                       \n",
              "2  1 - Non ne ho mai sentito parlare prima di que...                       \n",
              "\n",
              "0 Conosci queste tecnologie per l'analisi dei dati?  [2_8) Software STATA]  \\\n",
              "1  1 - Non ne ho mai sentito parlare prima di que...                         \n",
              "2  1 - Non ne ho mai sentito parlare prima di que...                         \n",
              "\n",
              "0          ...            \\\n",
              "1          ...             \n",
              "2          ...             \n",
              "\n",
              "0 Prima di questa lezione avevi mai sentito parlare di? [4_4) GIS(Geographic information system)]  \\\n",
              "1                                         1 - No mai                                                \n",
              "2                                         1 - No mai                                                \n",
              "\n",
              "0 Prima di questa lezione avevi mai sentito parlare di? [4_5) Social Data]  \\\n",
              "1                                         1 - No mai                         \n",
              "2                                         1 - No mai                         \n",
              "\n",
              "0 Prima di questa lezione avevi mai sentito parlare di? [4_6) Machine Learning]  \\\n",
              "1                                         1 - No mai                              \n",
              "2                                         1 - No mai                              \n",
              "\n",
              "0 Prima di questa lezione avevi mai sentito parlare di? [4_7) Realtà virtuale]  \\\n",
              "1         3 - Si. ne ho sentito parlare nei giornali                             \n",
              "2         3 - Si. ne ho sentito parlare nei giornali                             \n",
              "\n",
              "0 Prima di questa lezione avevi mai sentito parlare di? [4_8) Realtà aumentata]  \\\n",
              "1                                         1 - No mai                              \n",
              "2         3 - Si. ne ho sentito parlare nei giornali                              \n",
              "\n",
              "0 Prima di questa lezione avevi mai sentito parlare di? [4_9) Intelligenza Artificiale]  \\\n",
              "1         3 - Si. ne ho sentito parlare nei giornali                                      \n",
              "2         3 - Si. ne ho sentito parlare nei giornali                                      \n",
              "\n",
              "0 Prima di questa lezione avevi mai sentito parlare di? [4_10) Open Source]  \\\n",
              "1  2 -Qualche volta. ma non ho capito bene di cos...                          \n",
              "2                                         1 - No mai                          \n",
              "\n",
              "0 Prima di questa lezione avevi mai sentito parlare di? [4_11) Open Science]  \\\n",
              "1                                         1 - No mai                           \n",
              "2                                         1 - No mai                           \n",
              "\n",
              "0 Prima di questa lezione avevi mai sentito parlare di? [4_12) Open Access]  \\\n",
              "1  2 -Qualche volta. ma non ho capito bene di cos...                          \n",
              "2                                         1 - No mai                          \n",
              "\n",
              "0 Hai un account google?  \n",
              "1                     Si  \n",
              "2                     Si  \n",
              "\n",
              "[2 rows x 31 columns]"
            ]
          },
          "metadata": {
            "tags": []
          },
          "execution_count": 38
        }
      ]
    },
    {
      "metadata": {
        "id": "kZLwZCOHVaZx",
        "colab_type": "code",
        "colab": {}
      },
      "cell_type": "code",
      "source": [
        ""
      ],
      "execution_count": 0,
      "outputs": []
    }
  ]
}