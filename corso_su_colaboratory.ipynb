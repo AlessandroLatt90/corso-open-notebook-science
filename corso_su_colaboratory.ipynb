{
  "nbformat": 4,
  "nbformat_minor": 0,
  "metadata": {
    "colab": {
      "name": "corso su colaboratory.ipynb",
      "version": "0.3.2",
      "provenance": [],
      "toc_visible": true,
      "include_colab_link": true
    },
    "kernelspec": {
      "name": "python3",
      "display_name": "Python 3"
    }
  },
  "cells": [
    {
      "cell_type": "markdown",
      "metadata": {
        "id": "view-in-github",
        "colab_type": "text"
      },
      "source": [
        "[View in Colaboratory](https://colab.research.google.com/github/datalifelab/corso-open-notebook-science/blob/master/corso_su_colaboratory.ipynb)"
      ]
    },
    {
      "metadata": {
        "id": "J8I9-KW1B4Sk",
        "colab_type": "code",
        "colab": {}
      },
      "cell_type": "code",
      "source": [
        "#effettuo l'importazione della libreria per il controllo del sistema operativo\n",
        "import os\n",
        "#effettuo l'importazione della libreria statistica Pandas\n",
        "import pandas as pd"
      ],
      "execution_count": 0,
      "outputs": []
    },
    {
      "metadata": {
        "id": "da65qfUKCAy0",
        "colab_type": "code",
        "colab": {
          "base_uri": "https://localhost:8080/",
          "height": 139
        },
        "outputId": "ba1d6b6c-9d4f-480f-8450-fe43815c6636"
      },
      "cell_type": "code",
      "source": [
        "#scarico dentro colaboratory il materiale del corso\n",
        "!git clone https://github.com/datalifelab/corso-open-notebook-science"
      ],
      "execution_count": 2,
      "outputs": [
        {
          "output_type": "stream",
          "text": [
            "Cloning into 'corso-open-notebook-science'...\n",
            "remote: Enumerating objects: 32, done.\u001b[K\n",
            "remote: Counting objects: 100% (32/32), done.\u001b[K\n",
            "remote: Compressing objects: 100% (32/32), done.\u001b[K\n",
            "remote: Total 161 (delta 13), reused 0 (delta 0), pack-reused 129\u001b[K\n",
            "Receiving objects: 100% (161/161), 360.52 KiB | 7.67 MiB/s, done.\n",
            "Resolving deltas: 100% (79/79), done.\n"
          ],
          "name": "stdout"
        }
      ]
    },
    {
      "metadata": {
        "id": "2qMLlmidCLuz",
        "colab_type": "code",
        "colab": {
          "base_uri": "https://localhost:8080/",
          "height": 34
        },
        "outputId": "ea99b552-76f8-4d5a-ccc1-c1dcce3c0c91"
      },
      "cell_type": "code",
      "source": [
        "#esamino le cartelle presenti nello spazio di lavoro e le mostro a schermo\n",
        "print(os.listdir(os.getcwd()))\n",
        "#con il comando comando os.chdir({{cartella selezionata}}) entra nella cartella scelta \n",
        "os.chdir('corso-open-notebook-science')"
      ],
      "execution_count": 5,
      "outputs": [
        {
          "output_type": "stream",
          "text": [
            "['sample_data', '.config', 'corso-open-notebook-science']\n"
          ],
          "name": "stdout"
        }
      ]
    },
    {
      "metadata": {
        "id": "Ex33RwSxCm6A",
        "colab_type": "code",
        "colab": {}
      },
      "cell_type": "code",
      "source": [
        ""
      ],
      "execution_count": 0,
      "outputs": []
    },
    {
      "metadata": {
        "id": "60wQ3JV_C_g0",
        "colab_type": "code",
        "colab": {}
      },
      "cell_type": "code",
      "source": [
        ""
      ],
      "execution_count": 0,
      "outputs": []
    }
  ]
}