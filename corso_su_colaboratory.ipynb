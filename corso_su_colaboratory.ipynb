{
  "nbformat": 4,
  "nbformat_minor": 0,
  "metadata": {
    "colab": {
      "name": "corso_su_colaboratory.ipynb",
      "version": "0.3.2",
      "provenance": [],
      "toc_visible": true,
      "include_colab_link": true
    },
    "kernelspec": {
      "name": "python3",
      "display_name": "Python 3"
    }
  },
  "cells": [
    {
      "cell_type": "markdown",
      "metadata": {
        "id": "view-in-github",
        "colab_type": "text"
      },
      "source": [
        "<a href=\"https://colab.research.google.com/github/datalifelab/corso-open-notebook-science/blob/master/corso_su_colaboratory.ipynb\" target=\"_parent\"><img src=\"https://colab.research.google.com/assets/colab-badge.svg\" alt=\"Open In Colab\"/></a>"
      ]
    },
    {
      "metadata": {
        "id": "zRnVvkVawf2k",
        "colab_type": "text"
      },
      "cell_type": "markdown",
      "source": [
        "\n",
        "#  Corso su Colaboratory\n",
        "## Questo notebook contiene la configurazione di base per poter lavorare con le librerie semplificate datalifelab\n",
        "Configurazione del file di colaboratory - non modificare.\n",
        "\n",
        "Nella seguente cella vengono scaricate ed installate le librerie necessarie per lavorare\n"
      ]
    },
    {
      "metadata": {
        "id": "7v8D7cPnwWkb",
        "colab_type": "code",
        "colab": {
          "base_uri": "https://localhost:8080/",
          "height": 1046
        },
        "outputId": "6484c502-f517-411b-92ff-b50af1db957b"
      },
      "cell_type": "code",
      "source": [
        "#effettuo l'importazione della libreria per il controllo del sistema operativo\n",
        "import os\n",
        "#effettuo l'importazione della libreria statistica Pandas\n",
        "import pandas as pd\n",
        "#effettuo l'importazione della libreria per la realizzazione di grafici base\n",
        "import matplotlib.pyplot as plt\n",
        "\n",
        "#effettuo l'importazione della libreria per il controllo del sistema operativo\n",
        "import os\n",
        "#effettuo l'importazione della libreria statistica Pandas\n",
        "import pandas as pd\n",
        "import matplotlib.pyplot as plt\n",
        "\n",
        "\n",
        "# scarico dal web ed installo la libreria marradi\n",
        "!rm marradi.py tools.py\n",
        "!wget https://raw.githubusercontent.com/datalifelab/corso-open-notebook-science/master/marradi.py marradi.py\n",
        "!wget https://raw.githubusercontent.com/datalifelab/corso-open-notebook-science/master/tools.py tools.py\n",
        "from marradi import dist_frequenza, plot_dist_frequenza, estrai_valore, tabella_di_contingenza\n",
        "from tools import download_gspread\n",
        "\n",
        "# scarico ed installo la versione aggiornata di seaborn.\n",
        "!pip install git+https://github.com/mwaskom/seaborn.git\n",
        "import seaborn as sns\n",
        "\n",
        "#installiamo la libreria per interagire con i fogli di google\n",
        "!pip install --upgrade -q gspread\n",
        "\n"
      ],
      "execution_count": 1,
      "outputs": [
        {
          "output_type": "stream",
          "text": [
            "rm: cannot remove 'marradi.py': No such file or directory\n",
            "rm: cannot remove 'tools.py': No such file or directory\n",
            "--2018-11-16 09:32:44--  https://raw.githubusercontent.com/datalifelab/corso-open-notebook-science/master/marradi.py\n",
            "Resolving raw.githubusercontent.com (raw.githubusercontent.com)... 151.101.0.133, 151.101.64.133, 151.101.128.133, ...\n",
            "Connecting to raw.githubusercontent.com (raw.githubusercontent.com)|151.101.0.133|:443... connected.\n",
            "HTTP request sent, awaiting response... 200 OK\n",
            "Length: 6481 (6.3K) [text/plain]\n",
            "Saving to: ‘marradi.py’\n",
            "\n",
            "marradi.py          100%[===================>]   6.33K  --.-KB/s    in 0s      \n",
            "\n",
            "2018-11-16 09:32:49 (90.0 MB/s) - ‘marradi.py’ saved [6481/6481]\n",
            "\n",
            "--2018-11-16 09:32:49--  http://marradi.py/\n",
            "Resolving marradi.py (marradi.py)... failed: Name or service not known.\n",
            "wget: unable to resolve host address ‘marradi.py’\n",
            "FINISHED --2018-11-16 09:32:49--\n",
            "Total wall clock time: 5.1s\n",
            "Downloaded: 1 files, 6.3K in 0s (90.0 MB/s)\n",
            "--2018-11-16 09:32:50--  https://raw.githubusercontent.com/datalifelab/corso-open-notebook-science/master/tools.py\n",
            "Resolving raw.githubusercontent.com (raw.githubusercontent.com)... 151.101.0.133, 151.101.64.133, 151.101.128.133, ...\n",
            "Connecting to raw.githubusercontent.com (raw.githubusercontent.com)|151.101.0.133|:443... connected.\n",
            "HTTP request sent, awaiting response... 200 OK\n",
            "Length: 1754 (1.7K) [text/plain]\n",
            "Saving to: ‘tools.py’\n",
            "\n",
            "tools.py            100%[===================>]   1.71K  --.-KB/s    in 0s      \n",
            "\n",
            "2018-11-16 09:32:50 (195 MB/s) - ‘tools.py’ saved [1754/1754]\n",
            "\n",
            "--2018-11-16 09:32:50--  http://tools.py/\n",
            "Resolving tools.py (tools.py)... failed: Name or service not known.\n",
            "wget: unable to resolve host address ‘tools.py’\n",
            "FINISHED --2018-11-16 09:32:51--\n",
            "Total wall clock time: 0.2s\n",
            "Downloaded: 1 files, 1.7K in 0s (195 MB/s)\n",
            "Collecting git+https://github.com/mwaskom/seaborn.git\n",
            "  Cloning https://github.com/mwaskom/seaborn.git to /tmp/pip-req-build-pdc725ph\n",
            "Requirement already satisfied: numpy>=1.9.3 in /usr/local/lib/python3.6/dist-packages (from seaborn==0.9.0) (1.14.6)\n",
            "Requirement already satisfied: scipy>=0.14.0 in /usr/local/lib/python3.6/dist-packages (from seaborn==0.9.0) (1.1.0)\n",
            "Requirement already satisfied: pandas>=0.15.2 in /usr/local/lib/python3.6/dist-packages (from seaborn==0.9.0) (0.22.0)\n",
            "Requirement already satisfied: matplotlib>=1.4.3 in /usr/local/lib/python3.6/dist-packages (from seaborn==0.9.0) (2.1.2)\n",
            "Requirement already satisfied: python-dateutil>=2 in /usr/local/lib/python3.6/dist-packages (from pandas>=0.15.2->seaborn==0.9.0) (2.5.3)\n",
            "Requirement already satisfied: pytz>=2011k in /usr/local/lib/python3.6/dist-packages (from pandas>=0.15.2->seaborn==0.9.0) (2018.7)\n",
            "Requirement already satisfied: pyparsing!=2.0.4,!=2.1.2,!=2.1.6,>=2.0.1 in /usr/local/lib/python3.6/dist-packages (from matplotlib>=1.4.3->seaborn==0.9.0) (2.3.0)\n",
            "Requirement already satisfied: six>=1.10 in /usr/local/lib/python3.6/dist-packages (from matplotlib>=1.4.3->seaborn==0.9.0) (1.11.0)\n",
            "Requirement already satisfied: cycler>=0.10 in /usr/local/lib/python3.6/dist-packages (from matplotlib>=1.4.3->seaborn==0.9.0) (0.10.0)\n",
            "Building wheels for collected packages: seaborn\n",
            "  Running setup.py bdist_wheel for seaborn ... \u001b[?25l-\b \b\\\b \bdone\n",
            "\u001b[?25h  Stored in directory: /tmp/pip-ephem-wheel-cache-9ah8xu6v/wheels/4e/57/af/138c7bf2390a67f7010588cf080fb8b4e741bb290c2ad12018\n",
            "Successfully built seaborn\n",
            "Installing collected packages: seaborn\n",
            "  Found existing installation: seaborn 0.7.1\n",
            "    Uninstalling seaborn-0.7.1:\n",
            "      Successfully uninstalled seaborn-0.7.1\n",
            "Successfully installed seaborn-0.9.0\n"
          ],
          "name": "stdout"
        }
      ]
    },
    {
      "metadata": {
        "id": "V2hPeejQw0XN",
        "colab_type": "code",
        "colab": {}
      },
      "cell_type": "code",
      "source": [
        ""
      ],
      "execution_count": 0,
      "outputs": []
    },
    {
      "metadata": {
        "id": "f3SmyTsEw3lB",
        "colab_type": "code",
        "colab": {
          "base_uri": "https://localhost:8080/",
          "height": 129
        },
        "outputId": "e0cc07e5-5ea2-47f6-90ab-4771586bed63"
      },
      "cell_type": "code",
      "source": [
        "from google.colab import drive\n",
        "drive.mount('/gdrive')"
      ],
      "execution_count": 2,
      "outputs": [
        {
          "output_type": "stream",
          "text": [
            "Go to this URL in a browser: https://accounts.google.com/o/oauth2/auth?client_id=947318989803-6bn6qk8qdgf4n4g3pfee6491hc0brc4i.apps.googleusercontent.com&redirect_uri=urn%3Aietf%3Awg%3Aoauth%3A2.0%3Aoob&scope=email%20https%3A%2F%2Fwww.googleapis.com%2Fauth%2Fdocs.test%20https%3A%2F%2Fwww.googleapis.com%2Fauth%2Fdrive%20https%3A%2F%2Fwww.googleapis.com%2Fauth%2Fdrive.photos.readonly%20https%3A%2F%2Fwww.googleapis.com%2Fauth%2Fpeopleapi.readonly&response_type=code\n",
            "\n",
            "Enter your authorization code:\n",
            "··········\n",
            "Mounted at /gdrive\n"
          ],
          "name": "stdout"
        }
      ]
    },
    {
      "metadata": {
        "id": "_EExj0Afw3l2",
        "colab_type": "code",
        "colab": {
          "base_uri": "https://localhost:8080/",
          "height": 35
        },
        "outputId": "5b55262d-ce9b-4667-8acc-c986cd89a128"
      },
      "cell_type": "code",
      "source": [
        "# per cambiare cartella ed entrare nel proprio gdrive\n",
        "cd \"/gdrive\""
      ],
      "execution_count": 3,
      "outputs": [
        {
          "output_type": "stream",
          "text": [
            "/gdrive\n"
          ],
          "name": "stdout"
        }
      ]
    },
    {
      "metadata": {
        "id": "UO1yOA3UxCup",
        "colab_type": "code",
        "colab": {
          "base_uri": "https://localhost:8080/",
          "height": 72
        },
        "outputId": "acbb90b4-6802-4349-a75a-b53397334213"
      },
      "cell_type": "code",
      "source": [
        "#per vedere i file nel proprio gdrive\n",
        "ls -l"
      ],
      "execution_count": 4,
      "outputs": [
        {
          "output_type": "stream",
          "text": [
            "total 8\n",
            "drwx------ 6 root root 4096 Nov 16 09:33 \u001b[0m\u001b[01;34m'My Drive'\u001b[0m/\n",
            "dr-x------ 2 root root 4096 Nov 16 09:33 \u001b[01;34m'Team Drives'\u001b[0m/\n"
          ],
          "name": "stdout"
        }
      ]
    },
    {
      "metadata": {
        "id": "5qgUK_JS3IDo",
        "colab_type": "code",
        "colab": {
          "base_uri": "https://localhost:8080/",
          "height": 35
        },
        "outputId": "89fb2385-8221-4224-fa00-190e45a0f5f6"
      },
      "cell_type": "code",
      "source": [
        "#entro nella cartella My Drives\n",
        "cd \"/gdrive/My Drive\""
      ],
      "execution_count": 5,
      "outputs": [
        {
          "output_type": "stream",
          "text": [
            "/gdrive/My Drive\n"
          ],
          "name": "stdout"
        }
      ]
    },
    {
      "metadata": {
        "id": "lGW4_Epl10Zp",
        "colab_type": "code",
        "colab": {
          "base_uri": "https://localhost:8080/",
          "height": 366
        },
        "outputId": "7a015a16-4ba5-4f2c-81e8-53cc6881a00e"
      },
      "cell_type": "code",
      "source": [
        "#per vedere i file nel proprio gdrive\n",
        "ls -l"
      ],
      "execution_count": 6,
      "outputs": [
        {
          "output_type": "stream",
          "text": [
            "total 23\n",
            "drwx------ 2 root root 4096 Sep 22 07:00 \u001b[0m\u001b[01;34m'Colab Notebooks'\u001b[0m/\n",
            "-rw------- 1 root root    1 Nov 15 18:13 'Copia di Libro Chiara.gsheet'\n",
            "-rw------- 1 root root    1 Sep 24 16:13 'Documento senza titolo.gdoc'\n",
            "-rw------- 1 root root    1 Oct  8 14:35  esercitazione.gsheet\n",
            "drwx------ 2 root root 4096 Oct 15 16:43 \u001b[01;34m'Gruppo alcool'\u001b[0m/\n",
            "drwx------ 2 root root 4096 Oct 15 14:31 \u001b[01;34m'Gruppo DEVIANTE'\u001b[0m/\n",
            "drwx------ 2 root root 4096 Oct 15 14:30 \u001b[01;34m'Gruppo Magnete'\u001b[0m/\n",
            "-rw------- 1 root root    1 Sep 30 15:25  LABORATORIO.gdoc\n",
            "-rw------- 1 root root    1 Nov  9 16:50 'Libro Codice 2.gsheet'\n",
            "-rw------- 1 root root    1 Nov  9 16:49 'Libro Codice - COMPELTO.gsheet'\n",
            "-rw------- 1 root root    1 Nov 15 17:42 'libro codice federico.gsheet'\n",
            "-rw------- 1 root root    1 Nov  9 21:00 'Libro codice Greta.gsheet'\n",
            "-rw------- 1 root root    1 Nov  9 16:44 'Libro codice Margherita.gsheet'\n",
            "-rw------- 1 root root    1 Nov 14 15:27 'Libro Codice Niccolò.gsheet'\n",
            "-rw------- 1 root root    1 Nov 15 11:25 'Libro Codice Paola.gsheet'\n",
            "-rw------- 1 root root    1 Nov  9 13:55 'Modulo senza titolo (1).gform'\n",
            "-rw------- 1 root root    1 Sep 24 16:16 'Modulo senza titolo.gform'\n",
            "-rw------- 1 root root    1 Sep 24 16:16 'Modulo senza titolo (Risposte).gsheet'\n"
          ],
          "name": "stdout"
        }
      ]
    },
    {
      "metadata": {
        "id": "LgEvFy4u31PK",
        "colab_type": "code",
        "colab": {}
      },
      "cell_type": "code",
      "source": [
        "#Effettuo le librerie che mi autorizzano ad accedere ai file di google drive\n",
        "from google.colab import auth\n",
        "auth.authenticate_user()\n",
        "\n",
        "import gspread\n",
        "from oauth2client.client import GoogleCredentials\n",
        "\n",
        "#richiedo le credenziali: apre delle istruzioni e link da seguire per completare\n",
        "#la procedura\n",
        "gc = gspread.authorize(GoogleCredentials.get_application_default())"
      ],
      "execution_count": 0,
      "outputs": []
    },
    {
      "metadata": {
        "id": "HV3Ygdw6397i",
        "colab_type": "code",
        "colab": {
          "base_uri": "https://localhost:8080/",
          "height": 314
        },
        "outputId": "51ce0716-5847-4628-8a52-e1da8a9438fd"
      },
      "cell_type": "code",
      "source": [
        "#scarico i dati di valutazione del questionario\n",
        "questionario = download_gspread(\"Libro Codice Paola\", sheet_name='Paola', gc = gc)\n",
        "\n",
        "questionario.head(3)"
      ],
      "execution_count": 14,
      "outputs": [
        {
          "output_type": "execute_result",
          "data": {
            "text/html": [
              "<div>\n",
              "<style scoped>\n",
              "    .dataframe tbody tr th:only-of-type {\n",
              "        vertical-align: middle;\n",
              "    }\n",
              "\n",
              "    .dataframe tbody tr th {\n",
              "        vertical-align: top;\n",
              "    }\n",
              "\n",
              "    .dataframe thead th {\n",
              "        text-align: right;\n",
              "    }\n",
              "</style>\n",
              "<table border=\"1\" class=\"dataframe\">\n",
              "  <thead>\n",
              "    <tr style=\"text-align: right;\">\n",
              "      <th></th>\n",
              "      <th>ID</th>\n",
              "      <th>1_genere</th>\n",
              "      <th>2_AAnascita</th>\n",
              "      <th>3_statoCivile</th>\n",
              "      <th>4_AAimmatricolazione</th>\n",
              "      <th>5_curriculum</th>\n",
              "      <th>6_DefinizioneProfugo</th>\n",
              "      <th>7_FonteInformazioni</th>\n",
              "      <th>8_Numerodiarrivi2018</th>\n",
              "      <th>9_Riace__1_denaro</th>\n",
              "      <th>...</th>\n",
              "      <th>35_ frequenzaCanaliinformazioni__3_TGRai</th>\n",
              "      <th>35_ frequenzaCanaliinformazioni__4_TGPrivate</th>\n",
              "      <th>35_ frequenzaCanaliinformazioni__5_SettimanaliMensili</th>\n",
              "      <th>35_ frequenzaCanaliinformazioni__6_Newsletter</th>\n",
              "      <th>35_ frequenzaCanaliinformazioni__7_Blog</th>\n",
              "      <th>35_ frequenzaCanaliinformazioni__8_SitiIstituzionali</th>\n",
              "      <th>35_ frequenzaCanaliinformazioni__9_MediaIndipendenti</th>\n",
              "      <th>35_ frequenzaCanaliinformazioni__10_NewsRadio</th>\n",
              "      <th>35_ frequenzaCanaliinformazioni__11_Social</th>\n",
              "      <th>NOTE OPERATORE</th>\n",
              "    </tr>\n",
              "  </thead>\n",
              "  <tbody>\n",
              "    <tr>\n",
              "      <th>1</th>\n",
              "      <td>7/11/18_SC POL. MORISI 45</td>\n",
              "      <td>1.0</td>\n",
              "      <td>1999.0</td>\n",
              "      <td>1.0</td>\n",
              "      <td>2018.0</td>\n",
              "      <td>2.0</td>\n",
              "      <td>1.0</td>\n",
              "      <td>4</td>\n",
              "      <td>2.0</td>\n",
              "      <td>0.0</td>\n",
              "      <td>...</td>\n",
              "      <td>0.0</td>\n",
              "      <td>0.0</td>\n",
              "      <td>1.0</td>\n",
              "      <td>0.0</td>\n",
              "      <td>3.0</td>\n",
              "      <td>3.0</td>\n",
              "      <td>3.0</td>\n",
              "      <td>3.0</td>\n",
              "      <td>3.0</td>\n",
              "      <td></td>\n",
              "    </tr>\n",
              "    <tr>\n",
              "      <th>2</th>\n",
              "      <td>7/11/18_ SC POL.MORISI 38</td>\n",
              "      <td>2.0</td>\n",
              "      <td>1998.0</td>\n",
              "      <td>1.0</td>\n",
              "      <td>2018.0</td>\n",
              "      <td>2.0</td>\n",
              "      <td>1.0</td>\n",
              "      <td>1</td>\n",
              "      <td>3.0</td>\n",
              "      <td>1.0</td>\n",
              "      <td>...</td>\n",
              "      <td>0.0</td>\n",
              "      <td>3.0</td>\n",
              "      <td>0.0</td>\n",
              "      <td>0.0</td>\n",
              "      <td>0.0</td>\n",
              "      <td>0.0</td>\n",
              "      <td>2.0</td>\n",
              "      <td>3.0</td>\n",
              "      <td>4.0</td>\n",
              "      <td></td>\n",
              "    </tr>\n",
              "    <tr>\n",
              "      <th>3</th>\n",
              "      <td>7/11/18_ SC POL. MORISI 39</td>\n",
              "      <td>2.0</td>\n",
              "      <td>1999.0</td>\n",
              "      <td>1.0</td>\n",
              "      <td>2018.0</td>\n",
              "      <td>2.0</td>\n",
              "      <td>1.0</td>\n",
              "      <td>1</td>\n",
              "      <td>3.0</td>\n",
              "      <td>0.0</td>\n",
              "      <td>...</td>\n",
              "      <td>1.0</td>\n",
              "      <td>1.0</td>\n",
              "      <td>0.0</td>\n",
              "      <td>0.0</td>\n",
              "      <td>0.0</td>\n",
              "      <td>0.0</td>\n",
              "      <td>4.0</td>\n",
              "      <td>0.0</td>\n",
              "      <td>4.0</td>\n",
              "      <td></td>\n",
              "    </tr>\n",
              "  </tbody>\n",
              "</table>\n",
              "<p>3 rows × 73 columns</p>\n",
              "</div>"
            ],
            "text/plain": [
              "0                          ID  1_genere  2_AAnascita  3_statoCivile  \\\n",
              "1   7/11/18_SC POL. MORISI 45       1.0       1999.0            1.0   \n",
              "2   7/11/18_ SC POL.MORISI 38       2.0       1998.0            1.0   \n",
              "3  7/11/18_ SC POL. MORISI 39       2.0       1999.0            1.0   \n",
              "\n",
              "0  4_AAimmatricolazione  5_curriculum  6_DefinizioneProfugo  \\\n",
              "1                2018.0           2.0                   1.0   \n",
              "2                2018.0           2.0                   1.0   \n",
              "3                2018.0           2.0                   1.0   \n",
              "\n",
              "0 7_FonteInformazioni  8_Numerodiarrivi2018  9_Riace__1_denaro  \\\n",
              "1                   4                   2.0                0.0   \n",
              "2                   1                   3.0                1.0   \n",
              "3                   1                   3.0                0.0   \n",
              "\n",
              "0       ...         35_ frequenzaCanaliinformazioni__3_TGRai  \\\n",
              "1       ...                                              0.0   \n",
              "2       ...                                              0.0   \n",
              "3       ...                                              1.0   \n",
              "\n",
              "0  35_ frequenzaCanaliinformazioni__4_TGPrivate  \\\n",
              "1                                           0.0   \n",
              "2                                           3.0   \n",
              "3                                           1.0   \n",
              "\n",
              "0  35_ frequenzaCanaliinformazioni__5_SettimanaliMensili  \\\n",
              "1                                                1.0       \n",
              "2                                                0.0       \n",
              "3                                                0.0       \n",
              "\n",
              "0  35_ frequenzaCanaliinformazioni__6_Newsletter  \\\n",
              "1                                            0.0   \n",
              "2                                            0.0   \n",
              "3                                            0.0   \n",
              "\n",
              "0  35_ frequenzaCanaliinformazioni__7_Blog  \\\n",
              "1                                      3.0   \n",
              "2                                      0.0   \n",
              "3                                      0.0   \n",
              "\n",
              "0 35_ frequenzaCanaliinformazioni__8_SitiIstituzionali  \\\n",
              "1                                                3.0     \n",
              "2                                                0.0     \n",
              "3                                                0.0     \n",
              "\n",
              "0  35_ frequenzaCanaliinformazioni__9_MediaIndipendenti  \\\n",
              "1                                                3.0      \n",
              "2                                                2.0      \n",
              "3                                                4.0      \n",
              "\n",
              "0  35_ frequenzaCanaliinformazioni__10_NewsRadio  \\\n",
              "1                                            3.0   \n",
              "2                                            3.0   \n",
              "3                                            0.0   \n",
              "\n",
              "0  35_ frequenzaCanaliinformazioni__11_Social  NOTE OPERATORE   \n",
              "1                                         3.0                   \n",
              "2                                         4.0                   \n",
              "3                                         4.0                   \n",
              "\n",
              "[3 rows x 73 columns]"
            ]
          },
          "metadata": {
            "tags": []
          },
          "execution_count": 14
        }
      ]
    },
    {
      "metadata": {
        "id": "m8VamARi7HCo",
        "colab_type": "code",
        "colab": {
          "base_uri": "https://localhost:8080/",
          "height": 219
        },
        "outputId": "814edbb3-24cd-4d32-ea99-c6ac26ee882f"
      },
      "cell_type": "code",
      "source": [
        "help(download_gspread)"
      ],
      "execution_count": 10,
      "outputs": [
        {
          "output_type": "stream",
          "text": [
            "Help on function download_gspread in module tools:\n",
            "\n",
            "download_gspread(file_name, sheet_name='Foglio1', key=False, format='wide', virgola_italiano=False, gc=None)\n",
            "    questa funzione, dato il nome del file di google spreadsheet\n",
            "    e dello specifico foglio di calcolo (opzionale) di google\n",
            "    restituisce un dataframe di pandas\n",
            "    file_name: str \n",
            "    sheet_name: str\n",
            "    key: boolean\n",
            "    format: [\"wide\", \"long\", None]\n",
            "\n"
          ],
          "name": "stdout"
        }
      ]
    }
  ]
}