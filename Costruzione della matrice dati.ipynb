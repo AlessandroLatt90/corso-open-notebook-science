{
 "cells": [
  {
   "cell_type": "code",
   "execution_count": 14,
   "metadata": {},
   "outputs": [],
   "source": [
    "import pandas as pd\n",
    "%matplotlib inline\n",
    "\n",
    "import matplotlib.pyplot as plt\n",
    "#!wget https://raw.githubusercontent.com/datalifelab/corso-open-notebook-science/master/marradi.py\n",
    "\n",
    "from marradi import dist_frequenza, recode_da_dizionario, plot_dist_frequenza"
   ]
  },
  {
   "cell_type": "markdown",
   "metadata": {},
   "source": [
    "# Nome ed etichette della variabile \n",
    "\n",
    "* dare autonomia semantica all'etichetta della variabile utilizzando meno di 25-30 caratteri. Un'etichetta troppo lunga può essere scomoda. Un etichetta troppo corta può avere scarsa autonomia semantica\n",
    "* segnare con una sigla le variabili che condividono alcuni aspetti della definizione operativa. Ad esempio le variabili registrate con una stessa tecnica - ad esempio nome_variabile_lik per le domande di tipo likert.\n",
    "\n",
    "## Codebook in un dizionario Python\n",
    "\n",
    "I dizionari (dict) sono un tipo di oggetto python, mutabile che contiene elementi (items) formati da una chiave (key) e un valore (value). Una volta che il dizionario è creato e valorizzato con un insieme di coppie <chiave, valore>, si può usare la chiave (che deve essere univoca) per ottenere il valore corrispondente.\n",
    "\n",
    "per le operazioni su dizionario fare riferimento al [bignami](https://github.com/datalifelab/corso-open-notebook-science/blob/master/Python%20e%20Pandas%20-%20Operazioni%20base.ipynb#Dizionario)\n",
    "\n",
    "Nel dizionario inseriremo:\n",
    "* nome delle variabili\n",
    "* tipo di variabile [\"cardinale, \"ordinale\", categoriale\"]\n",
    "* unità di misura\n",
    "* note\n",
    "\n",
    "sarà possibile inserire altre proprietà a discrezione in base alle necessità\n",
    "\n",
    "\n"
   ]
  },
  {
   "cell_type": "code",
   "execution_count": 2,
   "metadata": {},
   "outputs": [],
   "source": [
    "\n",
    "# CREAZIONE DEL LIBRO CODICE"
   ]
  },
  {
   "cell_type": "code",
   "execution_count": 3,
   "metadata": {},
   "outputs": [
    {
     "data": {
      "text/plain": [
       "23"
      ]
     },
     "execution_count": 3,
     "metadata": {},
     "output_type": "execute_result"
    }
   ],
   "source": [
    "len(\"allineamento politico 5\")"
   ]
  },
  {
   "cell_type": "code",
   "execution_count": 4,
   "metadata": {},
   "outputs": [],
   "source": [
    "prop = {\"età\": {\"tipo\": \"cardinale\", \"note\": \"\", \"unità di misura\": \"anni\"},\n",
    " \"altezza\": {\"tipo\": \"cardinale\", \"note\": \"\", \"unità di misura\": \"cm\"},\n",
    " \"peso\": {\"tipo\": \"cardinale\", \"note\": \"\", \"unità di misura\": \"km\"},\n",
    " \"allineamento politico 5\": {\"tipo\": \"ordinale\", \"modalità\": \n",
    "                           {1: \"sinistra\",\n",
    "                            2: \"centro sinistra\",\n",
    "                            3: \"centro\",\n",
    "                            4: \"centro destra\",\n",
    "                            5: \"destra\"}  ,\"note\": \"\"},\n",
    " \"paese di origine\": {\"tipo\": \"categoriale\", \"note\": \"domanda a risposta aperta, richiede recodifica per utilizzo\"} \n",
    "}"
   ]
  },
  {
   "cell_type": "code",
   "execution_count": 5,
   "metadata": {},
   "outputs": [
    {
     "data": {
      "text/plain": [
       "dict_keys(['età', 'altezza', 'peso', 'allineamento politico 5', 'paese di origine'])"
      ]
     },
     "execution_count": 5,
     "metadata": {},
     "output_type": "execute_result"
    }
   ],
   "source": [
    "prop.keys()"
   ]
  },
  {
   "cell_type": "code",
   "execution_count": 6,
   "metadata": {},
   "outputs": [
    {
     "data": {
      "text/plain": [
       "dict_keys([1, 2, 3, 4, 5])"
      ]
     },
     "execution_count": 6,
     "metadata": {},
     "output_type": "execute_result"
    }
   ],
   "source": [
    "prop['allineamento politico 5'][\"modalità\"].keys()"
   ]
  },
  {
   "cell_type": "code",
   "execution_count": 7,
   "metadata": {},
   "outputs": [
    {
     "data": {
      "text/html": [
       "<div>\n",
       "<style scoped>\n",
       "    .dataframe tbody tr th:only-of-type {\n",
       "        vertical-align: middle;\n",
       "    }\n",
       "\n",
       "    .dataframe tbody tr th {\n",
       "        vertical-align: top;\n",
       "    }\n",
       "\n",
       "    .dataframe thead th {\n",
       "        text-align: right;\n",
       "    }\n",
       "</style>\n",
       "<table border=\"1\" class=\"dataframe\">\n",
       "  <thead>\n",
       "    <tr style=\"text-align: right;\">\n",
       "      <th></th>\n",
       "      <th>allineamento politico 5</th>\n",
       "    </tr>\n",
       "  </thead>\n",
       "  <tbody>\n",
       "    <tr>\n",
       "      <th>0</th>\n",
       "      <td>1</td>\n",
       "    </tr>\n",
       "    <tr>\n",
       "      <th>1</th>\n",
       "      <td>2</td>\n",
       "    </tr>\n",
       "    <tr>\n",
       "      <th>2</th>\n",
       "      <td>3</td>\n",
       "    </tr>\n",
       "    <tr>\n",
       "      <th>3</th>\n",
       "      <td>2</td>\n",
       "    </tr>\n",
       "    <tr>\n",
       "      <th>4</th>\n",
       "      <td>2</td>\n",
       "    </tr>\n",
       "    <tr>\n",
       "      <th>5</th>\n",
       "      <td>1</td>\n",
       "    </tr>\n",
       "    <tr>\n",
       "      <th>6</th>\n",
       "      <td>3</td>\n",
       "    </tr>\n",
       "    <tr>\n",
       "      <th>7</th>\n",
       "      <td>2</td>\n",
       "    </tr>\n",
       "    <tr>\n",
       "      <th>8</th>\n",
       "      <td>4</td>\n",
       "    </tr>\n",
       "    <tr>\n",
       "      <th>9</th>\n",
       "      <td>5</td>\n",
       "    </tr>\n",
       "    <tr>\n",
       "      <th>10</th>\n",
       "      <td>4</td>\n",
       "    </tr>\n",
       "    <tr>\n",
       "      <th>11</th>\n",
       "      <td>3</td>\n",
       "    </tr>\n",
       "    <tr>\n",
       "      <th>12</th>\n",
       "      <td>4</td>\n",
       "    </tr>\n",
       "  </tbody>\n",
       "</table>\n",
       "</div>"
      ],
      "text/plain": [
       "    allineamento politico 5\n",
       "0                         1\n",
       "1                         2\n",
       "2                         3\n",
       "3                         2\n",
       "4                         2\n",
       "5                         1\n",
       "6                         3\n",
       "7                         2\n",
       "8                         4\n",
       "9                         5\n",
       "10                        4\n",
       "11                        3\n",
       "12                        4"
      ]
     },
     "execution_count": 7,
     "metadata": {},
     "output_type": "execute_result"
    }
   ],
   "source": [
    "pd.DataFrame([1,2,3,2,2,1,3,2,4,5,4,3,4], columns = [\"allineamento politico 5\"])"
   ]
  },
  {
   "cell_type": "code",
   "execution_count": 8,
   "metadata": {},
   "outputs": [
    {
     "data": {
      "text/plain": [
       "dict_keys([1, 2, 3, 4, 5])"
      ]
     },
     "execution_count": 8,
     "metadata": {},
     "output_type": "execute_result"
    }
   ],
   "source": [
    "prop[\"allineamento politico 5\"][\"modalità\"].keys()"
   ]
  },
  {
   "cell_type": "code",
   "execution_count": 11,
   "metadata": {},
   "outputs": [
    {
     "data": {
      "text/html": [
       "<div>\n",
       "<style scoped>\n",
       "    .dataframe tbody tr th:only-of-type {\n",
       "        vertical-align: middle;\n",
       "    }\n",
       "\n",
       "    .dataframe tbody tr th {\n",
       "        vertical-align: top;\n",
       "    }\n",
       "\n",
       "    .dataframe thead th {\n",
       "        text-align: right;\n",
       "    }\n",
       "</style>\n",
       "<table border=\"1\" class=\"dataframe\">\n",
       "  <thead>\n",
       "    <tr style=\"text-align: right;\">\n",
       "      <th></th>\n",
       "      <th>Frequenze</th>\n",
       "      <th>Percentuale</th>\n",
       "      <th>Cumulata</th>\n",
       "    </tr>\n",
       "  </thead>\n",
       "  <tbody>\n",
       "    <tr>\n",
       "      <th>1</th>\n",
       "      <td>2.0</td>\n",
       "      <td>15.38</td>\n",
       "      <td>15.3846</td>\n",
       "    </tr>\n",
       "    <tr>\n",
       "      <th>2</th>\n",
       "      <td>4.0</td>\n",
       "      <td>30.77</td>\n",
       "      <td>46.1538</td>\n",
       "    </tr>\n",
       "    <tr>\n",
       "      <th>3</th>\n",
       "      <td>3.0</td>\n",
       "      <td>23.08</td>\n",
       "      <td>69.2308</td>\n",
       "    </tr>\n",
       "    <tr>\n",
       "      <th>4</th>\n",
       "      <td>3.0</td>\n",
       "      <td>23.08</td>\n",
       "      <td>92.3077</td>\n",
       "    </tr>\n",
       "    <tr>\n",
       "      <th>5</th>\n",
       "      <td>1.0</td>\n",
       "      <td>7.69</td>\n",
       "      <td>100</td>\n",
       "    </tr>\n",
       "    <tr>\n",
       "      <th>Totale</th>\n",
       "      <td>13.0</td>\n",
       "      <td>100.00</td>\n",
       "      <td></td>\n",
       "    </tr>\n",
       "  </tbody>\n",
       "</table>\n",
       "</div>"
      ],
      "text/plain": [
       "        Frequenze  Percentuale Cumulata\n",
       "1             2.0        15.38  15.3846\n",
       "2             4.0        30.77  46.1538\n",
       "3             3.0        23.08  69.2308\n",
       "4             3.0        23.08  92.3077\n",
       "5             1.0         7.69      100\n",
       "Totale       13.0       100.00         "
      ]
     },
     "execution_count": 11,
     "metadata": {},
     "output_type": "execute_result"
    }
   ],
   "source": [
    "tabella1 = dist_frequenza(pd.DataFrame([1,2,3,2,2,1,3,2,4,5,4,3,4]), 0, \n",
    "               tipo = \"ordinale\", \n",
    "               lista_ordinale = prop[\"allineamento politico 5\"][\"modalità\"].keys()\n",
    "              )\n",
    "tabella1"
   ]
  },
  {
   "cell_type": "code",
   "execution_count": 12,
   "metadata": {},
   "outputs": [],
   "source": [
    "tabella1.index = tabella1.index.map(lambda x: recode_da_dizionario(x, prop[\"allineamento politico 5\"][\"modalità\"]))"
   ]
  },
  {
   "cell_type": "code",
   "execution_count": 13,
   "metadata": {},
   "outputs": [
    {
     "data": {
      "text/html": [
       "<div>\n",
       "<style scoped>\n",
       "    .dataframe tbody tr th:only-of-type {\n",
       "        vertical-align: middle;\n",
       "    }\n",
       "\n",
       "    .dataframe tbody tr th {\n",
       "        vertical-align: top;\n",
       "    }\n",
       "\n",
       "    .dataframe thead th {\n",
       "        text-align: right;\n",
       "    }\n",
       "</style>\n",
       "<table border=\"1\" class=\"dataframe\">\n",
       "  <thead>\n",
       "    <tr style=\"text-align: right;\">\n",
       "      <th></th>\n",
       "      <th>Frequenze</th>\n",
       "      <th>Percentuale</th>\n",
       "      <th>Cumulata</th>\n",
       "    </tr>\n",
       "  </thead>\n",
       "  <tbody>\n",
       "    <tr>\n",
       "      <th>sinistra</th>\n",
       "      <td>2.0</td>\n",
       "      <td>15.38</td>\n",
       "      <td>15.3846</td>\n",
       "    </tr>\n",
       "    <tr>\n",
       "      <th>centro sinistra</th>\n",
       "      <td>4.0</td>\n",
       "      <td>30.77</td>\n",
       "      <td>46.1538</td>\n",
       "    </tr>\n",
       "    <tr>\n",
       "      <th>centro</th>\n",
       "      <td>3.0</td>\n",
       "      <td>23.08</td>\n",
       "      <td>69.2308</td>\n",
       "    </tr>\n",
       "    <tr>\n",
       "      <th>centro destra</th>\n",
       "      <td>3.0</td>\n",
       "      <td>23.08</td>\n",
       "      <td>92.3077</td>\n",
       "    </tr>\n",
       "    <tr>\n",
       "      <th>destra</th>\n",
       "      <td>1.0</td>\n",
       "      <td>7.69</td>\n",
       "      <td>100</td>\n",
       "    </tr>\n",
       "    <tr>\n",
       "      <th>Totale</th>\n",
       "      <td>13.0</td>\n",
       "      <td>100.00</td>\n",
       "      <td></td>\n",
       "    </tr>\n",
       "  </tbody>\n",
       "</table>\n",
       "</div>"
      ],
      "text/plain": [
       "                 Frequenze  Percentuale Cumulata\n",
       "sinistra               2.0        15.38  15.3846\n",
       "centro sinistra        4.0        30.77  46.1538\n",
       "centro                 3.0        23.08  69.2308\n",
       "centro destra          3.0        23.08  92.3077\n",
       "destra                 1.0         7.69      100\n",
       "Totale                13.0       100.00         "
      ]
     },
     "execution_count": 13,
     "metadata": {},
     "output_type": "execute_result"
    }
   ],
   "source": [
    "tabella1"
   ]
  },
  {
   "cell_type": "code",
   "execution_count": 19,
   "metadata": {},
   "outputs": [
    {
     "name": "stdout",
     "output_type": "stream",
     "text": [
      "Help on function plot_dist_frequenza in module marradi:\n",
      "\n",
      "plot_dist_frequenza(distribuzione, tipo='categoriale', Y='Percentuale', x_label='Valori', y_label='Percentuale', figsize=(12, 8))\n",
      "    distribuzione: inserire risultato della funzione dist_frequenza\n",
      "    tipo: \n",
      "        \"categoriale\": classi non ordinate\n",
      "        \"ordinale\": classi ordinate\n",
      "        \"cardinale\": valori numerici\n",
      "    x_label: etichetta asse x\n",
      "    y_label: etichetta_asse y\n",
      "\n"
     ]
    }
   ],
   "source": [
    "help(plot_dist_frequenza)"
   ]
  },
  {
   "cell_type": "code",
   "execution_count": 18,
   "metadata": {},
   "outputs": [
    {
     "data": {
      "text/plain": [
       "<matplotlib.axes._subplots.AxesSubplot at 0x7f72cc65a898>"
      ]
     },
     "execution_count": 18,
     "metadata": {},
     "output_type": "execute_result"
    },
    {
     "data": {
      "image/png": "[encoded data removed]",
      "text/plain": [
       "<matplotlib.figure.Figure at 0x7f72cc600ef0>"
      ]
     },
     "metadata": {},
     "output_type": "display_data"
    }
   ],
   "source": [
    "plot_dist_frequenza(tabella1, tipo='ordinale')\n"
   ]
  },
  {
   "cell_type": "code",
   "execution_count": null,
   "metadata": {},
   "outputs": [],
   "source": []
  }
 ],
 "metadata": {
  "kernelspec": {
   "display_name": "Python 3",
   "language": "python",
   "name": "python3"
  },
  "language_info": {
   "codemirror_mode": {
    "name": "ipython",
    "version": 3
   },
   "file_extension": ".py",
   "mimetype": "text/x-python",
   "name": "python",
   "nbconvert_exporter": "python",
   "pygments_lexer": "ipython3",
   "version": "3.6.4"
  }
 },
 "nbformat": 4,
 "nbformat_minor": 2
}
