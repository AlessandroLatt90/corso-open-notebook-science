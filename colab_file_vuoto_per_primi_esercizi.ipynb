{
  "nbformat": 4,
  "nbformat_minor": 0,
  "metadata": {
    "colab": {
      "name": "colab_file_vuoto_per_primi_esercizi.ipynb",
      "provenance": [],
      "include_colab_link": true
    },
    "kernelspec": {
      "name": "python3",
      "display_name": "Python 3"
    }
  },
  "cells": [
    {
      "cell_type": "markdown",
      "metadata": {
        "id": "view-in-github",
        "colab_type": "text"
      },
      "source": [
        "<a href=\"https://colab.research.google.com/github/datalifelab/corso-open-notebook-science/blob/master/colab_file_vuoto_per_primi_esercizi.ipynb\" target=\"_parent\"><img src=\"https://colab.research.google.com/assets/colab-badge.svg\" alt=\"Open In Colab\"/></a>"
      ]
    },
    {
      "cell_type": "markdown",
      "metadata": {
        "id": "_-IU5-7ngFNf",
        "colab_type": "text"
      },
      "source": [
        "# File di colaboratory per primi esercizi"
      ]
    },
    {
      "cell_type": "code",
      "metadata": {
        "id": "LziGTvTZfvw2",
        "colab_type": "code",
        "colab": {}
      },
      "source": [
        ""
      ],
      "execution_count": 0,
      "outputs": []
    }
  ]
}